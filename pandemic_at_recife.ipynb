{
  "nbformat": 4,
  "nbformat_minor": 0,
  "metadata": {
    "colab": {
      "name": "pandemic_at_recife.ipynb",
      "provenance": [],
      "collapsed_sections": [
        "NNmhwOKKz3Mm"
      ],
      "authorship_tag": "ABX9TyNDs0+r7tNIrQ1PG/gh/l4L",
      "include_colab_link": true
    },
    "kernelspec": {
      "name": "python3",
      "display_name": "Python 3"
    },
    "language_info": {
      "name": "python"
    }
  },
  "cells": [
    {
      "cell_type": "markdown",
      "metadata": {
        "id": "view-in-github",
        "colab_type": "text"
      },
      "source": [
        "<a href=\"https://colab.research.google.com/github/agenorrneto/pandemia_recife/blob/main/pandemic_at_recife.ipynb\" target=\"_parent\"><img src=\"https://colab.research.google.com/assets/colab-badge.svg\" alt=\"Open In Colab\"/></a>"
      ]
    },
    {
      "cell_type": "markdown",
      "metadata": {
        "id": "LDzUe157nnjv"
      },
      "source": [
        "##Análise de dados referentes a pandemia na cidade do Recife, Pernambuco, Brasil\n"
      ]
    },
    {
      "cell_type": "markdown",
      "metadata": {
        "id": "8tZNppv3nzWL"
      },
      "source": [
        "###Média movel de casos positivos, óbitos e casos graves confirmados"
      ]
    },
    {
      "cell_type": "markdown",
      "metadata": {
        "id": "qAIgfNwWoBNG"
      },
      "source": [
        "Importando pacotes necessários para a análise"
      ]
    },
    {
      "cell_type": "code",
      "metadata": {
        "colab": {
          "base_uri": "https://localhost:8080/"
        },
        "id": "IwFKO8dM0g_a",
        "outputId": "8d6ad827-0d13-4415-d144-c5f78417aa5a"
      },
      "source": [
        "!pip install geopandas"
      ],
      "execution_count": 87,
      "outputs": [
        {
          "output_type": "stream",
          "name": "stdout",
          "text": [
            "Requirement already satisfied: geopandas in /usr/local/lib/python3.7/dist-packages (0.10.2)\n",
            "Requirement already satisfied: shapely>=1.6 in /usr/local/lib/python3.7/dist-packages (from geopandas) (1.8.0)\n",
            "Requirement already satisfied: pyproj>=2.2.0 in /usr/local/lib/python3.7/dist-packages (from geopandas) (3.2.1)\n",
            "Requirement already satisfied: pandas>=0.25.0 in /usr/local/lib/python3.7/dist-packages (from geopandas) (1.1.5)\n",
            "Requirement already satisfied: fiona>=1.8 in /usr/local/lib/python3.7/dist-packages (from geopandas) (1.8.20)\n",
            "Requirement already satisfied: attrs>=17 in /usr/local/lib/python3.7/dist-packages (from fiona>=1.8->geopandas) (21.2.0)\n",
            "Requirement already satisfied: setuptools in /usr/local/lib/python3.7/dist-packages (from fiona>=1.8->geopandas) (57.4.0)\n",
            "Requirement already satisfied: click>=4.0 in /usr/local/lib/python3.7/dist-packages (from fiona>=1.8->geopandas) (7.1.2)\n",
            "Requirement already satisfied: six>=1.7 in /usr/local/lib/python3.7/dist-packages (from fiona>=1.8->geopandas) (1.15.0)\n",
            "Requirement already satisfied: munch in /usr/local/lib/python3.7/dist-packages (from fiona>=1.8->geopandas) (2.5.0)\n",
            "Requirement already satisfied: certifi in /usr/local/lib/python3.7/dist-packages (from fiona>=1.8->geopandas) (2021.10.8)\n",
            "Requirement already satisfied: cligj>=0.5 in /usr/local/lib/python3.7/dist-packages (from fiona>=1.8->geopandas) (0.7.2)\n",
            "Requirement already satisfied: click-plugins>=1.0 in /usr/local/lib/python3.7/dist-packages (from fiona>=1.8->geopandas) (1.1.1)\n",
            "Requirement already satisfied: python-dateutil>=2.7.3 in /usr/local/lib/python3.7/dist-packages (from pandas>=0.25.0->geopandas) (2.8.2)\n",
            "Requirement already satisfied: numpy>=1.15.4 in /usr/local/lib/python3.7/dist-packages (from pandas>=0.25.0->geopandas) (1.19.5)\n",
            "Requirement already satisfied: pytz>=2017.2 in /usr/local/lib/python3.7/dist-packages (from pandas>=0.25.0->geopandas) (2018.9)\n"
          ]
        }
      ]
    },
    {
      "cell_type": "code",
      "metadata": {
        "colab": {
          "base_uri": "https://localhost:8080/"
        },
        "id": "YYYnysrhFHPu",
        "outputId": "4bcc1967-2966-4db9-e8bf-4909ba4ccb91"
      },
      "source": [
        "!pip install statsmodels"
      ],
      "execution_count": 88,
      "outputs": [
        {
          "output_type": "stream",
          "name": "stdout",
          "text": [
            "Requirement already satisfied: statsmodels in /usr/local/lib/python3.7/dist-packages (0.10.2)\n",
            "Requirement already satisfied: scipy>=0.18 in /usr/local/lib/python3.7/dist-packages (from statsmodels) (1.4.1)\n",
            "Requirement already satisfied: patsy>=0.4.0 in /usr/local/lib/python3.7/dist-packages (from statsmodels) (0.5.2)\n",
            "Requirement already satisfied: pandas>=0.19 in /usr/local/lib/python3.7/dist-packages (from statsmodels) (1.1.5)\n",
            "Requirement already satisfied: numpy>=1.11 in /usr/local/lib/python3.7/dist-packages (from statsmodels) (1.19.5)\n",
            "Requirement already satisfied: python-dateutil>=2.7.3 in /usr/local/lib/python3.7/dist-packages (from pandas>=0.19->statsmodels) (2.8.2)\n",
            "Requirement already satisfied: pytz>=2017.2 in /usr/local/lib/python3.7/dist-packages (from pandas>=0.19->statsmodels) (2018.9)\n",
            "Requirement already satisfied: six in /usr/local/lib/python3.7/dist-packages (from patsy>=0.4.0->statsmodels) (1.15.0)\n"
          ]
        }
      ]
    },
    {
      "cell_type": "code",
      "metadata": {
        "colab": {
          "base_uri": "https://localhost:8080/"
        },
        "id": "Ybby6PtrFJDg",
        "outputId": "c72c9663-b10e-44ce-a9e4-96613b282f43"
      },
      "source": [
        "!pip install unidecode"
      ],
      "execution_count": 89,
      "outputs": [
        {
          "output_type": "stream",
          "name": "stdout",
          "text": [
            "Requirement already satisfied: unidecode in /usr/local/lib/python3.7/dist-packages (1.3.2)\n"
          ]
        }
      ]
    },
    {
      "cell_type": "code",
      "metadata": {
        "id": "Zg7gjHNf83GW"
      },
      "source": [
        "import pandas as pd\n",
        "import matplotlib.pyplot as plt\n",
        "import numpy as np\n",
        "import seaborn as sns\n",
        "import matplotlib.transforms as mtransforms\n",
        "from matplotlib import cm\n",
        "from matplotlib.colors import Normalize\n",
        "import geopandas as gpd\n",
        "import unidecode"
      ],
      "execution_count": 90,
      "outputs": []
    },
    {
      "cell_type": "markdown",
      "metadata": {
        "id": "ZblxF9aYoaXm"
      },
      "source": [
        "Recuperando os dados a partir da base de dados da prefeitura"
      ]
    },
    {
      "cell_type": "code",
      "metadata": {
        "id": "gOmpS_jG9U8D"
      },
      "source": [
        "#url = \"http://dados.recife.pe.gov.br/dataset/2b5ee58d-9535-4d80-ab32-f63fd475346e/resource/93f4e8c2-430f-4142-86b3-96dab4905b4e/download/casosgravescovid.csv\"\n",
        "\n",
        "graves = pd.read_csv(\"casosgravescovid.csv\", sep=';')"
      ],
      "execution_count": 91,
      "outputs": []
    },
    {
      "cell_type": "markdown",
      "metadata": {
        "id": "JI-gaboLoM70"
      },
      "source": [
        "É necessário utilizar apenas as *rows* de casos do município onde possamos saber o bairro. Primeiro podemos checar se existem casos de notificação feita em outro município. Depois disso, podemos excluir essas rows que são de outros municípios. "
      ]
    },
    {
      "cell_type": "code",
      "metadata": {
        "colab": {
          "base_uri": "https://localhost:8080/",
          "height": 382
        },
        "id": "1NA6xGn8opkN",
        "outputId": "0fbf3dd5-7443-4416-fce2-4dec28cafb20"
      },
      "source": [
        "graves[(graves['municipio_notificacao'] != \"Recife\") & (graves['municipio_notificacao'] != \"RECIFE\")]"
      ],
      "execution_count": 92,
      "outputs": [
        {
          "output_type": "execute_result",
          "data": {
            "text/html": [
              "<div>\n",
              "<style scoped>\n",
              "    .dataframe tbody tr th:only-of-type {\n",
              "        vertical-align: middle;\n",
              "    }\n",
              "\n",
              "    .dataframe tbody tr th {\n",
              "        vertical-align: top;\n",
              "    }\n",
              "\n",
              "    .dataframe thead th {\n",
              "        text-align: right;\n",
              "    }\n",
              "</style>\n",
              "<table border=\"1\" class=\"dataframe\">\n",
              "  <thead>\n",
              "    <tr style=\"text-align: right;\">\n",
              "      <th></th>\n",
              "      <th>data_notificacao</th>\n",
              "      <th>sexo</th>\n",
              "      <th>idade</th>\n",
              "      <th>data_inicio_sintomas</th>\n",
              "      <th>raca</th>\n",
              "      <th>etnia</th>\n",
              "      <th>sintomas_apresentados</th>\n",
              "      <th>outros_sintomas</th>\n",
              "      <th>doencas_preexistentes</th>\n",
              "      <th>outras_doencas_preexistentes</th>\n",
              "      <th>evolucao</th>\n",
              "      <th>classificacao_final</th>\n",
              "      <th>data_obito</th>\n",
              "      <th>profissional_saude</th>\n",
              "      <th>categoria_profissional</th>\n",
              "      <th>municipio_notificacao</th>\n",
              "      <th>bairro</th>\n",
              "      <th>ds</th>\n",
              "    </tr>\n",
              "  </thead>\n",
              "  <tbody>\n",
              "    <tr>\n",
              "      <th>10120</th>\n",
              "      <td>2021-09-25</td>\n",
              "      <td>Feminino</td>\n",
              "      <td>75</td>\n",
              "      <td>2021-09-20</td>\n",
              "      <td>Ignorado</td>\n",
              "      <td>NaN</td>\n",
              "      <td>Tosse, Dispneia, Cansaço/fadiga, Náusea, Satur...</td>\n",
              "      <td>NaN</td>\n",
              "      <td>Doenças Cardíacas ou Vasculares, Diabetes</td>\n",
              "      <td>AVC</td>\n",
              "      <td>INTERNADO LEITO DE ISOLAMENTO</td>\n",
              "      <td>EM ANÁLISE</td>\n",
              "      <td>NaN</td>\n",
              "      <td>NÃO</td>\n",
              "      <td>NaN</td>\n",
              "      <td>GOIANA</td>\n",
              "      <td>IGN</td>\n",
              "      <td>IGN</td>\n",
              "    </tr>\n",
              "    <tr>\n",
              "      <th>23704</th>\n",
              "      <td>2021-09-22</td>\n",
              "      <td>Feminino</td>\n",
              "      <td>50</td>\n",
              "      <td>2021-09-02</td>\n",
              "      <td>Parda</td>\n",
              "      <td>NaN</td>\n",
              "      <td>Tosse, Dispneia, Saturação O2 &lt; 95</td>\n",
              "      <td>NaN</td>\n",
              "      <td>NaN</td>\n",
              "      <td>DPOC</td>\n",
              "      <td>INTERNADO LEITO DE ISOLAMENTO</td>\n",
              "      <td>EM ANÁLISE</td>\n",
              "      <td>NaN</td>\n",
              "      <td>NÃO</td>\n",
              "      <td>NaN</td>\n",
              "      <td>Jaboatao dos Guararapes</td>\n",
              "      <td>IGN</td>\n",
              "      <td>IGN</td>\n",
              "    </tr>\n",
              "    <tr>\n",
              "      <th>27342</th>\n",
              "      <td>2021-09-23</td>\n",
              "      <td>Feminino</td>\n",
              "      <td>27</td>\n",
              "      <td>2021-09-22</td>\n",
              "      <td>Ignorado</td>\n",
              "      <td>NaN</td>\n",
              "      <td>Dispneia</td>\n",
              "      <td>NaN</td>\n",
              "      <td>NaN</td>\n",
              "      <td>HIV</td>\n",
              "      <td>INTERNADO UTI</td>\n",
              "      <td>EM ANÁLISE</td>\n",
              "      <td>NaN</td>\n",
              "      <td>NÃO</td>\n",
              "      <td>NaN</td>\n",
              "      <td>JABOATAO</td>\n",
              "      <td>IGN</td>\n",
              "      <td>IGN</td>\n",
              "    </tr>\n",
              "    <tr>\n",
              "      <th>30737</th>\n",
              "      <td>2021-09-24</td>\n",
              "      <td>Feminino</td>\n",
              "      <td>6 meses</td>\n",
              "      <td>2021-09-20</td>\n",
              "      <td>Parda</td>\n",
              "      <td>NaN</td>\n",
              "      <td>Febre, Tosse, Dispneia, Desconforto respiratór...</td>\n",
              "      <td>NaN</td>\n",
              "      <td>NaN</td>\n",
              "      <td>NaN</td>\n",
              "      <td>INTERNADO LEITO DE ISOLAMENTO</td>\n",
              "      <td>EM ANÁLISE</td>\n",
              "      <td>NaN</td>\n",
              "      <td>NÃO</td>\n",
              "      <td>NaN</td>\n",
              "      <td>JABOATÃO</td>\n",
              "      <td>IGN</td>\n",
              "      <td>IGN</td>\n",
              "    </tr>\n",
              "    <tr>\n",
              "      <th>30738</th>\n",
              "      <td>2021-09-24</td>\n",
              "      <td>Masculino</td>\n",
              "      <td>4 meses</td>\n",
              "      <td>2021-09-17</td>\n",
              "      <td>Parda</td>\n",
              "      <td>NaN</td>\n",
              "      <td>Febre, Tosse, Dispneia, Desconforto respiratór...</td>\n",
              "      <td>NaN</td>\n",
              "      <td>NaN</td>\n",
              "      <td>NaN</td>\n",
              "      <td>INTERNADO LEITO DE ISOLAMENTO</td>\n",
              "      <td>EM ANÁLISE</td>\n",
              "      <td>NaN</td>\n",
              "      <td>NÃO</td>\n",
              "      <td>NaN</td>\n",
              "      <td>IPOJUCA</td>\n",
              "      <td>IGN</td>\n",
              "      <td>IGN</td>\n",
              "    </tr>\n",
              "  </tbody>\n",
              "</table>\n",
              "</div>"
            ],
            "text/plain": [
              "      data_notificacao       sexo    idade  ...    municipio_notificacao bairro   ds\n",
              "10120       2021-09-25   Feminino       75  ...                   GOIANA    IGN  IGN\n",
              "23704       2021-09-22   Feminino       50  ...  Jaboatao dos Guararapes    IGN  IGN\n",
              "27342       2021-09-23   Feminino       27  ...                 JABOATAO    IGN  IGN\n",
              "30737       2021-09-24   Feminino  6 meses  ...                 JABOATÃO    IGN  IGN\n",
              "30738       2021-09-24  Masculino  4 meses  ...                  IPOJUCA    IGN  IGN\n",
              "\n",
              "[5 rows x 18 columns]"
            ]
          },
          "metadata": {},
          "execution_count": 92
        }
      ]
    },
    {
      "cell_type": "code",
      "metadata": {
        "id": "DrKVd9BR9apN"
      },
      "source": [
        "to_drop = graves[(graves['municipio_notificacao'] != \"Recife\") & (graves['municipio_notificacao'] != \"RECIFE\")].index\n",
        "graves.drop(to_drop, axis=0, inplace=True)"
      ],
      "execution_count": 93,
      "outputs": []
    },
    {
      "cell_type": "markdown",
      "metadata": {
        "id": "ILw-x7tkqO6k"
      },
      "source": [
        "Excluidos essas linhas indesejadas, vamos checar os bairros desses casos notificados no município do Recife. Feito isso, podemos ver que alguns estão em caixa alta e outros, não. É importante normalizar esse dados de modo que dois bairros não sejam contados duas vezes. Fazemos isso também para o município de notificação."
      ]
    },
    {
      "cell_type": "code",
      "metadata": {
        "colab": {
          "base_uri": "https://localhost:8080/"
        },
        "id": "stCDEAjUCrSg",
        "outputId": "b7d4d41d-015b-41aa-f118-4ced2c2e3554"
      },
      "source": [
        "graves.bairro.unique()"
      ],
      "execution_count": 94,
      "outputs": [
        {
          "output_type": "execute_result",
          "data": {
            "text/plain": [
              "array(['PASSARINHO', 'BOA VIAGEM', 'DOIS UNIDOS', 'NOVA DESCOBERTA',\n",
              "       'IPUTINGA', 'MACAXEIRA', 'IBURA', 'AREIAS', 'IGN', 'AFOGADOS',\n",
              "       'TORROES', 'JORDAO', 'ALTO DO MANDU', 'ILHA JOANA BEZERRA',\n",
              "       'IMBIRIBEIRA', 'CAXANGA', 'BARRO', 'GRACAS', 'MUSTARDINHA',\n",
              "       'SANTO AMARO', 'COHAB', 'LINHA DO TIRO', 'CAMPO GRANDE',\n",
              "       'ESTANCIA', 'FUNDAO', 'GUABIRABA', 'ESPINHEIRO', 'ZUMBI',\n",
              "       'JARDIM SAO PAULO', 'AGUA FRIA', 'BONGI', 'VARZEA', 'MANGABEIRA',\n",
              "       'TORRE', 'CASA AMARELA', 'IPSEP', 'CAMPINA DO BARRETO', 'MADALENA',\n",
              "       'CAJUEIRO', 'DERBY', 'MANGUEIRA', 'BRASILIA TEIMOSA', 'PINA',\n",
              "       'PRADO', 'BOA VISTA', 'ALTO SANTA TEREZINHA', 'BREJO DE BEBERIBE',\n",
              "       'ALTO JOSE BONIFACIO', 'VASCO DA GAMA', 'PEIXINHOS', 'CORDEIRO',\n",
              "       'SAN MARTIN', 'BREJO DA GUABIRABA', 'MORRO DA CONCEICAO',\n",
              "       'SAO JOSE', 'POCO', 'CASA FORTE', 'TAMARINEIRA',\n",
              "       'ALTO JOSE DO PINHO', 'BOMBA DO HEMETERIO', 'TEJIPIO',\n",
              "       'CORREGO DO JENIPAPO', 'ARRUDA', 'AFLITOS', 'APIPUCOS', 'CURADO',\n",
              "       'ROSARINHO', 'CACOTE', 'ENGENHO DO MEIO', 'DOIS IRMAOS',\n",
              "       'SITIO DOS PINTOS', 'JIQUIA', 'SANTO ANTONIO', 'TOTO',\n",
              "       'ENCRUZILHADA', 'BEBERIBE', 'COELHOS', 'PARNAMIRIM',\n",
              "       'ILHA DO RETIRO', 'SANCHO', 'PORTO DA MADEIRA', 'TORREAO',\n",
              "       'JAQUEIRA', 'COQUEIRAL', 'MONTEIRO', 'RECIFE', 'Cordeiro', 'Derby',\n",
              "       'ILHA DO LEITE', 'PONTO DE PARADA', 'HIPODROMO',\n",
              "       'CIDADE UNIVERSITARIA', 'PAISSANDU', 'CABANGA', 'SOLEDADE',\n",
              "       'SANTANA', 'Paissandu', 'Afogados', 'Engenho do Meio',\n",
              "       'Engenho Do Meio', 'Imbiribeira', 'PAU FERRO', 'Aflitos'],\n",
              "      dtype=object)"
            ]
          },
          "metadata": {},
          "execution_count": 94
        }
      ]
    },
    {
      "cell_type": "code",
      "metadata": {
        "id": "P9qtsNgfDNO2"
      },
      "source": [
        "def upper_cell(item):\n",
        "  return item.upper()"
      ],
      "execution_count": 95,
      "outputs": []
    },
    {
      "cell_type": "code",
      "metadata": {
        "id": "ZnXYV-7DDgsO"
      },
      "source": [
        "graves['municipio_notificacao'] = graves['municipio_notificacao'].map(upper_cell)"
      ],
      "execution_count": 96,
      "outputs": []
    },
    {
      "cell_type": "code",
      "metadata": {
        "colab": {
          "base_uri": "https://localhost:8080/"
        },
        "id": "z3d3PRruEWY7",
        "outputId": "418d59f3-d914-40ba-c4d8-365eaff9cd52"
      },
      "source": [
        "graves.bairro.unique()"
      ],
      "execution_count": 97,
      "outputs": [
        {
          "output_type": "execute_result",
          "data": {
            "text/plain": [
              "array(['PASSARINHO', 'BOA VIAGEM', 'DOIS UNIDOS', 'NOVA DESCOBERTA',\n",
              "       'IPUTINGA', 'MACAXEIRA', 'IBURA', 'AREIAS', 'IGN', 'AFOGADOS',\n",
              "       'TORROES', 'JORDAO', 'ALTO DO MANDU', 'ILHA JOANA BEZERRA',\n",
              "       'IMBIRIBEIRA', 'CAXANGA', 'BARRO', 'GRACAS', 'MUSTARDINHA',\n",
              "       'SANTO AMARO', 'COHAB', 'LINHA DO TIRO', 'CAMPO GRANDE',\n",
              "       'ESTANCIA', 'FUNDAO', 'GUABIRABA', 'ESPINHEIRO', 'ZUMBI',\n",
              "       'JARDIM SAO PAULO', 'AGUA FRIA', 'BONGI', 'VARZEA', 'MANGABEIRA',\n",
              "       'TORRE', 'CASA AMARELA', 'IPSEP', 'CAMPINA DO BARRETO', 'MADALENA',\n",
              "       'CAJUEIRO', 'DERBY', 'MANGUEIRA', 'BRASILIA TEIMOSA', 'PINA',\n",
              "       'PRADO', 'BOA VISTA', 'ALTO SANTA TEREZINHA', 'BREJO DE BEBERIBE',\n",
              "       'ALTO JOSE BONIFACIO', 'VASCO DA GAMA', 'PEIXINHOS', 'CORDEIRO',\n",
              "       'SAN MARTIN', 'BREJO DA GUABIRABA', 'MORRO DA CONCEICAO',\n",
              "       'SAO JOSE', 'POCO', 'CASA FORTE', 'TAMARINEIRA',\n",
              "       'ALTO JOSE DO PINHO', 'BOMBA DO HEMETERIO', 'TEJIPIO',\n",
              "       'CORREGO DO JENIPAPO', 'ARRUDA', 'AFLITOS', 'APIPUCOS', 'CURADO',\n",
              "       'ROSARINHO', 'CACOTE', 'ENGENHO DO MEIO', 'DOIS IRMAOS',\n",
              "       'SITIO DOS PINTOS', 'JIQUIA', 'SANTO ANTONIO', 'TOTO',\n",
              "       'ENCRUZILHADA', 'BEBERIBE', 'COELHOS', 'PARNAMIRIM',\n",
              "       'ILHA DO RETIRO', 'SANCHO', 'PORTO DA MADEIRA', 'TORREAO',\n",
              "       'JAQUEIRA', 'COQUEIRAL', 'MONTEIRO', 'RECIFE', 'Cordeiro', 'Derby',\n",
              "       'ILHA DO LEITE', 'PONTO DE PARADA', 'HIPODROMO',\n",
              "       'CIDADE UNIVERSITARIA', 'PAISSANDU', 'CABANGA', 'SOLEDADE',\n",
              "       'SANTANA', 'Paissandu', 'Afogados', 'Engenho do Meio',\n",
              "       'Engenho Do Meio', 'Imbiribeira', 'PAU FERRO', 'Aflitos'],\n",
              "      dtype=object)"
            ]
          },
          "metadata": {},
          "execution_count": 97
        }
      ]
    },
    {
      "cell_type": "code",
      "metadata": {
        "id": "DtwddFKBE39l"
      },
      "source": [
        "graves['bairro'] = graves['bairro'].map(upper_cell)"
      ],
      "execution_count": 98,
      "outputs": []
    },
    {
      "cell_type": "code",
      "metadata": {
        "colab": {
          "base_uri": "https://localhost:8080/"
        },
        "id": "0Wa-1UNkFCVb",
        "outputId": "c008d672-2873-41e2-977e-746e5829cb04"
      },
      "source": [
        "graves.bairro.value_counts()"
      ],
      "execution_count": 99,
      "outputs": [
        {
          "output_type": "execute_result",
          "data": {
            "text/plain": [
              "BOA VIAGEM         2668\n",
              "VARZEA             1191\n",
              "IBURA              1171\n",
              "IPUTINGA            994\n",
              "COHAB               954\n",
              "                   ... \n",
              "TORREAO              38\n",
              "PONTO DE PARADA      37\n",
              "RECIFE               36\n",
              "CABANGA              34\n",
              "PAU FERRO             1\n",
              "Name: bairro, Length: 95, dtype: int64"
            ]
          },
          "metadata": {},
          "execution_count": 99
        }
      ]
    },
    {
      "cell_type": "markdown",
      "metadata": {
        "id": "bEz6WGdusHfw"
      },
      "source": [
        "A coluna data_notificação não está no seu data_type correto. É preciso convertê-la."
      ]
    },
    {
      "cell_type": "code",
      "metadata": {
        "colab": {
          "base_uri": "https://localhost:8080/"
        },
        "id": "tpCF27dnsIK5",
        "outputId": "1f58231f-7126-4cf3-a006-d1b0b9dfef0f"
      },
      "source": [
        "graves.info()"
      ],
      "execution_count": 100,
      "outputs": [
        {
          "output_type": "stream",
          "name": "stdout",
          "text": [
            "<class 'pandas.core.frame.DataFrame'>\n",
            "Int64Index: 30735 entries, 0 to 30739\n",
            "Data columns (total 18 columns):\n",
            " #   Column                        Non-Null Count  Dtype \n",
            "---  ------                        --------------  ----- \n",
            " 0   data_notificacao              30735 non-null  object\n",
            " 1   sexo                          30735 non-null  object\n",
            " 2   idade                         30735 non-null  object\n",
            " 3   data_inicio_sintomas          29703 non-null  object\n",
            " 4   raca                          24404 non-null  object\n",
            " 5   etnia                         3 non-null      object\n",
            " 6   sintomas_apresentados         28810 non-null  object\n",
            " 7   outros_sintomas               5005 non-null   object\n",
            " 8   doencas_preexistentes         10761 non-null  object\n",
            " 9   outras_doencas_preexistentes  6088 non-null   object\n",
            " 10  evolucao                      29898 non-null  object\n",
            " 11  classificacao_final           30735 non-null  object\n",
            " 12  data_obito                    7732 non-null   object\n",
            " 13  profissional_saude            21636 non-null  object\n",
            " 14  categoria_profissional        2892 non-null   object\n",
            " 15  municipio_notificacao         30735 non-null  object\n",
            " 16  bairro                        30735 non-null  object\n",
            " 17  ds                            30735 non-null  object\n",
            "dtypes: object(18)\n",
            "memory usage: 4.5+ MB\n"
          ]
        }
      ]
    },
    {
      "cell_type": "code",
      "metadata": {
        "id": "YR0mduJErala"
      },
      "source": [
        "graves['data_notificacao'] = pd.to_datetime(graves['data_notificacao'], format=\"%Y/%m/%d\")"
      ],
      "execution_count": 101,
      "outputs": []
    },
    {
      "cell_type": "code",
      "metadata": {
        "colab": {
          "base_uri": "https://localhost:8080/"
        },
        "id": "1hTY33vjsafl",
        "outputId": "8131025f-aeb4-48a3-cf99-97b175e4182f"
      },
      "source": [
        "graves.info()"
      ],
      "execution_count": 102,
      "outputs": [
        {
          "output_type": "stream",
          "name": "stdout",
          "text": [
            "<class 'pandas.core.frame.DataFrame'>\n",
            "Int64Index: 30735 entries, 0 to 30739\n",
            "Data columns (total 18 columns):\n",
            " #   Column                        Non-Null Count  Dtype         \n",
            "---  ------                        --------------  -----         \n",
            " 0   data_notificacao              30735 non-null  datetime64[ns]\n",
            " 1   sexo                          30735 non-null  object        \n",
            " 2   idade                         30735 non-null  object        \n",
            " 3   data_inicio_sintomas          29703 non-null  object        \n",
            " 4   raca                          24404 non-null  object        \n",
            " 5   etnia                         3 non-null      object        \n",
            " 6   sintomas_apresentados         28810 non-null  object        \n",
            " 7   outros_sintomas               5005 non-null   object        \n",
            " 8   doencas_preexistentes         10761 non-null  object        \n",
            " 9   outras_doencas_preexistentes  6088 non-null   object        \n",
            " 10  evolucao                      29898 non-null  object        \n",
            " 11  classificacao_final           30735 non-null  object        \n",
            " 12  data_obito                    7732 non-null   object        \n",
            " 13  profissional_saude            21636 non-null  object        \n",
            " 14  categoria_profissional        2892 non-null   object        \n",
            " 15  municipio_notificacao         30735 non-null  object        \n",
            " 16  bairro                        30735 non-null  object        \n",
            " 17  ds                            30735 non-null  object        \n",
            "dtypes: datetime64[ns](1), object(17)\n",
            "memory usage: 4.5+ MB\n"
          ]
        }
      ]
    },
    {
      "cell_type": "code",
      "metadata": {
        "colab": {
          "base_uri": "https://localhost:8080/"
        },
        "id": "lN3LvW-S87zO",
        "outputId": "4d510be5-6c27-49f9-9df3-f394c345f8ec"
      },
      "source": [
        "graves['data_notificacao'].value_counts()"
      ],
      "execution_count": 103,
      "outputs": [
        {
          "output_type": "execute_result",
          "data": {
            "text/plain": [
              "2020-04-23    464\n",
              "2020-04-13    405\n",
              "2020-05-11    373\n",
              "2020-04-14    346\n",
              "2020-04-22    333\n",
              "             ... \n",
              "2020-03-01      1\n",
              "2020-03-06      1\n",
              "2020-02-29      1\n",
              "2020-03-02      1\n",
              "2020-03-09      1\n",
              "Name: data_notificacao, Length: 576, dtype: int64"
            ]
          },
          "metadata": {},
          "execution_count": 103
        }
      ]
    },
    {
      "cell_type": "code",
      "metadata": {
        "id": "-iiLt4jURSeF"
      },
      "source": [
        "graves = graves[graves['classificacao_final'] == 'CONFIRMADO'] #Somente casos graves confirmados para SARS-CoV-2"
      ],
      "execution_count": 104,
      "outputs": []
    },
    {
      "cell_type": "code",
      "metadata": {
        "colab": {
          "base_uri": "https://localhost:8080/",
          "height": 686
        },
        "id": "1jIfe9FH-E7G",
        "outputId": "766577e0-d9dc-49a7-c619-ace7b3964315"
      },
      "source": [
        "graves"
      ],
      "execution_count": 105,
      "outputs": [
        {
          "output_type": "execute_result",
          "data": {
            "text/html": [
              "<div>\n",
              "<style scoped>\n",
              "    .dataframe tbody tr th:only-of-type {\n",
              "        vertical-align: middle;\n",
              "    }\n",
              "\n",
              "    .dataframe tbody tr th {\n",
              "        vertical-align: top;\n",
              "    }\n",
              "\n",
              "    .dataframe thead th {\n",
              "        text-align: right;\n",
              "    }\n",
              "</style>\n",
              "<table border=\"1\" class=\"dataframe\">\n",
              "  <thead>\n",
              "    <tr style=\"text-align: right;\">\n",
              "      <th></th>\n",
              "      <th>data_notificacao</th>\n",
              "      <th>sexo</th>\n",
              "      <th>idade</th>\n",
              "      <th>data_inicio_sintomas</th>\n",
              "      <th>raca</th>\n",
              "      <th>etnia</th>\n",
              "      <th>sintomas_apresentados</th>\n",
              "      <th>outros_sintomas</th>\n",
              "      <th>doencas_preexistentes</th>\n",
              "      <th>outras_doencas_preexistentes</th>\n",
              "      <th>evolucao</th>\n",
              "      <th>classificacao_final</th>\n",
              "      <th>data_obito</th>\n",
              "      <th>profissional_saude</th>\n",
              "      <th>categoria_profissional</th>\n",
              "      <th>municipio_notificacao</th>\n",
              "      <th>bairro</th>\n",
              "      <th>ds</th>\n",
              "    </tr>\n",
              "  </thead>\n",
              "  <tbody>\n",
              "    <tr>\n",
              "      <th>2</th>\n",
              "      <td>2021-01-08</td>\n",
              "      <td>Masculino</td>\n",
              "      <td>78</td>\n",
              "      <td>2021-01-06</td>\n",
              "      <td>Branca</td>\n",
              "      <td>NaN</td>\n",
              "      <td>Tosse, Dispneia, Dor de Garganta, Cansaço/fadi...</td>\n",
              "      <td>NaN</td>\n",
              "      <td>Doenças Cardíacas ou Vasculares, Doença Hepáti...</td>\n",
              "      <td>NaN</td>\n",
              "      <td>ÓBITO</td>\n",
              "      <td>CONFIRMADO</td>\n",
              "      <td>2021-01-26</td>\n",
              "      <td>NÃO</td>\n",
              "      <td>NaN</td>\n",
              "      <td>RECIFE</td>\n",
              "      <td>BOA VIAGEM</td>\n",
              "      <td>VI</td>\n",
              "    </tr>\n",
              "    <tr>\n",
              "      <th>7</th>\n",
              "      <td>2021-01-22</td>\n",
              "      <td>Feminino</td>\n",
              "      <td>34</td>\n",
              "      <td>2021-01-12</td>\n",
              "      <td>Branca</td>\n",
              "      <td>NaN</td>\n",
              "      <td>Febre, Tosse, Dor de Garganta, Desconforto res...</td>\n",
              "      <td>NaN</td>\n",
              "      <td>Sobrepeso/Obesidade</td>\n",
              "      <td>NaN</td>\n",
              "      <td>RECUPERADO</td>\n",
              "      <td>CONFIRMADO</td>\n",
              "      <td>NaN</td>\n",
              "      <td>NÃO</td>\n",
              "      <td>NaN</td>\n",
              "      <td>RECIFE</td>\n",
              "      <td>IBURA</td>\n",
              "      <td>VIII</td>\n",
              "    </tr>\n",
              "    <tr>\n",
              "      <th>8</th>\n",
              "      <td>2021-02-12</td>\n",
              "      <td>Masculino</td>\n",
              "      <td>61</td>\n",
              "      <td>2021-02-01</td>\n",
              "      <td>Ignorado</td>\n",
              "      <td>NaN</td>\n",
              "      <td>Tosse, Dispneia, Mialgia, Saturação O2 &lt; 95</td>\n",
              "      <td>NaN</td>\n",
              "      <td>NaN</td>\n",
              "      <td>NaN</td>\n",
              "      <td>RECUPERADO</td>\n",
              "      <td>CONFIRMADO</td>\n",
              "      <td>NaN</td>\n",
              "      <td>NÃO</td>\n",
              "      <td>NaN</td>\n",
              "      <td>RECIFE</td>\n",
              "      <td>AREIAS</td>\n",
              "      <td>V</td>\n",
              "    </tr>\n",
              "    <tr>\n",
              "      <th>9</th>\n",
              "      <td>2021-01-25</td>\n",
              "      <td>Masculino</td>\n",
              "      <td>59</td>\n",
              "      <td>2021-01-22</td>\n",
              "      <td>Branca</td>\n",
              "      <td>NaN</td>\n",
              "      <td>Tosse, Dispneia, Desconforto respiratório / ap...</td>\n",
              "      <td>NaN</td>\n",
              "      <td>Imunossupressão</td>\n",
              "      <td>NaN</td>\n",
              "      <td>RECUPERADO</td>\n",
              "      <td>CONFIRMADO</td>\n",
              "      <td>NaN</td>\n",
              "      <td>NÃO</td>\n",
              "      <td>NaN</td>\n",
              "      <td>RECIFE</td>\n",
              "      <td>IGN</td>\n",
              "      <td>IGN</td>\n",
              "    </tr>\n",
              "    <tr>\n",
              "      <th>12</th>\n",
              "      <td>2021-02-15</td>\n",
              "      <td>Masculino</td>\n",
              "      <td>69</td>\n",
              "      <td>2021-02-10</td>\n",
              "      <td>Parda</td>\n",
              "      <td>NaN</td>\n",
              "      <td>Febre, Tosse, Dispneia, Saturação O2 &lt; 95</td>\n",
              "      <td>SOLUÇÃO</td>\n",
              "      <td>Doenças Respiratórias Crônicas</td>\n",
              "      <td>NaN</td>\n",
              "      <td>RECUPERADO</td>\n",
              "      <td>CONFIRMADO</td>\n",
              "      <td>NaN</td>\n",
              "      <td>NÃO</td>\n",
              "      <td>NaN</td>\n",
              "      <td>RECIFE</td>\n",
              "      <td>JORDAO</td>\n",
              "      <td>VIII</td>\n",
              "    </tr>\n",
              "    <tr>\n",
              "      <th>...</th>\n",
              "      <td>...</td>\n",
              "      <td>...</td>\n",
              "      <td>...</td>\n",
              "      <td>...</td>\n",
              "      <td>...</td>\n",
              "      <td>...</td>\n",
              "      <td>...</td>\n",
              "      <td>...</td>\n",
              "      <td>...</td>\n",
              "      <td>...</td>\n",
              "      <td>...</td>\n",
              "      <td>...</td>\n",
              "      <td>...</td>\n",
              "      <td>...</td>\n",
              "      <td>...</td>\n",
              "      <td>...</td>\n",
              "      <td>...</td>\n",
              "      <td>...</td>\n",
              "    </tr>\n",
              "    <tr>\n",
              "      <th>30714</th>\n",
              "      <td>2021-06-08</td>\n",
              "      <td>Masculino</td>\n",
              "      <td>61</td>\n",
              "      <td>2021-06-03</td>\n",
              "      <td>Ignorado</td>\n",
              "      <td>NaN</td>\n",
              "      <td>Febre, Tosse, Dispneia, Alteração/perda de olf...</td>\n",
              "      <td>NaN</td>\n",
              "      <td>Doenças Cardíacas ou Vasculares, Diabetes</td>\n",
              "      <td>NaN</td>\n",
              "      <td>RECUPERADO</td>\n",
              "      <td>CONFIRMADO</td>\n",
              "      <td>NaN</td>\n",
              "      <td>NÃO</td>\n",
              "      <td>NaN</td>\n",
              "      <td>RECIFE</td>\n",
              "      <td>SAN MARTIN</td>\n",
              "      <td>V</td>\n",
              "    </tr>\n",
              "    <tr>\n",
              "      <th>30718</th>\n",
              "      <td>2021-07-19</td>\n",
              "      <td>Masculino</td>\n",
              "      <td>81</td>\n",
              "      <td>2021-07-16</td>\n",
              "      <td>Ignorado</td>\n",
              "      <td>NaN</td>\n",
              "      <td>Febre, Dispneia, Mialgia, Saturação O2 &lt; 95</td>\n",
              "      <td>NaN</td>\n",
              "      <td>Diabetes, Sobrepeso/Obesidade, Doenças Cardíac...</td>\n",
              "      <td>NaN</td>\n",
              "      <td>ÓBITO</td>\n",
              "      <td>CONFIRMADO</td>\n",
              "      <td>2021-09-12</td>\n",
              "      <td>NÃO</td>\n",
              "      <td>NaN</td>\n",
              "      <td>RECIFE</td>\n",
              "      <td>TORROES</td>\n",
              "      <td>IV</td>\n",
              "    </tr>\n",
              "    <tr>\n",
              "      <th>30720</th>\n",
              "      <td>2021-01-03</td>\n",
              "      <td>Masculino</td>\n",
              "      <td>83</td>\n",
              "      <td>2020-12-31</td>\n",
              "      <td>Preta</td>\n",
              "      <td>NaN</td>\n",
              "      <td>Tosse, Desconforto respiratório / aperto torác...</td>\n",
              "      <td>NaN</td>\n",
              "      <td>Doenças Cardíacas ou Vasculares, Doenças Respi...</td>\n",
              "      <td>DPOC</td>\n",
              "      <td>ÓBITO</td>\n",
              "      <td>CONFIRMADO</td>\n",
              "      <td>2021-01-07</td>\n",
              "      <td>NÃO</td>\n",
              "      <td>NaN</td>\n",
              "      <td>RECIFE</td>\n",
              "      <td>IMBIRIBEIRA</td>\n",
              "      <td>VI</td>\n",
              "    </tr>\n",
              "    <tr>\n",
              "      <th>30724</th>\n",
              "      <td>2021-09-18</td>\n",
              "      <td>Masculino</td>\n",
              "      <td>16</td>\n",
              "      <td>2021-09-10</td>\n",
              "      <td>Parda</td>\n",
              "      <td>NaN</td>\n",
              "      <td>Febre, Tosse, Dispneia, Desconforto respiratór...</td>\n",
              "      <td>NaN</td>\n",
              "      <td>NaN</td>\n",
              "      <td>PORTADOR DE PARALISIA CEREBRAL + EPILEPTICO</td>\n",
              "      <td>INTERNADO UTI</td>\n",
              "      <td>CONFIRMADO</td>\n",
              "      <td>NaN</td>\n",
              "      <td>NÃO</td>\n",
              "      <td>NaN</td>\n",
              "      <td>RECIFE</td>\n",
              "      <td>SANTANA</td>\n",
              "      <td>III</td>\n",
              "    </tr>\n",
              "    <tr>\n",
              "      <th>30726</th>\n",
              "      <td>2021-09-20</td>\n",
              "      <td>Masculino</td>\n",
              "      <td>59</td>\n",
              "      <td>2021-05-06</td>\n",
              "      <td>Branca</td>\n",
              "      <td>NaN</td>\n",
              "      <td>Febre, Tosse, Dispneia, Desconforto respiratór...</td>\n",
              "      <td>FADIGA</td>\n",
              "      <td>Diabetes</td>\n",
              "      <td>NaN</td>\n",
              "      <td>ÓBITO</td>\n",
              "      <td>CONFIRMADO</td>\n",
              "      <td>2021-05-14</td>\n",
              "      <td>NÃO</td>\n",
              "      <td>NaN</td>\n",
              "      <td>RECIFE</td>\n",
              "      <td>MACAXEIRA</td>\n",
              "      <td>VII</td>\n",
              "    </tr>\n",
              "  </tbody>\n",
              "</table>\n",
              "<p>16126 rows × 18 columns</p>\n",
              "</div>"
            ],
            "text/plain": [
              "      data_notificacao       sexo  ...       bairro    ds\n",
              "2           2021-01-08  Masculino  ...   BOA VIAGEM    VI\n",
              "7           2021-01-22   Feminino  ...        IBURA  VIII\n",
              "8           2021-02-12  Masculino  ...       AREIAS     V\n",
              "9           2021-01-25  Masculino  ...          IGN   IGN\n",
              "12          2021-02-15  Masculino  ...       JORDAO  VIII\n",
              "...                ...        ...  ...          ...   ...\n",
              "30714       2021-06-08  Masculino  ...   SAN MARTIN     V\n",
              "30718       2021-07-19  Masculino  ...      TORROES    IV\n",
              "30720       2021-01-03  Masculino  ...  IMBIRIBEIRA    VI\n",
              "30724       2021-09-18  Masculino  ...      SANTANA   III\n",
              "30726       2021-09-20  Masculino  ...    MACAXEIRA   VII\n",
              "\n",
              "[16126 rows x 18 columns]"
            ]
          },
          "metadata": {},
          "execution_count": 105
        }
      ]
    },
    {
      "cell_type": "markdown",
      "metadata": {
        "id": "uQYXoR01sV0R"
      },
      "source": [
        "Agora, com o formato correto, ordenamos os dados numa escala temporal, contamos os valores de cada data e criamos outros dataframe de forma a ter um datafram pronto para ser \"plotado\"."
      ]
    },
    {
      "cell_type": "code",
      "metadata": {
        "id": "2iqXUfg9sg_-",
        "colab": {
          "base_uri": "https://localhost:8080/"
        },
        "outputId": "4df7c66f-5422-4e5b-d212-db1e345fa87b"
      },
      "source": [
        "graves.sort_values(by=\"data_notificacao\", inplace=True)\n",
        "graves_cont = pd.DataFrame(graves['data_notificacao'].value_counts())\n",
        "graves_cont.sort_index(inplace=True)\n",
        "graves_cont.rename(columns={'data_notificacao':'casos'}, inplace=True)"
      ],
      "execution_count": 106,
      "outputs": [
        {
          "output_type": "stream",
          "name": "stderr",
          "text": [
            "/usr/local/lib/python3.7/dist-packages/ipykernel_launcher.py:1: SettingWithCopyWarning: \n",
            "A value is trying to be set on a copy of a slice from a DataFrame\n",
            "\n",
            "See the caveats in the documentation: https://pandas.pydata.org/pandas-docs/stable/user_guide/indexing.html#returning-a-view-versus-a-copy\n",
            "  \"\"\"Entry point for launching an IPython kernel.\n"
          ]
        }
      ]
    },
    {
      "cell_type": "code",
      "metadata": {
        "colab": {
          "base_uri": "https://localhost:8080/",
          "height": 424
        },
        "id": "8FIuFRWx-m9z",
        "outputId": "c26575de-8545-4c7e-d1a1-61dcca21b856"
      },
      "source": [
        "graves_cont"
      ],
      "execution_count": 107,
      "outputs": [
        {
          "output_type": "execute_result",
          "data": {
            "text/html": [
              "<div>\n",
              "<style scoped>\n",
              "    .dataframe tbody tr th:only-of-type {\n",
              "        vertical-align: middle;\n",
              "    }\n",
              "\n",
              "    .dataframe tbody tr th {\n",
              "        vertical-align: top;\n",
              "    }\n",
              "\n",
              "    .dataframe thead th {\n",
              "        text-align: right;\n",
              "    }\n",
              "</style>\n",
              "<table border=\"1\" class=\"dataframe\">\n",
              "  <thead>\n",
              "    <tr style=\"text-align: right;\">\n",
              "      <th></th>\n",
              "      <th>casos</th>\n",
              "    </tr>\n",
              "  </thead>\n",
              "  <tbody>\n",
              "    <tr>\n",
              "      <th>2020-03-05</th>\n",
              "      <td>2</td>\n",
              "    </tr>\n",
              "    <tr>\n",
              "      <th>2020-03-07</th>\n",
              "      <td>1</td>\n",
              "    </tr>\n",
              "    <tr>\n",
              "      <th>2020-03-12</th>\n",
              "      <td>7</td>\n",
              "    </tr>\n",
              "    <tr>\n",
              "      <th>2020-03-13</th>\n",
              "      <td>5</td>\n",
              "    </tr>\n",
              "    <tr>\n",
              "      <th>2020-03-14</th>\n",
              "      <td>1</td>\n",
              "    </tr>\n",
              "    <tr>\n",
              "      <th>...</th>\n",
              "      <td>...</td>\n",
              "    </tr>\n",
              "    <tr>\n",
              "      <th>2021-09-20</th>\n",
              "      <td>7</td>\n",
              "    </tr>\n",
              "    <tr>\n",
              "      <th>2021-09-21</th>\n",
              "      <td>7</td>\n",
              "    </tr>\n",
              "    <tr>\n",
              "      <th>2021-09-22</th>\n",
              "      <td>6</td>\n",
              "    </tr>\n",
              "    <tr>\n",
              "      <th>2021-09-23</th>\n",
              "      <td>2</td>\n",
              "    </tr>\n",
              "    <tr>\n",
              "      <th>2021-09-24</th>\n",
              "      <td>3</td>\n",
              "    </tr>\n",
              "  </tbody>\n",
              "</table>\n",
              "<p>560 rows × 1 columns</p>\n",
              "</div>"
            ],
            "text/plain": [
              "            casos\n",
              "2020-03-05      2\n",
              "2020-03-07      1\n",
              "2020-03-12      7\n",
              "2020-03-13      5\n",
              "2020-03-14      1\n",
              "...           ...\n",
              "2021-09-20      7\n",
              "2021-09-21      7\n",
              "2021-09-22      6\n",
              "2021-09-23      2\n",
              "2021-09-24      3\n",
              "\n",
              "[560 rows x 1 columns]"
            ]
          },
          "metadata": {},
          "execution_count": 107
        }
      ]
    },
    {
      "cell_type": "code",
      "metadata": {
        "colab": {
          "base_uri": "https://localhost:8080/"
        },
        "id": "bfdf-UbExJLo",
        "outputId": "8123ae67-71c3-4a40-dec4-98ce71a61502"
      },
      "source": [
        "graves_cont.info()"
      ],
      "execution_count": 108,
      "outputs": [
        {
          "output_type": "stream",
          "name": "stdout",
          "text": [
            "<class 'pandas.core.frame.DataFrame'>\n",
            "DatetimeIndex: 560 entries, 2020-03-05 to 2021-09-24\n",
            "Data columns (total 1 columns):\n",
            " #   Column  Non-Null Count  Dtype\n",
            "---  ------  --------------  -----\n",
            " 0   casos   560 non-null    int64\n",
            "dtypes: int64(1)\n",
            "memory usage: 8.8 KB\n"
          ]
        }
      ]
    },
    {
      "cell_type": "markdown",
      "metadata": {
        "id": "ovMCFnR0Wl4U"
      },
      "source": [
        "Existe um dataset oficial, atualizado diariamente. Com ele, posso ver os dados do dia. Entretanto, como a página da prefeitura não está no mesmo ritmo de atualização, tenho de setar dias para fazer a análise."
      ]
    },
    {
      "cell_type": "markdown",
      "metadata": {
        "id": "I9AUI1trXVOx"
      },
      "source": [
        "No dia 2021-10-04, temos esses dados para Recife."
      ]
    },
    {
      "cell_type": "code",
      "metadata": {
        "id": "HSaicCeYUJSZ"
      },
      "source": [
        "url = \"https://github.com/wcota/covid19br/raw/master/cases-brazil-cities-time.csv.gz\"\n",
        "total_cases = pd.read_csv(url, compression='gzip')"
      ],
      "execution_count": 109,
      "outputs": []
    },
    {
      "cell_type": "code",
      "metadata": {
        "id": "ETpSvIEwYsfD"
      },
      "source": [
        "total_cases_recife = total_cases[total_cases['city'] == \"Recife/PE\"]"
      ],
      "execution_count": 110,
      "outputs": []
    },
    {
      "cell_type": "code",
      "metadata": {
        "colab": {
          "base_uri": "https://localhost:8080/",
          "height": 617
        },
        "id": "1B7MHsAstJXe",
        "outputId": "6bbf1423-a5e7-4d03-c143-9cf113a96c58"
      },
      "source": [
        "total_cases_recife"
      ],
      "execution_count": 111,
      "outputs": [
        {
          "output_type": "execute_result",
          "data": {
            "text/html": [
              "<div>\n",
              "<style scoped>\n",
              "    .dataframe tbody tr th:only-of-type {\n",
              "        vertical-align: middle;\n",
              "    }\n",
              "\n",
              "    .dataframe tbody tr th {\n",
              "        vertical-align: top;\n",
              "    }\n",
              "\n",
              "    .dataframe thead th {\n",
              "        text-align: right;\n",
              "    }\n",
              "</style>\n",
              "<table border=\"1\" class=\"dataframe\">\n",
              "  <thead>\n",
              "    <tr style=\"text-align: right;\">\n",
              "      <th></th>\n",
              "      <th>epi_week</th>\n",
              "      <th>date</th>\n",
              "      <th>country</th>\n",
              "      <th>state</th>\n",
              "      <th>city</th>\n",
              "      <th>ibgeID</th>\n",
              "      <th>newDeaths</th>\n",
              "      <th>deaths</th>\n",
              "      <th>newCases</th>\n",
              "      <th>totalCases</th>\n",
              "      <th>deaths_per_100k_inhabitants</th>\n",
              "      <th>totalCases_per_100k_inhabitants</th>\n",
              "      <th>deaths_by_totalCases</th>\n",
              "      <th>_source</th>\n",
              "      <th>last_info_date</th>\n",
              "    </tr>\n",
              "  </thead>\n",
              "  <tbody>\n",
              "    <tr>\n",
              "      <th>105</th>\n",
              "      <td>11</td>\n",
              "      <td>2020-03-12</td>\n",
              "      <td>Brazil</td>\n",
              "      <td>PE</td>\n",
              "      <td>Recife/PE</td>\n",
              "      <td>2611606</td>\n",
              "      <td>0</td>\n",
              "      <td>0</td>\n",
              "      <td>2</td>\n",
              "      <td>2</td>\n",
              "      <td>0.00000</td>\n",
              "      <td>0.12041</td>\n",
              "      <td>0.00000</td>\n",
              "      <td>SES</td>\n",
              "      <td>2021-10-22</td>\n",
              "    </tr>\n",
              "    <tr>\n",
              "      <th>132</th>\n",
              "      <td>11</td>\n",
              "      <td>2020-03-13</td>\n",
              "      <td>Brazil</td>\n",
              "      <td>PE</td>\n",
              "      <td>Recife/PE</td>\n",
              "      <td>2611606</td>\n",
              "      <td>0</td>\n",
              "      <td>0</td>\n",
              "      <td>0</td>\n",
              "      <td>2</td>\n",
              "      <td>0.00000</td>\n",
              "      <td>0.12041</td>\n",
              "      <td>0.00000</td>\n",
              "      <td>SES</td>\n",
              "      <td>2021-10-22</td>\n",
              "    </tr>\n",
              "    <tr>\n",
              "      <th>168</th>\n",
              "      <td>11</td>\n",
              "      <td>2020-03-14</td>\n",
              "      <td>Brazil</td>\n",
              "      <td>PE</td>\n",
              "      <td>Recife/PE</td>\n",
              "      <td>2611606</td>\n",
              "      <td>0</td>\n",
              "      <td>0</td>\n",
              "      <td>4</td>\n",
              "      <td>6</td>\n",
              "      <td>0.00000</td>\n",
              "      <td>0.36122</td>\n",
              "      <td>0.00000</td>\n",
              "      <td>SES</td>\n",
              "      <td>2021-10-22</td>\n",
              "    </tr>\n",
              "    <tr>\n",
              "      <th>204</th>\n",
              "      <td>12</td>\n",
              "      <td>2020-03-15</td>\n",
              "      <td>Brazil</td>\n",
              "      <td>PE</td>\n",
              "      <td>Recife/PE</td>\n",
              "      <td>2611606</td>\n",
              "      <td>0</td>\n",
              "      <td>0</td>\n",
              "      <td>1</td>\n",
              "      <td>7</td>\n",
              "      <td>0.00000</td>\n",
              "      <td>0.42143</td>\n",
              "      <td>0.00000</td>\n",
              "      <td>SES</td>\n",
              "      <td>2021-10-22</td>\n",
              "    </tr>\n",
              "    <tr>\n",
              "      <th>246</th>\n",
              "      <td>12</td>\n",
              "      <td>2020-03-16</td>\n",
              "      <td>Brazil</td>\n",
              "      <td>PE</td>\n",
              "      <td>Recife/PE</td>\n",
              "      <td>2611606</td>\n",
              "      <td>0</td>\n",
              "      <td>0</td>\n",
              "      <td>0</td>\n",
              "      <td>7</td>\n",
              "      <td>0.00000</td>\n",
              "      <td>0.42143</td>\n",
              "      <td>0.00000</td>\n",
              "      <td>SES</td>\n",
              "      <td>2021-10-22</td>\n",
              "    </tr>\n",
              "    <tr>\n",
              "      <th>...</th>\n",
              "      <td>...</td>\n",
              "      <td>...</td>\n",
              "      <td>...</td>\n",
              "      <td>...</td>\n",
              "      <td>...</td>\n",
              "      <td>...</td>\n",
              "      <td>...</td>\n",
              "      <td>...</td>\n",
              "      <td>...</td>\n",
              "      <td>...</td>\n",
              "      <td>...</td>\n",
              "      <td>...</td>\n",
              "      <td>...</td>\n",
              "      <td>...</td>\n",
              "      <td>...</td>\n",
              "    </tr>\n",
              "    <tr>\n",
              "      <th>3232543</th>\n",
              "      <td>149</td>\n",
              "      <td>2021-12-09</td>\n",
              "      <td>Brazil</td>\n",
              "      <td>PE</td>\n",
              "      <td>Recife/PE</td>\n",
              "      <td>2611606</td>\n",
              "      <td>1</td>\n",
              "      <td>5646</td>\n",
              "      <td>13</td>\n",
              "      <td>161349</td>\n",
              "      <td>339.91223</td>\n",
              "      <td>9713.86807</td>\n",
              "      <td>0.03499</td>\n",
              "      <td>MS</td>\n",
              "      <td>2021-12-10</td>\n",
              "    </tr>\n",
              "    <tr>\n",
              "      <th>3238140</th>\n",
              "      <td>149</td>\n",
              "      <td>2021-12-10</td>\n",
              "      <td>Brazil</td>\n",
              "      <td>PE</td>\n",
              "      <td>Recife/PE</td>\n",
              "      <td>2611606</td>\n",
              "      <td>0</td>\n",
              "      <td>5646</td>\n",
              "      <td>0</td>\n",
              "      <td>161349</td>\n",
              "      <td>339.91223</td>\n",
              "      <td>9713.86807</td>\n",
              "      <td>0.03499</td>\n",
              "      <td>MS</td>\n",
              "      <td>2021-12-10</td>\n",
              "    </tr>\n",
              "    <tr>\n",
              "      <th>3243737</th>\n",
              "      <td>149</td>\n",
              "      <td>2021-12-11</td>\n",
              "      <td>Brazil</td>\n",
              "      <td>PE</td>\n",
              "      <td>Recife/PE</td>\n",
              "      <td>2611606</td>\n",
              "      <td>0</td>\n",
              "      <td>5646</td>\n",
              "      <td>0</td>\n",
              "      <td>161349</td>\n",
              "      <td>339.91223</td>\n",
              "      <td>9713.86807</td>\n",
              "      <td>0.03499</td>\n",
              "      <td>MS</td>\n",
              "      <td>2021-12-10</td>\n",
              "    </tr>\n",
              "    <tr>\n",
              "      <th>3249334</th>\n",
              "      <td>150</td>\n",
              "      <td>2021-12-12</td>\n",
              "      <td>Brazil</td>\n",
              "      <td>PE</td>\n",
              "      <td>Recife/PE</td>\n",
              "      <td>2611606</td>\n",
              "      <td>0</td>\n",
              "      <td>5646</td>\n",
              "      <td>0</td>\n",
              "      <td>161349</td>\n",
              "      <td>339.91223</td>\n",
              "      <td>9713.86807</td>\n",
              "      <td>0.03499</td>\n",
              "      <td>MS</td>\n",
              "      <td>2021-12-10</td>\n",
              "    </tr>\n",
              "    <tr>\n",
              "      <th>3254931</th>\n",
              "      <td>150</td>\n",
              "      <td>2021-12-13</td>\n",
              "      <td>Brazil</td>\n",
              "      <td>PE</td>\n",
              "      <td>Recife/PE</td>\n",
              "      <td>2611606</td>\n",
              "      <td>0</td>\n",
              "      <td>5646</td>\n",
              "      <td>0</td>\n",
              "      <td>161349</td>\n",
              "      <td>339.91223</td>\n",
              "      <td>9713.86807</td>\n",
              "      <td>0.03499</td>\n",
              "      <td>MS</td>\n",
              "      <td>2021-12-10</td>\n",
              "    </tr>\n",
              "  </tbody>\n",
              "</table>\n",
              "<p>642 rows × 15 columns</p>\n",
              "</div>"
            ],
            "text/plain": [
              "         epi_week        date  ... _source last_info_date\n",
              "105            11  2020-03-12  ...     SES     2021-10-22\n",
              "132            11  2020-03-13  ...     SES     2021-10-22\n",
              "168            11  2020-03-14  ...     SES     2021-10-22\n",
              "204            12  2020-03-15  ...     SES     2021-10-22\n",
              "246            12  2020-03-16  ...     SES     2021-10-22\n",
              "...           ...         ...  ...     ...            ...\n",
              "3232543       149  2021-12-09  ...      MS     2021-12-10\n",
              "3238140       149  2021-12-10  ...      MS     2021-12-10\n",
              "3243737       149  2021-12-11  ...      MS     2021-12-10\n",
              "3249334       150  2021-12-12  ...      MS     2021-12-10\n",
              "3254931       150  2021-12-13  ...      MS     2021-12-10\n",
              "\n",
              "[642 rows x 15 columns]"
            ]
          },
          "metadata": {},
          "execution_count": 111
        }
      ]
    },
    {
      "cell_type": "code",
      "metadata": {
        "colab": {
          "base_uri": "https://localhost:8080/"
        },
        "id": "dqW_VlgRt563",
        "outputId": "5fefeed5-a39c-4f6d-a7c2-92375b5a0ddc"
      },
      "source": [
        "total_cases_recife[\"date\"] =  pd.to_datetime(total_cases_recife[\"date\"], format= \"%Y/%m/%d\")"
      ],
      "execution_count": 112,
      "outputs": [
        {
          "output_type": "stream",
          "name": "stderr",
          "text": [
            "/usr/local/lib/python3.7/dist-packages/ipykernel_launcher.py:1: SettingWithCopyWarning: \n",
            "A value is trying to be set on a copy of a slice from a DataFrame.\n",
            "Try using .loc[row_indexer,col_indexer] = value instead\n",
            "\n",
            "See the caveats in the documentation: https://pandas.pydata.org/pandas-docs/stable/user_guide/indexing.html#returning-a-view-versus-a-copy\n",
            "  \"\"\"Entry point for launching an IPython kernel.\n"
          ]
        }
      ]
    },
    {
      "cell_type": "code",
      "metadata": {
        "id": "t16JR01wvtYf"
      },
      "source": [
        "total_cases_recife.set_index(total_cases_recife['date'], inplace=True)"
      ],
      "execution_count": 113,
      "outputs": []
    },
    {
      "cell_type": "code",
      "metadata": {
        "colab": {
          "base_uri": "https://localhost:8080/",
          "height": 648
        },
        "id": "s9uZ_IGsLPpb",
        "outputId": "4aab092c-49e4-471e-d148-a33b59c155a6"
      },
      "source": [
        "total_cases_recife"
      ],
      "execution_count": 114,
      "outputs": [
        {
          "output_type": "execute_result",
          "data": {
            "text/html": [
              "<div>\n",
              "<style scoped>\n",
              "    .dataframe tbody tr th:only-of-type {\n",
              "        vertical-align: middle;\n",
              "    }\n",
              "\n",
              "    .dataframe tbody tr th {\n",
              "        vertical-align: top;\n",
              "    }\n",
              "\n",
              "    .dataframe thead th {\n",
              "        text-align: right;\n",
              "    }\n",
              "</style>\n",
              "<table border=\"1\" class=\"dataframe\">\n",
              "  <thead>\n",
              "    <tr style=\"text-align: right;\">\n",
              "      <th></th>\n",
              "      <th>epi_week</th>\n",
              "      <th>date</th>\n",
              "      <th>country</th>\n",
              "      <th>state</th>\n",
              "      <th>city</th>\n",
              "      <th>ibgeID</th>\n",
              "      <th>newDeaths</th>\n",
              "      <th>deaths</th>\n",
              "      <th>newCases</th>\n",
              "      <th>totalCases</th>\n",
              "      <th>deaths_per_100k_inhabitants</th>\n",
              "      <th>totalCases_per_100k_inhabitants</th>\n",
              "      <th>deaths_by_totalCases</th>\n",
              "      <th>_source</th>\n",
              "      <th>last_info_date</th>\n",
              "    </tr>\n",
              "    <tr>\n",
              "      <th>date</th>\n",
              "      <th></th>\n",
              "      <th></th>\n",
              "      <th></th>\n",
              "      <th></th>\n",
              "      <th></th>\n",
              "      <th></th>\n",
              "      <th></th>\n",
              "      <th></th>\n",
              "      <th></th>\n",
              "      <th></th>\n",
              "      <th></th>\n",
              "      <th></th>\n",
              "      <th></th>\n",
              "      <th></th>\n",
              "      <th></th>\n",
              "    </tr>\n",
              "  </thead>\n",
              "  <tbody>\n",
              "    <tr>\n",
              "      <th>2020-03-12</th>\n",
              "      <td>11</td>\n",
              "      <td>2020-03-12</td>\n",
              "      <td>Brazil</td>\n",
              "      <td>PE</td>\n",
              "      <td>Recife/PE</td>\n",
              "      <td>2611606</td>\n",
              "      <td>0</td>\n",
              "      <td>0</td>\n",
              "      <td>2</td>\n",
              "      <td>2</td>\n",
              "      <td>0.00000</td>\n",
              "      <td>0.12041</td>\n",
              "      <td>0.00000</td>\n",
              "      <td>SES</td>\n",
              "      <td>2021-10-22</td>\n",
              "    </tr>\n",
              "    <tr>\n",
              "      <th>2020-03-13</th>\n",
              "      <td>11</td>\n",
              "      <td>2020-03-13</td>\n",
              "      <td>Brazil</td>\n",
              "      <td>PE</td>\n",
              "      <td>Recife/PE</td>\n",
              "      <td>2611606</td>\n",
              "      <td>0</td>\n",
              "      <td>0</td>\n",
              "      <td>0</td>\n",
              "      <td>2</td>\n",
              "      <td>0.00000</td>\n",
              "      <td>0.12041</td>\n",
              "      <td>0.00000</td>\n",
              "      <td>SES</td>\n",
              "      <td>2021-10-22</td>\n",
              "    </tr>\n",
              "    <tr>\n",
              "      <th>2020-03-14</th>\n",
              "      <td>11</td>\n",
              "      <td>2020-03-14</td>\n",
              "      <td>Brazil</td>\n",
              "      <td>PE</td>\n",
              "      <td>Recife/PE</td>\n",
              "      <td>2611606</td>\n",
              "      <td>0</td>\n",
              "      <td>0</td>\n",
              "      <td>4</td>\n",
              "      <td>6</td>\n",
              "      <td>0.00000</td>\n",
              "      <td>0.36122</td>\n",
              "      <td>0.00000</td>\n",
              "      <td>SES</td>\n",
              "      <td>2021-10-22</td>\n",
              "    </tr>\n",
              "    <tr>\n",
              "      <th>2020-03-15</th>\n",
              "      <td>12</td>\n",
              "      <td>2020-03-15</td>\n",
              "      <td>Brazil</td>\n",
              "      <td>PE</td>\n",
              "      <td>Recife/PE</td>\n",
              "      <td>2611606</td>\n",
              "      <td>0</td>\n",
              "      <td>0</td>\n",
              "      <td>1</td>\n",
              "      <td>7</td>\n",
              "      <td>0.00000</td>\n",
              "      <td>0.42143</td>\n",
              "      <td>0.00000</td>\n",
              "      <td>SES</td>\n",
              "      <td>2021-10-22</td>\n",
              "    </tr>\n",
              "    <tr>\n",
              "      <th>2020-03-16</th>\n",
              "      <td>12</td>\n",
              "      <td>2020-03-16</td>\n",
              "      <td>Brazil</td>\n",
              "      <td>PE</td>\n",
              "      <td>Recife/PE</td>\n",
              "      <td>2611606</td>\n",
              "      <td>0</td>\n",
              "      <td>0</td>\n",
              "      <td>0</td>\n",
              "      <td>7</td>\n",
              "      <td>0.00000</td>\n",
              "      <td>0.42143</td>\n",
              "      <td>0.00000</td>\n",
              "      <td>SES</td>\n",
              "      <td>2021-10-22</td>\n",
              "    </tr>\n",
              "    <tr>\n",
              "      <th>...</th>\n",
              "      <td>...</td>\n",
              "      <td>...</td>\n",
              "      <td>...</td>\n",
              "      <td>...</td>\n",
              "      <td>...</td>\n",
              "      <td>...</td>\n",
              "      <td>...</td>\n",
              "      <td>...</td>\n",
              "      <td>...</td>\n",
              "      <td>...</td>\n",
              "      <td>...</td>\n",
              "      <td>...</td>\n",
              "      <td>...</td>\n",
              "      <td>...</td>\n",
              "      <td>...</td>\n",
              "    </tr>\n",
              "    <tr>\n",
              "      <th>2021-12-09</th>\n",
              "      <td>149</td>\n",
              "      <td>2021-12-09</td>\n",
              "      <td>Brazil</td>\n",
              "      <td>PE</td>\n",
              "      <td>Recife/PE</td>\n",
              "      <td>2611606</td>\n",
              "      <td>1</td>\n",
              "      <td>5646</td>\n",
              "      <td>13</td>\n",
              "      <td>161349</td>\n",
              "      <td>339.91223</td>\n",
              "      <td>9713.86807</td>\n",
              "      <td>0.03499</td>\n",
              "      <td>MS</td>\n",
              "      <td>2021-12-10</td>\n",
              "    </tr>\n",
              "    <tr>\n",
              "      <th>2021-12-10</th>\n",
              "      <td>149</td>\n",
              "      <td>2021-12-10</td>\n",
              "      <td>Brazil</td>\n",
              "      <td>PE</td>\n",
              "      <td>Recife/PE</td>\n",
              "      <td>2611606</td>\n",
              "      <td>0</td>\n",
              "      <td>5646</td>\n",
              "      <td>0</td>\n",
              "      <td>161349</td>\n",
              "      <td>339.91223</td>\n",
              "      <td>9713.86807</td>\n",
              "      <td>0.03499</td>\n",
              "      <td>MS</td>\n",
              "      <td>2021-12-10</td>\n",
              "    </tr>\n",
              "    <tr>\n",
              "      <th>2021-12-11</th>\n",
              "      <td>149</td>\n",
              "      <td>2021-12-11</td>\n",
              "      <td>Brazil</td>\n",
              "      <td>PE</td>\n",
              "      <td>Recife/PE</td>\n",
              "      <td>2611606</td>\n",
              "      <td>0</td>\n",
              "      <td>5646</td>\n",
              "      <td>0</td>\n",
              "      <td>161349</td>\n",
              "      <td>339.91223</td>\n",
              "      <td>9713.86807</td>\n",
              "      <td>0.03499</td>\n",
              "      <td>MS</td>\n",
              "      <td>2021-12-10</td>\n",
              "    </tr>\n",
              "    <tr>\n",
              "      <th>2021-12-12</th>\n",
              "      <td>150</td>\n",
              "      <td>2021-12-12</td>\n",
              "      <td>Brazil</td>\n",
              "      <td>PE</td>\n",
              "      <td>Recife/PE</td>\n",
              "      <td>2611606</td>\n",
              "      <td>0</td>\n",
              "      <td>5646</td>\n",
              "      <td>0</td>\n",
              "      <td>161349</td>\n",
              "      <td>339.91223</td>\n",
              "      <td>9713.86807</td>\n",
              "      <td>0.03499</td>\n",
              "      <td>MS</td>\n",
              "      <td>2021-12-10</td>\n",
              "    </tr>\n",
              "    <tr>\n",
              "      <th>2021-12-13</th>\n",
              "      <td>150</td>\n",
              "      <td>2021-12-13</td>\n",
              "      <td>Brazil</td>\n",
              "      <td>PE</td>\n",
              "      <td>Recife/PE</td>\n",
              "      <td>2611606</td>\n",
              "      <td>0</td>\n",
              "      <td>5646</td>\n",
              "      <td>0</td>\n",
              "      <td>161349</td>\n",
              "      <td>339.91223</td>\n",
              "      <td>9713.86807</td>\n",
              "      <td>0.03499</td>\n",
              "      <td>MS</td>\n",
              "      <td>2021-12-10</td>\n",
              "    </tr>\n",
              "  </tbody>\n",
              "</table>\n",
              "<p>642 rows × 15 columns</p>\n",
              "</div>"
            ],
            "text/plain": [
              "            epi_week       date  ... _source last_info_date\n",
              "date                             ...                       \n",
              "2020-03-12        11 2020-03-12  ...     SES     2021-10-22\n",
              "2020-03-13        11 2020-03-13  ...     SES     2021-10-22\n",
              "2020-03-14        11 2020-03-14  ...     SES     2021-10-22\n",
              "2020-03-15        12 2020-03-15  ...     SES     2021-10-22\n",
              "2020-03-16        12 2020-03-16  ...     SES     2021-10-22\n",
              "...              ...        ...  ...     ...            ...\n",
              "2021-12-09       149 2021-12-09  ...      MS     2021-12-10\n",
              "2021-12-10       149 2021-12-10  ...      MS     2021-12-10\n",
              "2021-12-11       149 2021-12-11  ...      MS     2021-12-10\n",
              "2021-12-12       150 2021-12-12  ...      MS     2021-12-10\n",
              "2021-12-13       150 2021-12-13  ...      MS     2021-12-10\n",
              "\n",
              "[642 rows x 15 columns]"
            ]
          },
          "metadata": {},
          "execution_count": 114
        }
      ]
    },
    {
      "cell_type": "code",
      "metadata": {
        "colab": {
          "base_uri": "https://localhost:8080/",
          "height": 648
        },
        "id": "a4iOHp_iJdVK",
        "outputId": "0a1472cb-145c-4dba-a9c8-c5ac49e39c90"
      },
      "source": [
        "total_cases_recife.loc['2020-03-12':'2020-07-12'] #34,97% dos óbitos totais da cidade"
      ],
      "execution_count": 115,
      "outputs": [
        {
          "output_type": "execute_result",
          "data": {
            "text/html": [
              "<div>\n",
              "<style scoped>\n",
              "    .dataframe tbody tr th:only-of-type {\n",
              "        vertical-align: middle;\n",
              "    }\n",
              "\n",
              "    .dataframe tbody tr th {\n",
              "        vertical-align: top;\n",
              "    }\n",
              "\n",
              "    .dataframe thead th {\n",
              "        text-align: right;\n",
              "    }\n",
              "</style>\n",
              "<table border=\"1\" class=\"dataframe\">\n",
              "  <thead>\n",
              "    <tr style=\"text-align: right;\">\n",
              "      <th></th>\n",
              "      <th>epi_week</th>\n",
              "      <th>date</th>\n",
              "      <th>country</th>\n",
              "      <th>state</th>\n",
              "      <th>city</th>\n",
              "      <th>ibgeID</th>\n",
              "      <th>newDeaths</th>\n",
              "      <th>deaths</th>\n",
              "      <th>newCases</th>\n",
              "      <th>totalCases</th>\n",
              "      <th>deaths_per_100k_inhabitants</th>\n",
              "      <th>totalCases_per_100k_inhabitants</th>\n",
              "      <th>deaths_by_totalCases</th>\n",
              "      <th>_source</th>\n",
              "      <th>last_info_date</th>\n",
              "    </tr>\n",
              "    <tr>\n",
              "      <th>date</th>\n",
              "      <th></th>\n",
              "      <th></th>\n",
              "      <th></th>\n",
              "      <th></th>\n",
              "      <th></th>\n",
              "      <th></th>\n",
              "      <th></th>\n",
              "      <th></th>\n",
              "      <th></th>\n",
              "      <th></th>\n",
              "      <th></th>\n",
              "      <th></th>\n",
              "      <th></th>\n",
              "      <th></th>\n",
              "      <th></th>\n",
              "    </tr>\n",
              "  </thead>\n",
              "  <tbody>\n",
              "    <tr>\n",
              "      <th>2020-03-12</th>\n",
              "      <td>11</td>\n",
              "      <td>2020-03-12</td>\n",
              "      <td>Brazil</td>\n",
              "      <td>PE</td>\n",
              "      <td>Recife/PE</td>\n",
              "      <td>2611606</td>\n",
              "      <td>0</td>\n",
              "      <td>0</td>\n",
              "      <td>2</td>\n",
              "      <td>2</td>\n",
              "      <td>0.00000</td>\n",
              "      <td>0.12041</td>\n",
              "      <td>0.00000</td>\n",
              "      <td>SES</td>\n",
              "      <td>2021-10-22</td>\n",
              "    </tr>\n",
              "    <tr>\n",
              "      <th>2020-03-13</th>\n",
              "      <td>11</td>\n",
              "      <td>2020-03-13</td>\n",
              "      <td>Brazil</td>\n",
              "      <td>PE</td>\n",
              "      <td>Recife/PE</td>\n",
              "      <td>2611606</td>\n",
              "      <td>0</td>\n",
              "      <td>0</td>\n",
              "      <td>0</td>\n",
              "      <td>2</td>\n",
              "      <td>0.00000</td>\n",
              "      <td>0.12041</td>\n",
              "      <td>0.00000</td>\n",
              "      <td>SES</td>\n",
              "      <td>2021-10-22</td>\n",
              "    </tr>\n",
              "    <tr>\n",
              "      <th>2020-03-14</th>\n",
              "      <td>11</td>\n",
              "      <td>2020-03-14</td>\n",
              "      <td>Brazil</td>\n",
              "      <td>PE</td>\n",
              "      <td>Recife/PE</td>\n",
              "      <td>2611606</td>\n",
              "      <td>0</td>\n",
              "      <td>0</td>\n",
              "      <td>4</td>\n",
              "      <td>6</td>\n",
              "      <td>0.00000</td>\n",
              "      <td>0.36122</td>\n",
              "      <td>0.00000</td>\n",
              "      <td>SES</td>\n",
              "      <td>2021-10-22</td>\n",
              "    </tr>\n",
              "    <tr>\n",
              "      <th>2020-03-15</th>\n",
              "      <td>12</td>\n",
              "      <td>2020-03-15</td>\n",
              "      <td>Brazil</td>\n",
              "      <td>PE</td>\n",
              "      <td>Recife/PE</td>\n",
              "      <td>2611606</td>\n",
              "      <td>0</td>\n",
              "      <td>0</td>\n",
              "      <td>1</td>\n",
              "      <td>7</td>\n",
              "      <td>0.00000</td>\n",
              "      <td>0.42143</td>\n",
              "      <td>0.00000</td>\n",
              "      <td>SES</td>\n",
              "      <td>2021-10-22</td>\n",
              "    </tr>\n",
              "    <tr>\n",
              "      <th>2020-03-16</th>\n",
              "      <td>12</td>\n",
              "      <td>2020-03-16</td>\n",
              "      <td>Brazil</td>\n",
              "      <td>PE</td>\n",
              "      <td>Recife/PE</td>\n",
              "      <td>2611606</td>\n",
              "      <td>0</td>\n",
              "      <td>0</td>\n",
              "      <td>0</td>\n",
              "      <td>7</td>\n",
              "      <td>0.00000</td>\n",
              "      <td>0.42143</td>\n",
              "      <td>0.00000</td>\n",
              "      <td>SES</td>\n",
              "      <td>2021-10-22</td>\n",
              "    </tr>\n",
              "    <tr>\n",
              "      <th>...</th>\n",
              "      <td>...</td>\n",
              "      <td>...</td>\n",
              "      <td>...</td>\n",
              "      <td>...</td>\n",
              "      <td>...</td>\n",
              "      <td>...</td>\n",
              "      <td>...</td>\n",
              "      <td>...</td>\n",
              "      <td>...</td>\n",
              "      <td>...</td>\n",
              "      <td>...</td>\n",
              "      <td>...</td>\n",
              "      <td>...</td>\n",
              "      <td>...</td>\n",
              "      <td>...</td>\n",
              "    </tr>\n",
              "    <tr>\n",
              "      <th>2020-07-08</th>\n",
              "      <td>28</td>\n",
              "      <td>2020-07-08</td>\n",
              "      <td>Brazil</td>\n",
              "      <td>PE</td>\n",
              "      <td>Recife/PE</td>\n",
              "      <td>2611606</td>\n",
              "      <td>3</td>\n",
              "      <td>1927</td>\n",
              "      <td>253</td>\n",
              "      <td>22092</td>\n",
              "      <td>116.01326</td>\n",
              "      <td>1330.02853</td>\n",
              "      <td>0.08723</td>\n",
              "      <td>SES</td>\n",
              "      <td>2021-10-22</td>\n",
              "    </tr>\n",
              "    <tr>\n",
              "      <th>2020-07-09</th>\n",
              "      <td>28</td>\n",
              "      <td>2020-07-09</td>\n",
              "      <td>Brazil</td>\n",
              "      <td>PE</td>\n",
              "      <td>Recife/PE</td>\n",
              "      <td>2611606</td>\n",
              "      <td>19</td>\n",
              "      <td>1946</td>\n",
              "      <td>206</td>\n",
              "      <td>22298</td>\n",
              "      <td>117.15714</td>\n",
              "      <td>1342.43057</td>\n",
              "      <td>0.08727</td>\n",
              "      <td>SES</td>\n",
              "      <td>2021-10-22</td>\n",
              "    </tr>\n",
              "    <tr>\n",
              "      <th>2020-07-10</th>\n",
              "      <td>28</td>\n",
              "      <td>2020-07-10</td>\n",
              "      <td>Brazil</td>\n",
              "      <td>PE</td>\n",
              "      <td>Recife/PE</td>\n",
              "      <td>2611606</td>\n",
              "      <td>8</td>\n",
              "      <td>1954</td>\n",
              "      <td>215</td>\n",
              "      <td>22513</td>\n",
              "      <td>117.63877</td>\n",
              "      <td>1355.37445</td>\n",
              "      <td>0.08679</td>\n",
              "      <td>SES</td>\n",
              "      <td>2021-10-22</td>\n",
              "    </tr>\n",
              "    <tr>\n",
              "      <th>2020-07-11</th>\n",
              "      <td>28</td>\n",
              "      <td>2020-07-11</td>\n",
              "      <td>Brazil</td>\n",
              "      <td>PE</td>\n",
              "      <td>Recife/PE</td>\n",
              "      <td>2611606</td>\n",
              "      <td>12</td>\n",
              "      <td>1966</td>\n",
              "      <td>236</td>\n",
              "      <td>22749</td>\n",
              "      <td>118.36122</td>\n",
              "      <td>1369.58261</td>\n",
              "      <td>0.08642</td>\n",
              "      <td>SES</td>\n",
              "      <td>2021-10-22</td>\n",
              "    </tr>\n",
              "    <tr>\n",
              "      <th>2020-07-12</th>\n",
              "      <td>29</td>\n",
              "      <td>2020-07-12</td>\n",
              "      <td>Brazil</td>\n",
              "      <td>PE</td>\n",
              "      <td>Recife/PE</td>\n",
              "      <td>2611606</td>\n",
              "      <td>2</td>\n",
              "      <td>1968</td>\n",
              "      <td>242</td>\n",
              "      <td>22991</td>\n",
              "      <td>118.48163</td>\n",
              "      <td>1384.15200</td>\n",
              "      <td>0.08560</td>\n",
              "      <td>SES</td>\n",
              "      <td>2021-10-22</td>\n",
              "    </tr>\n",
              "  </tbody>\n",
              "</table>\n",
              "<p>123 rows × 15 columns</p>\n",
              "</div>"
            ],
            "text/plain": [
              "            epi_week       date  ... _source last_info_date\n",
              "date                             ...                       \n",
              "2020-03-12        11 2020-03-12  ...     SES     2021-10-22\n",
              "2020-03-13        11 2020-03-13  ...     SES     2021-10-22\n",
              "2020-03-14        11 2020-03-14  ...     SES     2021-10-22\n",
              "2020-03-15        12 2020-03-15  ...     SES     2021-10-22\n",
              "2020-03-16        12 2020-03-16  ...     SES     2021-10-22\n",
              "...              ...        ...  ...     ...            ...\n",
              "2020-07-08        28 2020-07-08  ...     SES     2021-10-22\n",
              "2020-07-09        28 2020-07-09  ...     SES     2021-10-22\n",
              "2020-07-10        28 2020-07-10  ...     SES     2021-10-22\n",
              "2020-07-11        28 2020-07-11  ...     SES     2021-10-22\n",
              "2020-07-12        29 2020-07-12  ...     SES     2021-10-22\n",
              "\n",
              "[123 rows x 15 columns]"
            ]
          },
          "metadata": {},
          "execution_count": 115
        }
      ]
    },
    {
      "cell_type": "code",
      "metadata": {
        "colab": {
          "base_uri": "https://localhost:8080/",
          "height": 648
        },
        "id": "kGgglPJ7H8cE",
        "outputId": "cfd30bc8-5c5c-4894-b49f-ccf3b4173ddc"
      },
      "source": [
        "total_cases_recife.loc['2020-11-01':'2021-06-30'] #37,76% dos óbitos totais da cidade"
      ],
      "execution_count": 116,
      "outputs": [
        {
          "output_type": "execute_result",
          "data": {
            "text/html": [
              "<div>\n",
              "<style scoped>\n",
              "    .dataframe tbody tr th:only-of-type {\n",
              "        vertical-align: middle;\n",
              "    }\n",
              "\n",
              "    .dataframe tbody tr th {\n",
              "        vertical-align: top;\n",
              "    }\n",
              "\n",
              "    .dataframe thead th {\n",
              "        text-align: right;\n",
              "    }\n",
              "</style>\n",
              "<table border=\"1\" class=\"dataframe\">\n",
              "  <thead>\n",
              "    <tr style=\"text-align: right;\">\n",
              "      <th></th>\n",
              "      <th>epi_week</th>\n",
              "      <th>date</th>\n",
              "      <th>country</th>\n",
              "      <th>state</th>\n",
              "      <th>city</th>\n",
              "      <th>ibgeID</th>\n",
              "      <th>newDeaths</th>\n",
              "      <th>deaths</th>\n",
              "      <th>newCases</th>\n",
              "      <th>totalCases</th>\n",
              "      <th>deaths_per_100k_inhabitants</th>\n",
              "      <th>totalCases_per_100k_inhabitants</th>\n",
              "      <th>deaths_by_totalCases</th>\n",
              "      <th>_source</th>\n",
              "      <th>last_info_date</th>\n",
              "    </tr>\n",
              "    <tr>\n",
              "      <th>date</th>\n",
              "      <th></th>\n",
              "      <th></th>\n",
              "      <th></th>\n",
              "      <th></th>\n",
              "      <th></th>\n",
              "      <th></th>\n",
              "      <th></th>\n",
              "      <th></th>\n",
              "      <th></th>\n",
              "      <th></th>\n",
              "      <th></th>\n",
              "      <th></th>\n",
              "      <th></th>\n",
              "      <th></th>\n",
              "      <th></th>\n",
              "    </tr>\n",
              "  </thead>\n",
              "  <tbody>\n",
              "    <tr>\n",
              "      <th>2020-11-01</th>\n",
              "      <td>45</td>\n",
              "      <td>2020-11-01</td>\n",
              "      <td>Brazil</td>\n",
              "      <td>PE</td>\n",
              "      <td>Recife/PE</td>\n",
              "      <td>2611606</td>\n",
              "      <td>0</td>\n",
              "      <td>2458</td>\n",
              "      <td>-64</td>\n",
              "      <td>36666</td>\n",
              "      <td>147.98163</td>\n",
              "      <td>2207.44279</td>\n",
              "      <td>0.06704</td>\n",
              "      <td>SES</td>\n",
              "      <td>2021-10-22</td>\n",
              "    </tr>\n",
              "    <tr>\n",
              "      <th>2020-11-02</th>\n",
              "      <td>45</td>\n",
              "      <td>2020-11-02</td>\n",
              "      <td>Brazil</td>\n",
              "      <td>PE</td>\n",
              "      <td>Recife/PE</td>\n",
              "      <td>2611606</td>\n",
              "      <td>0</td>\n",
              "      <td>2458</td>\n",
              "      <td>22</td>\n",
              "      <td>36688</td>\n",
              "      <td>147.98163</td>\n",
              "      <td>2208.76728</td>\n",
              "      <td>0.06700</td>\n",
              "      <td>SES</td>\n",
              "      <td>2021-10-22</td>\n",
              "    </tr>\n",
              "    <tr>\n",
              "      <th>2020-11-03</th>\n",
              "      <td>45</td>\n",
              "      <td>2020-11-03</td>\n",
              "      <td>Brazil</td>\n",
              "      <td>PE</td>\n",
              "      <td>Recife/PE</td>\n",
              "      <td>2611606</td>\n",
              "      <td>1</td>\n",
              "      <td>2459</td>\n",
              "      <td>13</td>\n",
              "      <td>36701</td>\n",
              "      <td>148.04183</td>\n",
              "      <td>2209.54993</td>\n",
              "      <td>0.06700</td>\n",
              "      <td>SES</td>\n",
              "      <td>2021-10-22</td>\n",
              "    </tr>\n",
              "    <tr>\n",
              "      <th>2020-11-04</th>\n",
              "      <td>45</td>\n",
              "      <td>2020-11-04</td>\n",
              "      <td>Brazil</td>\n",
              "      <td>PE</td>\n",
              "      <td>Recife/PE</td>\n",
              "      <td>2611606</td>\n",
              "      <td>10</td>\n",
              "      <td>2469</td>\n",
              "      <td>77</td>\n",
              "      <td>36778</td>\n",
              "      <td>148.64387</td>\n",
              "      <td>2214.18565</td>\n",
              "      <td>0.06713</td>\n",
              "      <td>SES</td>\n",
              "      <td>2021-10-22</td>\n",
              "    </tr>\n",
              "    <tr>\n",
              "      <th>2020-11-05</th>\n",
              "      <td>45</td>\n",
              "      <td>2020-11-05</td>\n",
              "      <td>Brazil</td>\n",
              "      <td>PE</td>\n",
              "      <td>Recife/PE</td>\n",
              "      <td>2611606</td>\n",
              "      <td>4</td>\n",
              "      <td>2473</td>\n",
              "      <td>118</td>\n",
              "      <td>36896</td>\n",
              "      <td>148.88469</td>\n",
              "      <td>2221.28973</td>\n",
              "      <td>0.06703</td>\n",
              "      <td>SES</td>\n",
              "      <td>2021-10-22</td>\n",
              "    </tr>\n",
              "    <tr>\n",
              "      <th>...</th>\n",
              "      <td>...</td>\n",
              "      <td>...</td>\n",
              "      <td>...</td>\n",
              "      <td>...</td>\n",
              "      <td>...</td>\n",
              "      <td>...</td>\n",
              "      <td>...</td>\n",
              "      <td>...</td>\n",
              "      <td>...</td>\n",
              "      <td>...</td>\n",
              "      <td>...</td>\n",
              "      <td>...</td>\n",
              "      <td>...</td>\n",
              "      <td>...</td>\n",
              "      <td>...</td>\n",
              "    </tr>\n",
              "    <tr>\n",
              "      <th>2021-06-26</th>\n",
              "      <td>125</td>\n",
              "      <td>2021-06-26</td>\n",
              "      <td>Brazil</td>\n",
              "      <td>PE</td>\n",
              "      <td>Recife/PE</td>\n",
              "      <td>2611606</td>\n",
              "      <td>0</td>\n",
              "      <td>4639</td>\n",
              "      <td>310</td>\n",
              "      <td>134080</td>\n",
              "      <td>279.28673</td>\n",
              "      <td>8072.16302</td>\n",
              "      <td>0.03460</td>\n",
              "      <td>SES</td>\n",
              "      <td>2021-10-22</td>\n",
              "    </tr>\n",
              "    <tr>\n",
              "      <th>2021-06-27</th>\n",
              "      <td>126</td>\n",
              "      <td>2021-06-27</td>\n",
              "      <td>Brazil</td>\n",
              "      <td>PE</td>\n",
              "      <td>Recife/PE</td>\n",
              "      <td>2611606</td>\n",
              "      <td>7</td>\n",
              "      <td>4646</td>\n",
              "      <td>271</td>\n",
              "      <td>134351</td>\n",
              "      <td>279.70815</td>\n",
              "      <td>8088.47832</td>\n",
              "      <td>0.03458</td>\n",
              "      <td>SES</td>\n",
              "      <td>2021-10-22</td>\n",
              "    </tr>\n",
              "    <tr>\n",
              "      <th>2021-06-28</th>\n",
              "      <td>126</td>\n",
              "      <td>2021-06-28</td>\n",
              "      <td>Brazil</td>\n",
              "      <td>PE</td>\n",
              "      <td>Recife/PE</td>\n",
              "      <td>2611606</td>\n",
              "      <td>3</td>\n",
              "      <td>4649</td>\n",
              "      <td>191</td>\n",
              "      <td>134542</td>\n",
              "      <td>279.88877</td>\n",
              "      <td>8099.97730</td>\n",
              "      <td>0.03455</td>\n",
              "      <td>SES</td>\n",
              "      <td>2021-10-22</td>\n",
              "    </tr>\n",
              "    <tr>\n",
              "      <th>2021-06-29</th>\n",
              "      <td>126</td>\n",
              "      <td>2021-06-29</td>\n",
              "      <td>Brazil</td>\n",
              "      <td>PE</td>\n",
              "      <td>Recife/PE</td>\n",
              "      <td>2611606</td>\n",
              "      <td>21</td>\n",
              "      <td>4670</td>\n",
              "      <td>161</td>\n",
              "      <td>134703</td>\n",
              "      <td>281.15305</td>\n",
              "      <td>8109.67016</td>\n",
              "      <td>0.03467</td>\n",
              "      <td>SES</td>\n",
              "      <td>2021-10-22</td>\n",
              "    </tr>\n",
              "    <tr>\n",
              "      <th>2021-06-30</th>\n",
              "      <td>126</td>\n",
              "      <td>2021-06-30</td>\n",
              "      <td>Brazil</td>\n",
              "      <td>PE</td>\n",
              "      <td>Recife/PE</td>\n",
              "      <td>2611606</td>\n",
              "      <td>3</td>\n",
              "      <td>4673</td>\n",
              "      <td>315</td>\n",
              "      <td>135018</td>\n",
              "      <td>281.33366</td>\n",
              "      <td>8128.63445</td>\n",
              "      <td>0.03461</td>\n",
              "      <td>SES</td>\n",
              "      <td>2021-10-22</td>\n",
              "    </tr>\n",
              "  </tbody>\n",
              "</table>\n",
              "<p>242 rows × 15 columns</p>\n",
              "</div>"
            ],
            "text/plain": [
              "            epi_week       date  ... _source last_info_date\n",
              "date                             ...                       \n",
              "2020-11-01        45 2020-11-01  ...     SES     2021-10-22\n",
              "2020-11-02        45 2020-11-02  ...     SES     2021-10-22\n",
              "2020-11-03        45 2020-11-03  ...     SES     2021-10-22\n",
              "2020-11-04        45 2020-11-04  ...     SES     2021-10-22\n",
              "2020-11-05        45 2020-11-05  ...     SES     2021-10-22\n",
              "...              ...        ...  ...     ...            ...\n",
              "2021-06-26       125 2021-06-26  ...     SES     2021-10-22\n",
              "2021-06-27       126 2021-06-27  ...     SES     2021-10-22\n",
              "2021-06-28       126 2021-06-28  ...     SES     2021-10-22\n",
              "2021-06-29       126 2021-06-29  ...     SES     2021-10-22\n",
              "2021-06-30       126 2021-06-30  ...     SES     2021-10-22\n",
              "\n",
              "[242 rows x 15 columns]"
            ]
          },
          "metadata": {},
          "execution_count": 116
        }
      ]
    },
    {
      "cell_type": "code",
      "metadata": {
        "colab": {
          "base_uri": "https://localhost:8080/"
        },
        "id": "SIJPXH4MoB1Q",
        "outputId": "c37b7ff2-8535-4acc-d7b0-4c2910e02d09"
      },
      "source": [
        "total_cases_recife.newCases.rolling(7).mean().loc[\"2021-01-18\"]"
      ],
      "execution_count": 117,
      "outputs": [
        {
          "output_type": "execute_result",
          "data": {
            "text/plain": [
              "245.71428571428572"
            ]
          },
          "metadata": {},
          "execution_count": 117
        }
      ]
    },
    {
      "cell_type": "code",
      "metadata": {
        "colab": {
          "base_uri": "https://localhost:8080/"
        },
        "id": "t-28ipIahcTk",
        "outputId": "50a4a792-505c-4aab-fa01-574129304e19"
      },
      "source": [
        "total_cases_recife.index"
      ],
      "execution_count": 118,
      "outputs": [
        {
          "output_type": "execute_result",
          "data": {
            "text/plain": [
              "DatetimeIndex(['2020-03-12', '2020-03-13', '2020-03-14', '2020-03-15',\n",
              "               '2020-03-16', '2020-03-17', '2020-03-18', '2020-03-19',\n",
              "               '2020-03-20', '2020-03-21',\n",
              "               ...\n",
              "               '2021-12-04', '2021-12-05', '2021-12-06', '2021-12-07',\n",
              "               '2021-12-08', '2021-12-09', '2021-12-10', '2021-12-11',\n",
              "               '2021-12-12', '2021-12-13'],\n",
              "              dtype='datetime64[ns]', name='date', length=642, freq=None)"
            ]
          },
          "metadata": {},
          "execution_count": 118
        }
      ]
    },
    {
      "cell_type": "code",
      "metadata": {
        "colab": {
          "base_uri": "https://localhost:8080/"
        },
        "id": "wpv-WQYoPX7T",
        "outputId": "1d17d3d0-30e1-4c17-9a9a-2b4789337ba5"
      },
      "source": [
        "total_cases_recife.loc['2020-03-12':'2021-09-15'].newDeaths.rolling(7).mean()"
      ],
      "execution_count": 119,
      "outputs": [
        {
          "output_type": "execute_result",
          "data": {
            "text/plain": [
              "date\n",
              "2020-03-12         NaN\n",
              "2020-03-13         NaN\n",
              "2020-03-14         NaN\n",
              "2020-03-15         NaN\n",
              "2020-03-16         NaN\n",
              "                ...   \n",
              "2021-09-11    5.428571\n",
              "2021-09-12    4.857143\n",
              "2021-09-13    5.142857\n",
              "2021-09-14    4.714286\n",
              "2021-09-15    5.000000\n",
              "Name: newDeaths, Length: 553, dtype: float64"
            ]
          },
          "metadata": {},
          "execution_count": 119
        }
      ]
    },
    {
      "cell_type": "code",
      "source": [
        "second_moment = total_cases_recife.loc['2020-03-12':'2020-10-31'].newCases.rolling(7).mean()"
      ],
      "metadata": {
        "id": "a8NaQPaogxBz"
      },
      "execution_count": 120,
      "outputs": []
    },
    {
      "cell_type": "code",
      "source": [
        "second_moment.sort_values().head(50)"
      ],
      "metadata": {
        "colab": {
          "base_uri": "https://localhost:8080/"
        },
        "id": "LlC3NvqLhPtQ",
        "outputId": "ed965488-dd39-4d26-855e-5b8f680b294b"
      },
      "execution_count": 121,
      "outputs": [
        {
          "output_type": "execute_result",
          "data": {
            "text/plain": [
              "date\n",
              "2020-09-07   -32.571429\n",
              "2020-09-06   -30.428571\n",
              "2020-09-05   -12.142857\n",
              "2020-03-19     1.714286\n",
              "2020-03-20     1.714286\n",
              "2020-03-18     2.000000\n",
              "2020-03-24     2.428571\n",
              "2020-03-25     2.428571\n",
              "2020-03-26     2.714286\n",
              "2020-03-21     2.714286\n",
              "2020-03-28     3.000000\n",
              "2020-03-22     3.000000\n",
              "2020-03-29     3.142857\n",
              "2020-03-30     3.142857\n",
              "2020-03-23     3.285714\n",
              "2020-03-27     3.428571\n",
              "2020-03-31     4.000000\n",
              "2020-04-01     4.714286\n",
              "2020-04-02     5.857143\n",
              "2020-04-03     7.714286\n",
              "2020-04-04    10.428571\n",
              "2020-04-05    12.714286\n",
              "2020-04-06    13.428571\n",
              "2020-04-07    23.285714\n",
              "2020-10-17    25.428571\n",
              "2020-04-08    27.142857\n",
              "2020-09-04    28.285714\n",
              "2020-09-03    32.428571\n",
              "2020-09-02    32.857143\n",
              "2020-09-01    36.142857\n",
              "2020-04-09    38.000000\n",
              "2020-10-16    40.000000\n",
              "2020-04-10    45.857143\n",
              "2020-10-15    48.142857\n",
              "2020-10-14    51.142857\n",
              "2020-04-11    52.428571\n",
              "2020-10-18    53.000000\n",
              "2020-10-19    55.000000\n",
              "2020-04-12    59.714286\n",
              "2020-10-09    60.571429\n",
              "2020-10-13    60.714286\n",
              "2020-09-28    65.571429\n",
              "2020-10-06    65.571429\n",
              "2020-10-10    66.428571\n",
              "2020-10-27    66.571429\n",
              "2020-10-08    67.000000\n",
              "2020-10-26    68.000000\n",
              "2020-10-28    68.285714\n",
              "2020-10-25    70.142857\n",
              "2020-10-20    71.000000\n",
              "Name: newCases, dtype: float64"
            ]
          },
          "metadata": {},
          "execution_count": 121
        }
      ]
    },
    {
      "cell_type": "code",
      "source": [
        "total_cases_recife.loc['2020-03-12':'2021-09-15'].newDeaths.rolling(7).mean().idxmax()"
      ],
      "metadata": {
        "colab": {
          "base_uri": "https://localhost:8080/"
        },
        "id": "Y1GP_RbTlu0J",
        "outputId": "af61fac8-8799-445a-bc0f-271e0e59dfbd"
      },
      "execution_count": 122,
      "outputs": [
        {
          "output_type": "execute_result",
          "data": {
            "text/plain": [
              "Timestamp('2020-06-14 00:00:00')"
            ]
          },
          "metadata": {},
          "execution_count": 122
        }
      ]
    },
    {
      "cell_type": "code",
      "source": [
        "total_cases_recife.loc['2020-03-12':'2021-02-28'].newCases.rolling(7).mean().max()"
      ],
      "metadata": {
        "colab": {
          "base_uri": "https://localhost:8080/"
        },
        "id": "QuTxXTVlmecr",
        "outputId": "21c04285-ade2-4e0d-a566-77ce1049d83a"
      },
      "execution_count": 123,
      "outputs": [
        {
          "output_type": "execute_result",
          "data": {
            "text/plain": [
              "689.8571428571429"
            ]
          },
          "metadata": {},
          "execution_count": 123
        }
      ]
    },
    {
      "cell_type": "code",
      "metadata": {
        "id": "qnY2e3q6W8Tl"
      },
      "source": [
        "def add_innerbox(ax, text):\n",
        "  ax.text(.90, .8, text,\n",
        "          horizontalalignment='center',\n",
        "          transform=ax.transAxes,\n",
        "          bbox=dict(facecolor='white', alpha=0.6),\n",
        "          fontsize=12.5)"
      ],
      "execution_count": 124,
      "outputs": []
    },
    {
      "cell_type": "code",
      "metadata": {
        "id": "KgkyWqPMlKM2"
      },
      "source": [
        "from datetime import datetime\n",
        "dates = ['2020-03-12', '2020-12-31']\n",
        "dates = [datetime.strptime(x, '%Y-%m-%d') for x in dates]"
      ],
      "execution_count": 125,
      "outputs": []
    },
    {
      "cell_type": "code",
      "metadata": {
        "colab": {
          "base_uri": "https://localhost:8080/",
          "height": 614
        },
        "id": "Ec1UXwDh6gAb",
        "outputId": "2a5248ca-ac7a-47bd-8049-d57755fce90c"
      },
      "source": [
        "\n",
        "fig, (ax1,ax2,ax3) = plt.subplots(nrows=3, figsize=(20, 10))\n",
        "\n",
        "plt.rcParams.update({'font.size': 14})\n",
        "\n",
        "#remove axes spines\n",
        "for s in ['top', 'right']:\n",
        "    ax1.spines[s].set_visible(False)\n",
        "    ax2.spines[s].set_visible(False)\n",
        "    ax3.spines[s].set_visible(False)\n",
        "\n",
        "\n",
        "ax1.plot(total_cases_recife.loc['2020-03-12':'2021-09-15'].newCases.rolling(7).mean()) #ma de novos casos\n",
        "ax1.set_xlim(xmin=total_cases_recife.loc['2020-03-12':'2021-09-15'].newCases.rolling(7).mean().index[0], \n",
        "             xmax=total_cases_recife.loc['2020-03-12':'2021-09-15'].newCases.rolling(7).mean().index[-1]) \n",
        "ax1.set_ylim(0)\n",
        "ax1.set_ylabel(\"Novos casos (m.m)\")\n",
        "\n",
        "\n",
        "ax2.plot(total_cases_recife.loc['2020-03-12':'2021-09-15'].newDeaths.rolling(7).mean(), color = \"r\", linestyle='solid') #ma de óbitos\n",
        "ax2.set_xlim(xmin=total_cases_recife.loc['2020-03-12':'2021-09-15'].newDeaths.rolling(7).mean().index[0], \n",
        "             xmax=total_cases_recife.loc['2020-03-12':'2021-09-15'].newDeaths.rolling(7).mean().index[-1])\n",
        "ax2.set_ylim(0)\n",
        "ax2.set_ylabel(\"Novos óbitos (m.m)\")\n",
        "\n",
        "\n",
        "ax3.plot(graves_cont.loc['2020-03-05':'2021-09-15'].rolling(7).mean()) #ma de casos de SRAG\n",
        "ax3.set_xlim(xmin=graves_cont.loc['2020-03-05':'2021-09-15'].rolling(7).mean().index[0], \n",
        "             xmax=graves_cont.loc['2020-03-05':'2021-09-15'].rolling(7).mean().index[-1])\n",
        "ax3.set_ylim(0, 200)\n",
        "ax3.set_ylabel(\"Novos casos graves (m.m)\")\n",
        "\n",
        "#16 a 31 maio 2020, restrição de pessoas no Recife\n",
        "#15th march, schools get back\n",
        "#18th january, vaccination begins\n",
        "\n",
        "fig.text(0.5, 0.08, \"Ano/Meses\", ha=\"center\")\n",
        "#add_innerbox(ax1, \"Novos casos (m.m)\")\n",
        "#add_innerbox(ax2, \"Novos óbitos (m.m)\")\n",
        "#add_innerbox(ax3, \"Novos casos graves (m.m)\")\n",
        "\n",
        "#1st lockdown\n",
        "ax1.axvspan(dates[0], dates[1], alpha=0.2, color=\"gray\")\n",
        "ax1.text(total_cases_recife.loc['2020-03-12':'2021-09-15'].newCases.rolling(7).mean().index[150], 700, s=\"2020\", weight='bold')\n",
        "\n",
        "#vaccination\n",
        "#vac = ax1.plot(datetime.strptime('2021-01-18', '%Y-%m-%d'), total_cases_recife.newCases.rolling(7).mean().loc['2021-01-18'], '*', color='r')\n",
        "#ax1.legend((vac), (\"vaccination\",), loc=\"upper left\")\n",
        "\n",
        "fig.show()\n",
        "fig.savefig(\"geral.jpg\", format='jpg')\n",
        "#Covid-19 confirmado e não confirmados para nenhuma outra coisa\n",
        "\n",
        "#segunda onda! = lockdown março, édia sustentada de mortes"
      ],
      "execution_count": 126,
      "outputs": [
        {
          "output_type": "display_data",
          "data": {
            "image/png": "[encoded data removed]",
            "text/plain": [
              "<Figure size 1440x720 with 3 Axes>"
            ]
          },
          "metadata": {
            "needs_background": "light"
          }
        }
      ]
    },
    {
      "cell_type": "markdown",
      "metadata": {
        "id": "NNmhwOKKz3Mm"
      },
      "source": [
        "##Montando o ambiente para uma análise espacial"
      ]
    },
    {
      "cell_type": "code",
      "metadata": {
        "id": "7tzpiGJ40T7R"
      },
      "source": [
        "bairros_json = gpd.read_file(\"/content/bairros.geojson\")"
      ],
      "execution_count": 127,
      "outputs": []
    },
    {
      "cell_type": "code",
      "metadata": {
        "colab": {
          "base_uri": "https://localhost:8080/",
          "height": 0
        },
        "id": "6JtzP2ny3Oi3",
        "outputId": "f7503c16-311c-4ea5-cbfe-ab7bbbbda981"
      },
      "source": [
        "bairros_json[bairros_json['bairro_nome_ca'] == 'PAU FERRO']"
      ],
      "execution_count": 128,
      "outputs": [
        {
          "output_type": "execute_result",
          "data": {
            "text/html": [
              "<div>\n",
              "<style scoped>\n",
              "    .dataframe tbody tr th:only-of-type {\n",
              "        vertical-align: middle;\n",
              "    }\n",
              "\n",
              "    .dataframe tbody tr th {\n",
              "        vertical-align: top;\n",
              "    }\n",
              "\n",
              "    .dataframe thead th {\n",
              "        text-align: right;\n",
              "    }\n",
              "</style>\n",
              "<table border=\"1\" class=\"dataframe\">\n",
              "  <thead>\n",
              "    <tr style=\"text-align: right;\">\n",
              "      <th></th>\n",
              "      <th>bairro_codigo</th>\n",
              "      <th>bairro_nome_ca</th>\n",
              "      <th>rpa</th>\n",
              "      <th>microrregiao</th>\n",
              "      <th>bairro_nome</th>\n",
              "      <th>geometry</th>\n",
              "    </tr>\n",
              "  </thead>\n",
              "  <tbody>\n",
              "    <tr>\n",
              "      <th>27</th>\n",
              "      <td>639</td>\n",
              "      <td>PAU FERRO</td>\n",
              "      <td>3</td>\n",
              "      <td>3</td>\n",
              "      <td>Pau Ferro</td>\n",
              "      <td>POLYGON ((-34.99012 -7.96201, -34.99012 -7.962...</td>\n",
              "    </tr>\n",
              "  </tbody>\n",
              "</table>\n",
              "</div>"
            ],
            "text/plain": [
              "    bairro_codigo  ...                                           geometry\n",
              "27            639  ...  POLYGON ((-34.99012 -7.96201, -34.99012 -7.962...\n",
              "\n",
              "[1 rows x 6 columns]"
            ]
          },
          "metadata": {},
          "execution_count": 128
        }
      ]
    },
    {
      "cell_type": "code",
      "metadata": {
        "id": "pGoixYbNL2q0"
      },
      "source": [
        "bairros_json.rename(columns={'bairro_nome_ca': 'bairro'}, inplace=True)"
      ],
      "execution_count": 129,
      "outputs": []
    },
    {
      "cell_type": "code",
      "metadata": {
        "id": "wR1dKmCXo-Ro"
      },
      "source": [
        "bairros_pop = pd.read_csv(\"/content/bairros_recife_populacao.csv\", thousands='.')"
      ],
      "execution_count": 130,
      "outputs": []
    },
    {
      "cell_type": "code",
      "metadata": {
        "colab": {
          "base_uri": "https://localhost:8080/",
          "height": 0
        },
        "id": "HfXX8bLFvuF8",
        "outputId": "b1ad3db7-7179-457b-fd00-8fb6c21b2891"
      },
      "source": [
        "bairros_pop"
      ],
      "execution_count": 131,
      "outputs": [
        {
          "output_type": "execute_result",
          "data": {
            "text/html": [
              "<div>\n",
              "<style scoped>\n",
              "    .dataframe tbody tr th:only-of-type {\n",
              "        vertical-align: middle;\n",
              "    }\n",
              "\n",
              "    .dataframe tbody tr th {\n",
              "        vertical-align: top;\n",
              "    }\n",
              "\n",
              "    .dataframe thead th {\n",
              "        text-align: right;\n",
              "    }\n",
              "</style>\n",
              "<table border=\"1\" class=\"dataframe\">\n",
              "  <thead>\n",
              "    <tr style=\"text-align: right;\">\n",
              "      <th></th>\n",
              "      <th>bairro</th>\n",
              "      <th>pop</th>\n",
              "    </tr>\n",
              "  </thead>\n",
              "  <tbody>\n",
              "    <tr>\n",
              "      <th>0</th>\n",
              "      <td>Aflitos</td>\n",
              "      <td>5773</td>\n",
              "    </tr>\n",
              "    <tr>\n",
              "      <th>1</th>\n",
              "      <td>Afogados</td>\n",
              "      <td>36265</td>\n",
              "    </tr>\n",
              "    <tr>\n",
              "      <th>2</th>\n",
              "      <td>Água Fria</td>\n",
              "      <td>43529</td>\n",
              "    </tr>\n",
              "    <tr>\n",
              "      <th>3</th>\n",
              "      <td>Alto do Mandu</td>\n",
              "      <td>4655</td>\n",
              "    </tr>\n",
              "    <tr>\n",
              "      <th>4</th>\n",
              "      <td>Alto José Bonifácio</td>\n",
              "      <td>12462</td>\n",
              "    </tr>\n",
              "    <tr>\n",
              "      <th>...</th>\n",
              "      <td>...</td>\n",
              "      <td>...</td>\n",
              "    </tr>\n",
              "    <tr>\n",
              "      <th>89</th>\n",
              "      <td>Torrões</td>\n",
              "      <td>32015</td>\n",
              "    </tr>\n",
              "    <tr>\n",
              "      <th>90</th>\n",
              "      <td>Totó</td>\n",
              "      <td>2420</td>\n",
              "    </tr>\n",
              "    <tr>\n",
              "      <th>91</th>\n",
              "      <td>Várzea</td>\n",
              "      <td>70453</td>\n",
              "    </tr>\n",
              "    <tr>\n",
              "      <th>92</th>\n",
              "      <td>Vasco da Gama</td>\n",
              "      <td>31025</td>\n",
              "    </tr>\n",
              "    <tr>\n",
              "      <th>93</th>\n",
              "      <td>Zumbi</td>\n",
              "      <td>6033</td>\n",
              "    </tr>\n",
              "  </tbody>\n",
              "</table>\n",
              "<p>94 rows × 2 columns</p>\n",
              "</div>"
            ],
            "text/plain": [
              "                 bairro    pop\n",
              "0               Aflitos   5773\n",
              "1              Afogados  36265\n",
              "2             Água Fria  43529\n",
              "3         Alto do Mandu   4655\n",
              "4   Alto José Bonifácio  12462\n",
              "..                  ...    ...\n",
              "89              Torrões  32015\n",
              "90                 Totó   2420\n",
              "91               Várzea  70453\n",
              "92        Vasco da Gama  31025\n",
              "93                Zumbi   6033\n",
              "\n",
              "[94 rows x 2 columns]"
            ]
          },
          "metadata": {},
          "execution_count": 131
        }
      ]
    },
    {
      "cell_type": "code",
      "metadata": {
        "id": "V1_kTlMIqB1t"
      },
      "source": [
        "bairros_pop['bairro'] = bairros_pop['bairro'].map(upper_cell)"
      ],
      "execution_count": 132,
      "outputs": []
    },
    {
      "cell_type": "code",
      "metadata": {
        "colab": {
          "base_uri": "https://localhost:8080/",
          "height": 0
        },
        "id": "OnbWQahRqefM",
        "outputId": "15c9bd69-141f-4342-b502-f12066e45fd5"
      },
      "source": [
        "bairros_pop"
      ],
      "execution_count": 133,
      "outputs": [
        {
          "output_type": "execute_result",
          "data": {
            "text/html": [
              "<div>\n",
              "<style scoped>\n",
              "    .dataframe tbody tr th:only-of-type {\n",
              "        vertical-align: middle;\n",
              "    }\n",
              "\n",
              "    .dataframe tbody tr th {\n",
              "        vertical-align: top;\n",
              "    }\n",
              "\n",
              "    .dataframe thead th {\n",
              "        text-align: right;\n",
              "    }\n",
              "</style>\n",
              "<table border=\"1\" class=\"dataframe\">\n",
              "  <thead>\n",
              "    <tr style=\"text-align: right;\">\n",
              "      <th></th>\n",
              "      <th>bairro</th>\n",
              "      <th>pop</th>\n",
              "    </tr>\n",
              "  </thead>\n",
              "  <tbody>\n",
              "    <tr>\n",
              "      <th>0</th>\n",
              "      <td>AFLITOS</td>\n",
              "      <td>5773</td>\n",
              "    </tr>\n",
              "    <tr>\n",
              "      <th>1</th>\n",
              "      <td>AFOGADOS</td>\n",
              "      <td>36265</td>\n",
              "    </tr>\n",
              "    <tr>\n",
              "      <th>2</th>\n",
              "      <td>ÁGUA FRIA</td>\n",
              "      <td>43529</td>\n",
              "    </tr>\n",
              "    <tr>\n",
              "      <th>3</th>\n",
              "      <td>ALTO DO MANDU</td>\n",
              "      <td>4655</td>\n",
              "    </tr>\n",
              "    <tr>\n",
              "      <th>4</th>\n",
              "      <td>ALTO JOSÉ BONIFÁCIO</td>\n",
              "      <td>12462</td>\n",
              "    </tr>\n",
              "    <tr>\n",
              "      <th>...</th>\n",
              "      <td>...</td>\n",
              "      <td>...</td>\n",
              "    </tr>\n",
              "    <tr>\n",
              "      <th>89</th>\n",
              "      <td>TORRÕES</td>\n",
              "      <td>32015</td>\n",
              "    </tr>\n",
              "    <tr>\n",
              "      <th>90</th>\n",
              "      <td>TOTÓ</td>\n",
              "      <td>2420</td>\n",
              "    </tr>\n",
              "    <tr>\n",
              "      <th>91</th>\n",
              "      <td>VÁRZEA</td>\n",
              "      <td>70453</td>\n",
              "    </tr>\n",
              "    <tr>\n",
              "      <th>92</th>\n",
              "      <td>VASCO DA GAMA</td>\n",
              "      <td>31025</td>\n",
              "    </tr>\n",
              "    <tr>\n",
              "      <th>93</th>\n",
              "      <td>ZUMBI</td>\n",
              "      <td>6033</td>\n",
              "    </tr>\n",
              "  </tbody>\n",
              "</table>\n",
              "<p>94 rows × 2 columns</p>\n",
              "</div>"
            ],
            "text/plain": [
              "                 bairro    pop\n",
              "0               AFLITOS   5773\n",
              "1              AFOGADOS  36265\n",
              "2             ÁGUA FRIA  43529\n",
              "3         ALTO DO MANDU   4655\n",
              "4   ALTO JOSÉ BONIFÁCIO  12462\n",
              "..                  ...    ...\n",
              "89              TORRÕES  32015\n",
              "90                 TOTÓ   2420\n",
              "91               VÁRZEA  70453\n",
              "92        VASCO DA GAMA  31025\n",
              "93                ZUMBI   6033\n",
              "\n",
              "[94 rows x 2 columns]"
            ]
          },
          "metadata": {},
          "execution_count": 133
        }
      ]
    },
    {
      "cell_type": "code",
      "metadata": {
        "id": "K29oXW5ltfgz"
      },
      "source": [
        "bairro_sem_acento = []\n",
        "for idx in range(len(bairros_pop)):\n",
        "  bairro_sem_acento.append(unidecode.unidecode(bairros_pop.iloc[idx]['bairro']))\n",
        "\n",
        "bairros_pop['bairro'] = bairro_sem_acento"
      ],
      "execution_count": 134,
      "outputs": []
    },
    {
      "cell_type": "code",
      "metadata": {
        "colab": {
          "base_uri": "https://localhost:8080/",
          "height": 0
        },
        "id": "XCDYXTlduLFE",
        "outputId": "5bf1feaf-a363-4919-aaff-23f457553359"
      },
      "source": [
        "bairros_pop.sort_values(by=['pop'])"
      ],
      "execution_count": 135,
      "outputs": [
        {
          "output_type": "execute_result",
          "data": {
            "text/html": [
              "<div>\n",
              "<style scoped>\n",
              "    .dataframe tbody tr th:only-of-type {\n",
              "        vertical-align: middle;\n",
              "    }\n",
              "\n",
              "    .dataframe tbody tr th {\n",
              "        vertical-align: top;\n",
              "    }\n",
              "\n",
              "    .dataframe thead th {\n",
              "        text-align: right;\n",
              "    }\n",
              "</style>\n",
              "<table border=\"1\" class=\"dataframe\">\n",
              "  <thead>\n",
              "    <tr style=\"text-align: right;\">\n",
              "      <th></th>\n",
              "      <th>bairro</th>\n",
              "      <th>pop</th>\n",
              "    </tr>\n",
              "  </thead>\n",
              "  <tbody>\n",
              "    <tr>\n",
              "      <th>68</th>\n",
              "      <td>PAU FERRO</td>\n",
              "      <td>72</td>\n",
              "    </tr>\n",
              "    <tr>\n",
              "      <th>81</th>\n",
              "      <td>SANTO ANTONIO</td>\n",
              "      <td>285</td>\n",
              "    </tr>\n",
              "    <tr>\n",
              "      <th>65</th>\n",
              "      <td>PAISSANDU</td>\n",
              "      <td>507</td>\n",
              "    </tr>\n",
              "    <tr>\n",
              "      <th>75</th>\n",
              "      <td>RECIFE</td>\n",
              "      <td>602</td>\n",
              "    </tr>\n",
              "    <tr>\n",
              "      <th>27</th>\n",
              "      <td>CIDADE UNIVERSITARIA</td>\n",
              "      <td>818</td>\n",
              "    </tr>\n",
              "    <tr>\n",
              "      <th>...</th>\n",
              "      <td>...</td>\n",
              "      <td>...</td>\n",
              "    </tr>\n",
              "    <tr>\n",
              "      <th>45</th>\n",
              "      <td>IBURA</td>\n",
              "      <td>50617</td>\n",
              "    </tr>\n",
              "    <tr>\n",
              "      <th>51</th>\n",
              "      <td>IPUTINGA</td>\n",
              "      <td>52200</td>\n",
              "    </tr>\n",
              "    <tr>\n",
              "      <th>29</th>\n",
              "      <td>COHAB</td>\n",
              "      <td>67283</td>\n",
              "    </tr>\n",
              "    <tr>\n",
              "      <th>91</th>\n",
              "      <td>VARZEA</td>\n",
              "      <td>70453</td>\n",
              "    </tr>\n",
              "    <tr>\n",
              "      <th>12</th>\n",
              "      <td>BOA VIAGEM</td>\n",
              "      <td>122922</td>\n",
              "    </tr>\n",
              "  </tbody>\n",
              "</table>\n",
              "<p>94 rows × 2 columns</p>\n",
              "</div>"
            ],
            "text/plain": [
              "                  bairro     pop\n",
              "68             PAU FERRO      72\n",
              "81         SANTO ANTONIO     285\n",
              "65             PAISSANDU     507\n",
              "75                RECIFE     602\n",
              "27  CIDADE UNIVERSITARIA     818\n",
              "..                   ...     ...\n",
              "45                 IBURA   50617\n",
              "51              IPUTINGA   52200\n",
              "29                 COHAB   67283\n",
              "91                VARZEA   70453\n",
              "12            BOA VIAGEM  122922\n",
              "\n",
              "[94 rows x 2 columns]"
            ]
          },
          "metadata": {},
          "execution_count": 135
        }
      ]
    },
    {
      "cell_type": "code",
      "metadata": {
        "id": "tKJVK5vTzLzr"
      },
      "source": [
        "bairros_json = pd.merge(bairros_json, bairros_pop, on=['bairro'], how='outer')"
      ],
      "execution_count": 136,
      "outputs": []
    },
    {
      "cell_type": "code",
      "metadata": {
        "colab": {
          "base_uri": "https://localhost:8080/",
          "height": 0
        },
        "id": "ni9lLq6odaPU",
        "outputId": "a8be9053-4fab-4d99-a3f1-c90f7242c2c5"
      },
      "source": [
        "bairros_json"
      ],
      "execution_count": 137,
      "outputs": [
        {
          "output_type": "execute_result",
          "data": {
            "text/html": [
              "<div>\n",
              "<style scoped>\n",
              "    .dataframe tbody tr th:only-of-type {\n",
              "        vertical-align: middle;\n",
              "    }\n",
              "\n",
              "    .dataframe tbody tr th {\n",
              "        vertical-align: top;\n",
              "    }\n",
              "\n",
              "    .dataframe thead th {\n",
              "        text-align: right;\n",
              "    }\n",
              "</style>\n",
              "<table border=\"1\" class=\"dataframe\">\n",
              "  <thead>\n",
              "    <tr style=\"text-align: right;\">\n",
              "      <th></th>\n",
              "      <th>bairro_codigo</th>\n",
              "      <th>bairro</th>\n",
              "      <th>rpa</th>\n",
              "      <th>microrregiao</th>\n",
              "      <th>bairro_nome</th>\n",
              "      <th>geometry</th>\n",
              "      <th>pop</th>\n",
              "    </tr>\n",
              "  </thead>\n",
              "  <tbody>\n",
              "    <tr>\n",
              "      <th>0</th>\n",
              "      <td>728</td>\n",
              "      <td>CIDADE UNIVERSITARIA</td>\n",
              "      <td>4</td>\n",
              "      <td>3</td>\n",
              "      <td>Cidade Universitária</td>\n",
              "      <td>POLYGON ((-34.94416 -8.04985, -34.94419 -8.050...</td>\n",
              "      <td>818</td>\n",
              "    </tr>\n",
              "    <tr>\n",
              "      <th>1</th>\n",
              "      <td>116</td>\n",
              "      <td>SOLEDADE</td>\n",
              "      <td>1</td>\n",
              "      <td>2</td>\n",
              "      <td>Soledade</td>\n",
              "      <td>POLYGON ((-34.88631 -8.05667, -34.88697 -8.057...</td>\n",
              "      <td>2495</td>\n",
              "    </tr>\n",
              "    <tr>\n",
              "      <th>2</th>\n",
              "      <td>710</td>\n",
              "      <td>ENGENHO DO MEIO</td>\n",
              "      <td>4</td>\n",
              "      <td>2</td>\n",
              "      <td>Engenho do Meio</td>\n",
              "      <td>POLYGON ((-34.93946 -8.04985, -34.93920 -8.050...</td>\n",
              "      <td>10211</td>\n",
              "    </tr>\n",
              "    <tr>\n",
              "      <th>3</th>\n",
              "      <td>841</td>\n",
              "      <td>CACOTE</td>\n",
              "      <td>5</td>\n",
              "      <td>2</td>\n",
              "      <td>Caçote</td>\n",
              "      <td>POLYGON ((-34.92839 -8.09840, -34.92817 -8.099...</td>\n",
              "      <td>10470</td>\n",
              "    </tr>\n",
              "    <tr>\n",
              "      <th>4</th>\n",
              "      <td>884</td>\n",
              "      <td>COHAB</td>\n",
              "      <td>6</td>\n",
              "      <td>3</td>\n",
              "      <td>Cohab</td>\n",
              "      <td>POLYGON ((-34.94679 -8.10944, -34.94651 -8.110...</td>\n",
              "      <td>67283</td>\n",
              "    </tr>\n",
              "    <tr>\n",
              "      <th>...</th>\n",
              "      <td>...</td>\n",
              "      <td>...</td>\n",
              "      <td>...</td>\n",
              "      <td>...</td>\n",
              "      <td>...</td>\n",
              "      <td>...</td>\n",
              "      <td>...</td>\n",
              "    </tr>\n",
              "    <tr>\n",
              "      <th>89</th>\n",
              "      <td>825</td>\n",
              "      <td>JIQUIA</td>\n",
              "      <td>5</td>\n",
              "      <td>2</td>\n",
              "      <td>Jiquiá</td>\n",
              "      <td>POLYGON ((-34.93468 -8.07772, -34.93166 -8.075...</td>\n",
              "      <td>10245</td>\n",
              "    </tr>\n",
              "    <tr>\n",
              "      <th>90</th>\n",
              "      <td>779</td>\n",
              "      <td>AFOGADOS</td>\n",
              "      <td>5</td>\n",
              "      <td>3</td>\n",
              "      <td>Afogados</td>\n",
              "      <td>MULTIPOLYGON (((-34.91209 -8.06406, -34.91207 ...</td>\n",
              "      <td>36265</td>\n",
              "    </tr>\n",
              "    <tr>\n",
              "      <th>91</th>\n",
              "      <td>507</td>\n",
              "      <td>APIPUCOS</td>\n",
              "      <td>3</td>\n",
              "      <td>1</td>\n",
              "      <td>Apipucos</td>\n",
              "      <td>POLYGON ((-34.93551 -8.01031, -34.93551 -8.010...</td>\n",
              "      <td>3342</td>\n",
              "    </tr>\n",
              "    <tr>\n",
              "      <th>92</th>\n",
              "      <td>418</td>\n",
              "      <td>GUABIRABA</td>\n",
              "      <td>3</td>\n",
              "      <td>3</td>\n",
              "      <td>Guabiraba</td>\n",
              "      <td>POLYGON ((-35.00157 -7.92781, -35.00148 -7.927...</td>\n",
              "      <td>6330</td>\n",
              "    </tr>\n",
              "    <tr>\n",
              "      <th>93</th>\n",
              "      <td>620</td>\n",
              "      <td>CORREGO DO JENIPAPO</td>\n",
              "      <td>3</td>\n",
              "      <td>3</td>\n",
              "      <td>Córrego do Jenipapo</td>\n",
              "      <td>POLYGON ((-34.93476 -7.99808, -34.93476 -7.998...</td>\n",
              "      <td>9246</td>\n",
              "    </tr>\n",
              "  </tbody>\n",
              "</table>\n",
              "<p>94 rows × 7 columns</p>\n",
              "</div>"
            ],
            "text/plain": [
              "    bairro_codigo  ...    pop\n",
              "0             728  ...    818\n",
              "1             116  ...   2495\n",
              "2             710  ...  10211\n",
              "3             841  ...  10470\n",
              "4             884  ...  67283\n",
              "..            ...  ...    ...\n",
              "89            825  ...  10245\n",
              "90            779  ...  36265\n",
              "91            507  ...   3342\n",
              "92            418  ...   6330\n",
              "93            620  ...   9246\n",
              "\n",
              "[94 rows x 7 columns]"
            ]
          },
          "metadata": {},
          "execution_count": 137
        }
      ]
    },
    {
      "cell_type": "markdown",
      "metadata": {
        "id": "yRn-q9CanrVV"
      },
      "source": [
        "##Casos PCR positivos: visão temporal e espacial"
      ]
    },
    {
      "cell_type": "code",
      "metadata": {
        "colab": {
          "base_uri": "https://localhost:8080/",
          "height": 0
        },
        "id": "q1tQfYRcGN2P",
        "outputId": "2bf131f7-2495-4004-e937-a73da570f18d"
      },
      "source": [
        "leves = \"http://dados.recife.pe.gov.br/dataset/35b7d449-f2f5-4d90-a1ed-6d2a23462bc8/resource/8d275f9b-854e-4d9d-9f50-ada414e29e2f/download/casoslevescovid.csv\"\n",
        "\n",
        "casos_leves = pd.read_csv(\"/content/casoslevescovid.csv\", sep=';')\n",
        "\n",
        "casos_leves"
      ],
      "execution_count": 138,
      "outputs": [
        {
          "output_type": "stream",
          "name": "stderr",
          "text": [
            "/usr/local/lib/python3.7/dist-packages/IPython/core/interactiveshell.py:2718: DtypeWarning: Columns (1,10) have mixed types.Specify dtype option on import or set low_memory=False.\n",
            "  interactivity=interactivity, compiler=compiler, result=result)\n"
          ]
        },
        {
          "output_type": "execute_result",
          "data": {
            "text/html": [
              "<div>\n",
              "<style scoped>\n",
              "    .dataframe tbody tr th:only-of-type {\n",
              "        vertical-align: middle;\n",
              "    }\n",
              "\n",
              "    .dataframe tbody tr th {\n",
              "        vertical-align: top;\n",
              "    }\n",
              "\n",
              "    .dataframe thead th {\n",
              "        text-align: right;\n",
              "    }\n",
              "</style>\n",
              "<table border=\"1\" class=\"dataframe\">\n",
              "  <thead>\n",
              "    <tr style=\"text-align: right;\">\n",
              "      <th></th>\n",
              "      <th>sexo</th>\n",
              "      <th>idade</th>\n",
              "      <th>data_notificacao</th>\n",
              "      <th>data_inicio_sintomas</th>\n",
              "      <th>sintomas</th>\n",
              "      <th>outros_sintomas</th>\n",
              "      <th>evolucao_caso</th>\n",
              "      <th>em_tratamento_domiciliar</th>\n",
              "      <th>doencas_preexistentes</th>\n",
              "      <th>raca_cor</th>\n",
              "      <th>etnia</th>\n",
              "      <th>profissional_saude</th>\n",
              "      <th>cbo</th>\n",
              "      <th>municipio_notificacao</th>\n",
              "      <th>bairro</th>\n",
              "      <th>ds</th>\n",
              "    </tr>\n",
              "  </thead>\n",
              "  <tbody>\n",
              "    <tr>\n",
              "      <th>0</th>\n",
              "      <td>Masculino</td>\n",
              "      <td>59</td>\n",
              "      <td>2020-03-30</td>\n",
              "      <td>2020-03-29</td>\n",
              "      <td>Dor De Garganta,Tosse,</td>\n",
              "      <td>0</td>\n",
              "      <td>NaN</td>\n",
              "      <td>NaN</td>\n",
              "      <td>NaN</td>\n",
              "      <td>NaN</td>\n",
              "      <td>NaN</td>\n",
              "      <td>Não</td>\n",
              "      <td>NaN</td>\n",
              "      <td>NaN</td>\n",
              "      <td>IPUTINGA</td>\n",
              "      <td>IV</td>\n",
              "    </tr>\n",
              "    <tr>\n",
              "      <th>1</th>\n",
              "      <td>Feminino</td>\n",
              "      <td>44</td>\n",
              "      <td>2020-03-24</td>\n",
              "      <td>2020-03-03</td>\n",
              "      <td>Febre,Tosse,</td>\n",
              "      <td>0</td>\n",
              "      <td>NaN</td>\n",
              "      <td>NaN</td>\n",
              "      <td>NaN</td>\n",
              "      <td>NaN</td>\n",
              "      <td>NaN</td>\n",
              "      <td>NaN</td>\n",
              "      <td>NaN</td>\n",
              "      <td>Fortaleza</td>\n",
              "      <td>IGNORADO</td>\n",
              "      <td>IGNORADO</td>\n",
              "    </tr>\n",
              "    <tr>\n",
              "      <th>2</th>\n",
              "      <td>Feminino</td>\n",
              "      <td>25</td>\n",
              "      <td>2020-03-23</td>\n",
              "      <td>2020-03-16</td>\n",
              "      <td>Febre, Tosse,</td>\n",
              "      <td>Mialgia,Artralgia, Coriza, Calafrios, Producao...</td>\n",
              "      <td>NaN</td>\n",
              "      <td>NaN</td>\n",
              "      <td>NaN</td>\n",
              "      <td>NaN</td>\n",
              "      <td>NaN</td>\n",
              "      <td>Sim</td>\n",
              "      <td>NaN</td>\n",
              "      <td>Sao Luis</td>\n",
              "      <td>IGNORADO</td>\n",
              "      <td>IGNORADO</td>\n",
              "    </tr>\n",
              "    <tr>\n",
              "      <th>3</th>\n",
              "      <td>Feminino</td>\n",
              "      <td>5</td>\n",
              "      <td>2020-03-06</td>\n",
              "      <td>2020-02-28</td>\n",
              "      <td>Febre , Tosse , Dor De Garganta</td>\n",
              "      <td>0</td>\n",
              "      <td>Cura</td>\n",
              "      <td>Descartado</td>\n",
              "      <td>NaN</td>\n",
              "      <td>NaN</td>\n",
              "      <td>NaN</td>\n",
              "      <td>NaN</td>\n",
              "      <td>NaN</td>\n",
              "      <td>Recife</td>\n",
              "      <td>IGNORADO</td>\n",
              "      <td>IGNORADO</td>\n",
              "    </tr>\n",
              "    <tr>\n",
              "      <th>4</th>\n",
              "      <td>Feminino</td>\n",
              "      <td>IGN</td>\n",
              "      <td>2020-03-07</td>\n",
              "      <td>2020-02-25</td>\n",
              "      <td>Febre , Tosse ,</td>\n",
              "      <td>Coriza</td>\n",
              "      <td>Cura</td>\n",
              "      <td>Descartado</td>\n",
              "      <td>NaN</td>\n",
              "      <td>NaN</td>\n",
              "      <td>NaN</td>\n",
              "      <td>NaN</td>\n",
              "      <td>NaN</td>\n",
              "      <td>Recife</td>\n",
              "      <td>IGNORADO</td>\n",
              "      <td>IGNORADO</td>\n",
              "    </tr>\n",
              "    <tr>\n",
              "      <th>...</th>\n",
              "      <td>...</td>\n",
              "      <td>...</td>\n",
              "      <td>...</td>\n",
              "      <td>...</td>\n",
              "      <td>...</td>\n",
              "      <td>...</td>\n",
              "      <td>...</td>\n",
              "      <td>...</td>\n",
              "      <td>...</td>\n",
              "      <td>...</td>\n",
              "      <td>...</td>\n",
              "      <td>...</td>\n",
              "      <td>...</td>\n",
              "      <td>...</td>\n",
              "      <td>...</td>\n",
              "      <td>...</td>\n",
              "    </tr>\n",
              "    <tr>\n",
              "      <th>574287</th>\n",
              "      <td>Feminino</td>\n",
              "      <td>29</td>\n",
              "      <td>2021-05-02</td>\n",
              "      <td>2021-04-30</td>\n",
              "      <td>Outros, Assintomático</td>\n",
              "      <td>0</td>\n",
              "      <td>Cura</td>\n",
              "      <td>Descartado</td>\n",
              "      <td>NaN</td>\n",
              "      <td>Parda</td>\n",
              "      <td>NaN</td>\n",
              "      <td>Não</td>\n",
              "      <td>NaN</td>\n",
              "      <td>Recife</td>\n",
              "      <td>PASSARINHO</td>\n",
              "      <td>VII</td>\n",
              "    </tr>\n",
              "    <tr>\n",
              "      <th>574288</th>\n",
              "      <td>Feminino</td>\n",
              "      <td>48</td>\n",
              "      <td>2021-05-02</td>\n",
              "      <td>2021-04-25</td>\n",
              "      <td>Tosse, Dor de Cabeça</td>\n",
              "      <td>PRE OPERATORIO</td>\n",
              "      <td>Cura</td>\n",
              "      <td>Descartado</td>\n",
              "      <td>NaN</td>\n",
              "      <td>Parda</td>\n",
              "      <td>NaN</td>\n",
              "      <td>Não</td>\n",
              "      <td>NaN</td>\n",
              "      <td>Carpina</td>\n",
              "      <td>JARDIM SAO PAULO</td>\n",
              "      <td>V</td>\n",
              "    </tr>\n",
              "    <tr>\n",
              "      <th>574289</th>\n",
              "      <td>Feminino</td>\n",
              "      <td>35</td>\n",
              "      <td>2021-05-02</td>\n",
              "      <td>2021-04-30</td>\n",
              "      <td>Outros, Assintomático</td>\n",
              "      <td>0</td>\n",
              "      <td>Cura</td>\n",
              "      <td>Descartado</td>\n",
              "      <td>NaN</td>\n",
              "      <td>Parda</td>\n",
              "      <td>NaN</td>\n",
              "      <td>Não</td>\n",
              "      <td>NaN</td>\n",
              "      <td>Recife</td>\n",
              "      <td>VARZEA</td>\n",
              "      <td>IV</td>\n",
              "    </tr>\n",
              "    <tr>\n",
              "      <th>574290</th>\n",
              "      <td>Masculino</td>\n",
              "      <td>71</td>\n",
              "      <td>2021-05-02</td>\n",
              "      <td>2021-04-30</td>\n",
              "      <td>Outros, Assintomático</td>\n",
              "      <td>PRE OPERATORIO</td>\n",
              "      <td>Cura</td>\n",
              "      <td>Descartado</td>\n",
              "      <td>NaN</td>\n",
              "      <td>Parda</td>\n",
              "      <td>NaN</td>\n",
              "      <td>Não</td>\n",
              "      <td>NaN</td>\n",
              "      <td>Recife</td>\n",
              "      <td>MUSTARDINHA</td>\n",
              "      <td>V</td>\n",
              "    </tr>\n",
              "    <tr>\n",
              "      <th>574291</th>\n",
              "      <td>Masculino</td>\n",
              "      <td>41</td>\n",
              "      <td>2021-05-03</td>\n",
              "      <td>2021-04-30</td>\n",
              "      <td>Assintomático</td>\n",
              "      <td>PRE OPERATORIO</td>\n",
              "      <td>Cura</td>\n",
              "      <td>Descartado</td>\n",
              "      <td>NaN</td>\n",
              "      <td>Parda</td>\n",
              "      <td>NaN</td>\n",
              "      <td>Não</td>\n",
              "      <td>NaN</td>\n",
              "      <td>Cupira</td>\n",
              "      <td>SAO JOSE</td>\n",
              "      <td>I</td>\n",
              "    </tr>\n",
              "  </tbody>\n",
              "</table>\n",
              "<p>574292 rows × 16 columns</p>\n",
              "</div>"
            ],
            "text/plain": [
              "             sexo idade  ...            bairro        ds\n",
              "0       Masculino    59  ...          IPUTINGA        IV\n",
              "1        Feminino    44  ...          IGNORADO  IGNORADO\n",
              "2        Feminino    25  ...          IGNORADO  IGNORADO\n",
              "3        Feminino     5  ...          IGNORADO  IGNORADO\n",
              "4        Feminino   IGN  ...          IGNORADO  IGNORADO\n",
              "...           ...   ...  ...               ...       ...\n",
              "574287   Feminino    29  ...        PASSARINHO       VII\n",
              "574288   Feminino    48  ...  JARDIM SAO PAULO         V\n",
              "574289   Feminino    35  ...            VARZEA        IV\n",
              "574290  Masculino    71  ...       MUSTARDINHA         V\n",
              "574291  Masculino    41  ...          SAO JOSE         I\n",
              "\n",
              "[574292 rows x 16 columns]"
            ]
          },
          "metadata": {},
          "execution_count": 138
        }
      ]
    },
    {
      "cell_type": "code",
      "metadata": {
        "colab": {
          "base_uri": "https://localhost:8080/"
        },
        "id": "3FUyGa8jHFCs",
        "outputId": "250ee40a-a14b-41d6-a672-7002d99e59fc"
      },
      "source": [
        "casos_leves.em_tratamento_domiciliar.unique()"
      ],
      "execution_count": 139,
      "outputs": [
        {
          "output_type": "execute_result",
          "data": {
            "text/plain": [
              "array([nan, 'Descartado', 'Confirmado Laboratorial',\n",
              "       'Confirmação Laboratorial', 'Síndrome Gripal Não Especificada',\n",
              "       'Confirmado Clínico-Imagem', 'Confirmado Clínico-Epidemiológico',\n",
              "       'Confirmado por Critério Clínico'], dtype=object)"
            ]
          },
          "metadata": {},
          "execution_count": 139
        }
      ]
    },
    {
      "cell_type": "code",
      "metadata": {
        "id": "mwJRnoDYGo-z"
      },
      "source": [
        "casos_leves = casos_leves[(casos_leves['em_tratamento_domiciliar'] == 'Confirmado Laboratorial') | (casos_leves['em_tratamento_domiciliar'] == 'Confirmação Laboratorial')] \n",
        "#Vou pegar somente os casos confirmados laboratorialmente"
      ],
      "execution_count": 140,
      "outputs": []
    },
    {
      "cell_type": "code",
      "metadata": {
        "id": "xFprkhDOIdwz"
      },
      "source": [
        "casos_leves = casos_leves[(casos_leves['municipio_notificacao'] == 'Recife') & (casos_leves['bairro'] != 'IGNORADO')] #Só casos notificados no Recife e que o bairro possa ser identificado"
      ],
      "execution_count": 141,
      "outputs": []
    },
    {
      "cell_type": "code",
      "metadata": {
        "colab": {
          "base_uri": "https://localhost:8080/",
          "height": 0
        },
        "id": "aOuoi9eLKJJj",
        "outputId": "d3438ac0-6346-4082-e464-f58767977729"
      },
      "source": [
        "casos_leves"
      ],
      "execution_count": 142,
      "outputs": [
        {
          "output_type": "execute_result",
          "data": {
            "text/html": [
              "<div>\n",
              "<style scoped>\n",
              "    .dataframe tbody tr th:only-of-type {\n",
              "        vertical-align: middle;\n",
              "    }\n",
              "\n",
              "    .dataframe tbody tr th {\n",
              "        vertical-align: top;\n",
              "    }\n",
              "\n",
              "    .dataframe thead th {\n",
              "        text-align: right;\n",
              "    }\n",
              "</style>\n",
              "<table border=\"1\" class=\"dataframe\">\n",
              "  <thead>\n",
              "    <tr style=\"text-align: right;\">\n",
              "      <th></th>\n",
              "      <th>sexo</th>\n",
              "      <th>idade</th>\n",
              "      <th>data_notificacao</th>\n",
              "      <th>data_inicio_sintomas</th>\n",
              "      <th>sintomas</th>\n",
              "      <th>outros_sintomas</th>\n",
              "      <th>evolucao_caso</th>\n",
              "      <th>em_tratamento_domiciliar</th>\n",
              "      <th>doencas_preexistentes</th>\n",
              "      <th>raca_cor</th>\n",
              "      <th>etnia</th>\n",
              "      <th>profissional_saude</th>\n",
              "      <th>cbo</th>\n",
              "      <th>municipio_notificacao</th>\n",
              "      <th>bairro</th>\n",
              "      <th>ds</th>\n",
              "    </tr>\n",
              "  </thead>\n",
              "  <tbody>\n",
              "    <tr>\n",
              "      <th>7</th>\n",
              "      <td>Feminino</td>\n",
              "      <td>28</td>\n",
              "      <td>2020-03-12</td>\n",
              "      <td>2020-03-04</td>\n",
              "      <td>Dor de Garganta, Febre, Tosse</td>\n",
              "      <td>0</td>\n",
              "      <td>Cura</td>\n",
              "      <td>Confirmado Laboratorial</td>\n",
              "      <td>NaN</td>\n",
              "      <td>Parda</td>\n",
              "      <td>NaN</td>\n",
              "      <td>Não</td>\n",
              "      <td>NaN</td>\n",
              "      <td>Recife</td>\n",
              "      <td>ENGENHO DO MEIO</td>\n",
              "      <td>IV</td>\n",
              "    </tr>\n",
              "    <tr>\n",
              "      <th>71</th>\n",
              "      <td>Feminino</td>\n",
              "      <td>42</td>\n",
              "      <td>2020-03-16</td>\n",
              "      <td>2020-03-14</td>\n",
              "      <td>Dor de Garganta, Tosse</td>\n",
              "      <td>0</td>\n",
              "      <td>Cura</td>\n",
              "      <td>Confirmado Laboratorial</td>\n",
              "      <td>NaN</td>\n",
              "      <td>Parda</td>\n",
              "      <td>NaN</td>\n",
              "      <td>Não</td>\n",
              "      <td>NaN</td>\n",
              "      <td>Recife</td>\n",
              "      <td>CAMPO GRANDE</td>\n",
              "      <td>II</td>\n",
              "    </tr>\n",
              "    <tr>\n",
              "      <th>478</th>\n",
              "      <td>Feminino</td>\n",
              "      <td>37</td>\n",
              "      <td>2020-03-26</td>\n",
              "      <td>2020-03-23</td>\n",
              "      <td>Dispneia, Tosse</td>\n",
              "      <td>0</td>\n",
              "      <td>Cura</td>\n",
              "      <td>Confirmação Laboratorial</td>\n",
              "      <td>NaN</td>\n",
              "      <td>Parda</td>\n",
              "      <td>NaN</td>\n",
              "      <td>Sim</td>\n",
              "      <td>1115 - Gestores públicos</td>\n",
              "      <td>Recife</td>\n",
              "      <td>SAN MARTIN</td>\n",
              "      <td>V</td>\n",
              "    </tr>\n",
              "    <tr>\n",
              "      <th>620</th>\n",
              "      <td>Feminino</td>\n",
              "      <td>43</td>\n",
              "      <td>2020-03-29</td>\n",
              "      <td>2020-03-21</td>\n",
              "      <td>Tosse, Dor de Garganta</td>\n",
              "      <td>0</td>\n",
              "      <td>Cura</td>\n",
              "      <td>Confirmado Laboratorial</td>\n",
              "      <td>NaN</td>\n",
              "      <td>Parda</td>\n",
              "      <td>NaN</td>\n",
              "      <td>Não</td>\n",
              "      <td>NaN</td>\n",
              "      <td>Recife</td>\n",
              "      <td>ENCRUZILHADA</td>\n",
              "      <td>II</td>\n",
              "    </tr>\n",
              "    <tr>\n",
              "      <th>3082</th>\n",
              "      <td>Masculino</td>\n",
              "      <td>54</td>\n",
              "      <td>2020-04-09</td>\n",
              "      <td>2020-04-07</td>\n",
              "      <td>Febre, Tosse</td>\n",
              "      <td>0</td>\n",
              "      <td>Cura</td>\n",
              "      <td>Confirmado Laboratorial</td>\n",
              "      <td>Doenças cardíacas crônicas</td>\n",
              "      <td>Branca</td>\n",
              "      <td>NaN</td>\n",
              "      <td>Não</td>\n",
              "      <td>NaN</td>\n",
              "      <td>Recife</td>\n",
              "      <td>TORROES</td>\n",
              "      <td>IV</td>\n",
              "    </tr>\n",
              "    <tr>\n",
              "      <th>...</th>\n",
              "      <td>...</td>\n",
              "      <td>...</td>\n",
              "      <td>...</td>\n",
              "      <td>...</td>\n",
              "      <td>...</td>\n",
              "      <td>...</td>\n",
              "      <td>...</td>\n",
              "      <td>...</td>\n",
              "      <td>...</td>\n",
              "      <td>...</td>\n",
              "      <td>...</td>\n",
              "      <td>...</td>\n",
              "      <td>...</td>\n",
              "      <td>...</td>\n",
              "      <td>...</td>\n",
              "      <td>...</td>\n",
              "    </tr>\n",
              "    <tr>\n",
              "      <th>574259</th>\n",
              "      <td>Feminino</td>\n",
              "      <td>20</td>\n",
              "      <td>2021-05-04</td>\n",
              "      <td>2021-04-29</td>\n",
              "      <td>Febre, Tosse</td>\n",
              "      <td>0</td>\n",
              "      <td>Cura</td>\n",
              "      <td>Confirmado Laboratorial</td>\n",
              "      <td>NaN</td>\n",
              "      <td>Ignorado</td>\n",
              "      <td>NaN</td>\n",
              "      <td>Não</td>\n",
              "      <td>NaN</td>\n",
              "      <td>Recife</td>\n",
              "      <td>JORDAO</td>\n",
              "      <td>VIII</td>\n",
              "    </tr>\n",
              "    <tr>\n",
              "      <th>574260</th>\n",
              "      <td>Feminino</td>\n",
              "      <td>17</td>\n",
              "      <td>2021-05-04</td>\n",
              "      <td>2021-04-30</td>\n",
              "      <td>Outros, Dor de Cabeça, Febre, Dor de Garganta,...</td>\n",
              "      <td>0</td>\n",
              "      <td>Cura</td>\n",
              "      <td>Confirmado Laboratorial</td>\n",
              "      <td>NaN</td>\n",
              "      <td>Preta</td>\n",
              "      <td>NaN</td>\n",
              "      <td>Não</td>\n",
              "      <td>NaN</td>\n",
              "      <td>Recife</td>\n",
              "      <td>JORDAO</td>\n",
              "      <td>VIII</td>\n",
              "    </tr>\n",
              "    <tr>\n",
              "      <th>574261</th>\n",
              "      <td>Masculino</td>\n",
              "      <td>50</td>\n",
              "      <td>2021-05-04</td>\n",
              "      <td>2021-05-03</td>\n",
              "      <td>Dor de Cabeça, Febre, Tosse</td>\n",
              "      <td>DOR NO CORPO</td>\n",
              "      <td>Cura</td>\n",
              "      <td>Confirmado Laboratorial</td>\n",
              "      <td>NaN</td>\n",
              "      <td>Parda</td>\n",
              "      <td>NaN</td>\n",
              "      <td>Não</td>\n",
              "      <td>NaN</td>\n",
              "      <td>Recife</td>\n",
              "      <td>NOVA DESCOBERTA</td>\n",
              "      <td>VII</td>\n",
              "    </tr>\n",
              "    <tr>\n",
              "      <th>574262</th>\n",
              "      <td>Masculino</td>\n",
              "      <td>45</td>\n",
              "      <td>2021-05-04</td>\n",
              "      <td>2021-04-27</td>\n",
              "      <td>Dor de Cabeça, Outros</td>\n",
              "      <td>0</td>\n",
              "      <td>Cura</td>\n",
              "      <td>Confirmado Laboratorial</td>\n",
              "      <td>Doenças cardíacas crônicas</td>\n",
              "      <td>Branca</td>\n",
              "      <td>NaN</td>\n",
              "      <td>Não</td>\n",
              "      <td>NaN</td>\n",
              "      <td>Recife</td>\n",
              "      <td>TORROES</td>\n",
              "      <td>IV</td>\n",
              "    </tr>\n",
              "    <tr>\n",
              "      <th>574263</th>\n",
              "      <td>Feminino</td>\n",
              "      <td>36</td>\n",
              "      <td>2021-05-04</td>\n",
              "      <td>2021-05-02</td>\n",
              "      <td>Febre, Tosse, Dor de Garganta, Outros, Dor de ...</td>\n",
              "      <td>nauseas</td>\n",
              "      <td>Cura</td>\n",
              "      <td>Confirmado Laboratorial</td>\n",
              "      <td>NaN</td>\n",
              "      <td>Branca</td>\n",
              "      <td>NaN</td>\n",
              "      <td>Sim</td>\n",
              "      <td>2232 - Cirurgiões-dentistas</td>\n",
              "      <td>Recife</td>\n",
              "      <td>ENCRUZILHADA</td>\n",
              "      <td>II</td>\n",
              "    </tr>\n",
              "  </tbody>\n",
              "</table>\n",
              "<p>118699 rows × 16 columns</p>\n",
              "</div>"
            ],
            "text/plain": [
              "             sexo idade  ...           bairro    ds\n",
              "7        Feminino    28  ...  ENGENHO DO MEIO    IV\n",
              "71       Feminino    42  ...     CAMPO GRANDE    II\n",
              "478      Feminino    37  ...       SAN MARTIN     V\n",
              "620      Feminino    43  ...     ENCRUZILHADA    II\n",
              "3082    Masculino    54  ...          TORROES    IV\n",
              "...           ...   ...  ...              ...   ...\n",
              "574259   Feminino    20  ...           JORDAO  VIII\n",
              "574260   Feminino    17  ...           JORDAO  VIII\n",
              "574261  Masculino    50  ...  NOVA DESCOBERTA   VII\n",
              "574262  Masculino    45  ...          TORROES    IV\n",
              "574263   Feminino    36  ...     ENCRUZILHADA    II\n",
              "\n",
              "[118699 rows x 16 columns]"
            ]
          },
          "metadata": {},
          "execution_count": 142
        }
      ]
    },
    {
      "cell_type": "code",
      "metadata": {
        "id": "91y-mM2cKQvf"
      },
      "source": [
        "casos_leves.sort_values(by=['data_notificacao'], inplace=True)"
      ],
      "execution_count": 143,
      "outputs": []
    },
    {
      "cell_type": "code",
      "metadata": {
        "id": "ruyaz60AKc8q"
      },
      "source": [
        "casos_leves['data_notificacao'] = pd.DatetimeIndex(casos_leves['data_notificacao'])"
      ],
      "execution_count": 144,
      "outputs": []
    },
    {
      "cell_type": "code",
      "metadata": {
        "colab": {
          "base_uri": "https://localhost:8080/"
        },
        "id": "c8pFs8Q3e7Dh",
        "outputId": "22dd7004-8197-4f62-dcc7-0dfcf5c3b917"
      },
      "source": [
        "casos_leves.info()"
      ],
      "execution_count": 145,
      "outputs": [
        {
          "output_type": "stream",
          "name": "stdout",
          "text": [
            "<class 'pandas.core.frame.DataFrame'>\n",
            "Int64Index: 118699 entries, 7 to 404566\n",
            "Data columns (total 16 columns):\n",
            " #   Column                    Non-Null Count   Dtype         \n",
            "---  ------                    --------------   -----         \n",
            " 0   sexo                      118699 non-null  object        \n",
            " 1   idade                     118699 non-null  object        \n",
            " 2   data_notificacao          118699 non-null  datetime64[ns]\n",
            " 3   data_inicio_sintomas      118377 non-null  object        \n",
            " 4   sintomas                  118693 non-null  object        \n",
            " 5   outros_sintomas           118697 non-null  object        \n",
            " 6   evolucao_caso             118650 non-null  object        \n",
            " 7   em_tratamento_domiciliar  118699 non-null  object        \n",
            " 8   doencas_preexistentes     11750 non-null   object        \n",
            " 9   raca_cor                  115478 non-null  object        \n",
            " 10  etnia                     9 non-null       object        \n",
            " 11  profissional_saude        118691 non-null  object        \n",
            " 12  cbo                       11378 non-null   object        \n",
            " 13  municipio_notificacao     118699 non-null  object        \n",
            " 14  bairro                    118699 non-null  object        \n",
            " 15  ds                        118699 non-null  object        \n",
            "dtypes: datetime64[ns](1), object(15)\n",
            "memory usage: 15.4+ MB\n"
          ]
        }
      ]
    },
    {
      "cell_type": "code",
      "metadata": {
        "id": "lNlgTm5mK1My"
      },
      "source": [
        "casos_leves = casos_leves.set_index(['data_notificacao'])"
      ],
      "execution_count": 146,
      "outputs": []
    },
    {
      "cell_type": "code",
      "metadata": {
        "colab": {
          "base_uri": "https://localhost:8080/",
          "height": 0
        },
        "id": "p35xTl2IKuh1",
        "outputId": "ab925c73-7c55-4b07-ca5d-6b3fbfa13fa5"
      },
      "source": [
        "casos_leves"
      ],
      "execution_count": 147,
      "outputs": [
        {
          "output_type": "execute_result",
          "data": {
            "text/html": [
              "<div>\n",
              "<style scoped>\n",
              "    .dataframe tbody tr th:only-of-type {\n",
              "        vertical-align: middle;\n",
              "    }\n",
              "\n",
              "    .dataframe tbody tr th {\n",
              "        vertical-align: top;\n",
              "    }\n",
              "\n",
              "    .dataframe thead th {\n",
              "        text-align: right;\n",
              "    }\n",
              "</style>\n",
              "<table border=\"1\" class=\"dataframe\">\n",
              "  <thead>\n",
              "    <tr style=\"text-align: right;\">\n",
              "      <th></th>\n",
              "      <th>sexo</th>\n",
              "      <th>idade</th>\n",
              "      <th>data_inicio_sintomas</th>\n",
              "      <th>sintomas</th>\n",
              "      <th>outros_sintomas</th>\n",
              "      <th>evolucao_caso</th>\n",
              "      <th>em_tratamento_domiciliar</th>\n",
              "      <th>doencas_preexistentes</th>\n",
              "      <th>raca_cor</th>\n",
              "      <th>etnia</th>\n",
              "      <th>profissional_saude</th>\n",
              "      <th>cbo</th>\n",
              "      <th>municipio_notificacao</th>\n",
              "      <th>bairro</th>\n",
              "      <th>ds</th>\n",
              "    </tr>\n",
              "    <tr>\n",
              "      <th>data_notificacao</th>\n",
              "      <th></th>\n",
              "      <th></th>\n",
              "      <th></th>\n",
              "      <th></th>\n",
              "      <th></th>\n",
              "      <th></th>\n",
              "      <th></th>\n",
              "      <th></th>\n",
              "      <th></th>\n",
              "      <th></th>\n",
              "      <th></th>\n",
              "      <th></th>\n",
              "      <th></th>\n",
              "      <th></th>\n",
              "      <th></th>\n",
              "    </tr>\n",
              "  </thead>\n",
              "  <tbody>\n",
              "    <tr>\n",
              "      <th>2020-03-12</th>\n",
              "      <td>Feminino</td>\n",
              "      <td>28</td>\n",
              "      <td>2020-03-04</td>\n",
              "      <td>Dor de Garganta, Febre, Tosse</td>\n",
              "      <td>0</td>\n",
              "      <td>Cura</td>\n",
              "      <td>Confirmado Laboratorial</td>\n",
              "      <td>NaN</td>\n",
              "      <td>Parda</td>\n",
              "      <td>NaN</td>\n",
              "      <td>Não</td>\n",
              "      <td>NaN</td>\n",
              "      <td>Recife</td>\n",
              "      <td>ENGENHO DO MEIO</td>\n",
              "      <td>IV</td>\n",
              "    </tr>\n",
              "    <tr>\n",
              "      <th>2020-03-15</th>\n",
              "      <td>Masculino</td>\n",
              "      <td>61</td>\n",
              "      <td>2020-03-15</td>\n",
              "      <td>Outros</td>\n",
              "      <td>MIALGIA, MOLEZA</td>\n",
              "      <td>Cura</td>\n",
              "      <td>Confirmado Laboratorial</td>\n",
              "      <td>NaN</td>\n",
              "      <td>Preta</td>\n",
              "      <td>NaN</td>\n",
              "      <td>Não</td>\n",
              "      <td>NaN</td>\n",
              "      <td>Recife</td>\n",
              "      <td>TORREAO</td>\n",
              "      <td>II</td>\n",
              "    </tr>\n",
              "    <tr>\n",
              "      <th>2020-03-16</th>\n",
              "      <td>Feminino</td>\n",
              "      <td>42</td>\n",
              "      <td>2020-03-14</td>\n",
              "      <td>Dor de Garganta, Tosse</td>\n",
              "      <td>0</td>\n",
              "      <td>Cura</td>\n",
              "      <td>Confirmado Laboratorial</td>\n",
              "      <td>NaN</td>\n",
              "      <td>Parda</td>\n",
              "      <td>NaN</td>\n",
              "      <td>Não</td>\n",
              "      <td>NaN</td>\n",
              "      <td>Recife</td>\n",
              "      <td>CAMPO GRANDE</td>\n",
              "      <td>II</td>\n",
              "    </tr>\n",
              "    <tr>\n",
              "      <th>2020-03-25</th>\n",
              "      <td>Masculino</td>\n",
              "      <td>37</td>\n",
              "      <td>2020-03-25</td>\n",
              "      <td>Dor de Garganta, Outros, Febre</td>\n",
              "      <td>Asnomia,fadiga</td>\n",
              "      <td>Cura</td>\n",
              "      <td>Confirmado Laboratorial</td>\n",
              "      <td>NaN</td>\n",
              "      <td>Branca</td>\n",
              "      <td>NaN</td>\n",
              "      <td>Sim</td>\n",
              "      <td>3222 - Técnico ou Auxiliar em Enfermagem</td>\n",
              "      <td>Recife</td>\n",
              "      <td>IPSEP</td>\n",
              "      <td>VI</td>\n",
              "    </tr>\n",
              "    <tr>\n",
              "      <th>2020-03-26</th>\n",
              "      <td>Feminino</td>\n",
              "      <td>37</td>\n",
              "      <td>2020-03-23</td>\n",
              "      <td>Dispneia, Tosse</td>\n",
              "      <td>0</td>\n",
              "      <td>Cura</td>\n",
              "      <td>Confirmação Laboratorial</td>\n",
              "      <td>NaN</td>\n",
              "      <td>Parda</td>\n",
              "      <td>NaN</td>\n",
              "      <td>Sim</td>\n",
              "      <td>1115 - Gestores públicos</td>\n",
              "      <td>Recife</td>\n",
              "      <td>SAN MARTIN</td>\n",
              "      <td>V</td>\n",
              "    </tr>\n",
              "    <tr>\n",
              "      <th>...</th>\n",
              "      <td>...</td>\n",
              "      <td>...</td>\n",
              "      <td>...</td>\n",
              "      <td>...</td>\n",
              "      <td>...</td>\n",
              "      <td>...</td>\n",
              "      <td>...</td>\n",
              "      <td>...</td>\n",
              "      <td>...</td>\n",
              "      <td>...</td>\n",
              "      <td>...</td>\n",
              "      <td>...</td>\n",
              "      <td>...</td>\n",
              "      <td>...</td>\n",
              "      <td>...</td>\n",
              "    </tr>\n",
              "    <tr>\n",
              "      <th>2021-09-23</th>\n",
              "      <td>Feminino</td>\n",
              "      <td>63</td>\n",
              "      <td>NaN</td>\n",
              "      <td>0</td>\n",
              "      <td>0</td>\n",
              "      <td>Cura</td>\n",
              "      <td>Confirmado Laboratorial</td>\n",
              "      <td>NaN</td>\n",
              "      <td>Ignorado</td>\n",
              "      <td>NaN</td>\n",
              "      <td>Não</td>\n",
              "      <td>NaN</td>\n",
              "      <td>Recife</td>\n",
              "      <td>PAISSANDU</td>\n",
              "      <td>I</td>\n",
              "    </tr>\n",
              "    <tr>\n",
              "      <th>2021-09-23</th>\n",
              "      <td>Feminino</td>\n",
              "      <td>56</td>\n",
              "      <td>2021-05-07</td>\n",
              "      <td>hipoxemia</td>\n",
              "      <td>0</td>\n",
              "      <td>Cura</td>\n",
              "      <td>Confirmado Laboratorial</td>\n",
              "      <td>Outros, Doenças cardíacas crônicas</td>\n",
              "      <td>Ignorado</td>\n",
              "      <td>NaN</td>\n",
              "      <td>Não</td>\n",
              "      <td>NaN</td>\n",
              "      <td>Recife</td>\n",
              "      <td>CORDEIRO</td>\n",
              "      <td>IV</td>\n",
              "    </tr>\n",
              "    <tr>\n",
              "      <th>2021-09-23</th>\n",
              "      <td>Feminino</td>\n",
              "      <td>44</td>\n",
              "      <td>NaN</td>\n",
              "      <td>0</td>\n",
              "      <td>0</td>\n",
              "      <td>Cura</td>\n",
              "      <td>Confirmado Laboratorial</td>\n",
              "      <td>NaN</td>\n",
              "      <td>Branca</td>\n",
              "      <td>NaN</td>\n",
              "      <td>Não</td>\n",
              "      <td>NaN</td>\n",
              "      <td>Recife</td>\n",
              "      <td>JARDIM SAO PAULO</td>\n",
              "      <td>V</td>\n",
              "    </tr>\n",
              "    <tr>\n",
              "      <th>2021-09-23</th>\n",
              "      <td>Feminino</td>\n",
              "      <td>26</td>\n",
              "      <td>2020-11-30</td>\n",
              "      <td>DIARREIA, ASTENIA, VOMITOS</td>\n",
              "      <td>0</td>\n",
              "      <td>Cura</td>\n",
              "      <td>Confirmado Laboratorial</td>\n",
              "      <td>NaN</td>\n",
              "      <td>Ignorado</td>\n",
              "      <td>NaN</td>\n",
              "      <td>Não</td>\n",
              "      <td>NaN</td>\n",
              "      <td>Recife</td>\n",
              "      <td>CASA FORTE</td>\n",
              "      <td>III</td>\n",
              "    </tr>\n",
              "    <tr>\n",
              "      <th>2021-09-23</th>\n",
              "      <td>Feminino</td>\n",
              "      <td>36</td>\n",
              "      <td>2020-11-30</td>\n",
              "      <td>DORES NO CORPO</td>\n",
              "      <td>0</td>\n",
              "      <td>Cura</td>\n",
              "      <td>Confirmado Laboratorial</td>\n",
              "      <td>NaN</td>\n",
              "      <td>Ignorado</td>\n",
              "      <td>NaN</td>\n",
              "      <td>Não</td>\n",
              "      <td>NaN</td>\n",
              "      <td>Recife</td>\n",
              "      <td>CASA FORTE</td>\n",
              "      <td>III</td>\n",
              "    </tr>\n",
              "  </tbody>\n",
              "</table>\n",
              "<p>118699 rows × 15 columns</p>\n",
              "</div>"
            ],
            "text/plain": [
              "                       sexo idade  ...            bairro   ds\n",
              "data_notificacao                   ...                       \n",
              "2020-03-12         Feminino    28  ...   ENGENHO DO MEIO   IV\n",
              "2020-03-15        Masculino    61  ...           TORREAO   II\n",
              "2020-03-16         Feminino    42  ...      CAMPO GRANDE   II\n",
              "2020-03-25        Masculino    37  ...             IPSEP   VI\n",
              "2020-03-26         Feminino    37  ...        SAN MARTIN    V\n",
              "...                     ...   ...  ...               ...  ...\n",
              "2021-09-23         Feminino    63  ...         PAISSANDU    I\n",
              "2021-09-23         Feminino    56  ...          CORDEIRO   IV\n",
              "2021-09-23         Feminino    44  ...  JARDIM SAO PAULO    V\n",
              "2021-09-23         Feminino    26  ...        CASA FORTE  III\n",
              "2021-09-23         Feminino    36  ...        CASA FORTE  III\n",
              "\n",
              "[118699 rows x 15 columns]"
            ]
          },
          "metadata": {},
          "execution_count": 147
        }
      ]
    },
    {
      "cell_type": "code",
      "metadata": {
        "id": "AoL0LO1Atb8B"
      },
      "source": [
        "def count_burghs(dataframe, daterange_offset, daterange_end, geodf):\n",
        "  count_df = pd.DataFrame(dataframe.loc[daterange_offset:daterange_end]['bairro'].value_counts())\n",
        "  count_df.reset_index(inplace=True)\n",
        "  count_df.rename(columns={'bairro': \"casos\", \"index\": \"bairro\"}, inplace=True)\n",
        "\n",
        "  geodf_of = pd.merge(geodf, count_df, on=['bairro'], how='outer') #chcar depois o NaN value, convertê-los para 0 depois\n",
        "  geodf_of.fillna(0,inplace=True)\n",
        "  geodf_of['casos/1k'] = (geodf_of['casos'] /  geodf_of['pop']) * 1000\n",
        "\n",
        "  return geodf_of"
      ],
      "execution_count": 148,
      "outputs": []
    },
    {
      "cell_type": "markdown",
      "metadata": {
        "id": "oCxOgsKWYmJo"
      },
      "source": [
        "####Segunda onda: boxplot ajustados e mapa coroplético resultante"
      ]
    },
    {
      "cell_type": "code",
      "metadata": {
        "id": "7ay0PQgS-EV3"
      },
      "source": [
        "df_nov_20 = count_burghs(casos_leves, '2020-11-01', '2020-11-30', bairros_json)\n",
        "df_dez_20 = count_burghs(casos_leves, '2020-12-01', '2020-12-31', bairros_json)\n",
        "df_jan_21 = count_burghs(casos_leves, '2021-01-01', '2021-01-31', bairros_json)\n",
        "df_fev_21 = count_burghs(casos_leves, '2021-02-01', '2021-02-28', bairros_json)\n",
        "df_mar_21 = count_burghs(casos_leves, '2021-03-01', '2021-03-31', bairros_json)\n",
        "df_apr_21 = count_burghs(casos_leves, '2021-04-01', '2021-04-30', bairros_json)\n",
        "df_may_21 = count_burghs(casos_leves, '2021-05-01', '2021-05-31', bairros_json)\n",
        "df_jun_21 = count_burghs(casos_leves, '2021-06-01', '2021-06-30', bairros_json)\n",
        "df_jul_21 = count_burghs(casos_leves, '2021-07-01', '2021-07-31', bairros_json)\n",
        "df_aug_21 = count_burghs(casos_leves, '2021-08-01', '2021-08-31', bairros_json)"
      ],
      "execution_count": 149,
      "outputs": []
    },
    {
      "cell_type": "code",
      "metadata": {
        "id": "dJrxNsicjgki"
      },
      "source": [
        "cases_month_dist = []\n",
        "for month in [df_nov_20, df_dez_20, df_jan_21, df_fev_21, df_mar_21, df_apr_21, df_may_21, df_jun_21, df_jul_21, df_aug_21]:\n",
        "  for cases in month['casos/1k']:\n",
        "    cases_month_dist.append(cases)"
      ],
      "execution_count": 150,
      "outputs": []
    },
    {
      "cell_type": "code",
      "metadata": {
        "id": "5-YIcxUl06DN"
      },
      "source": [
        "cases_month_dist = pd.Series(cases_month_dist)"
      ],
      "execution_count": 151,
      "outputs": []
    },
    {
      "cell_type": "code",
      "metadata": {
        "id": "j91MabVOknXW"
      },
      "source": [
        "cases_month_dist.sort_values(inplace=True)"
      ],
      "execution_count": 152,
      "outputs": []
    },
    {
      "cell_type": "code",
      "metadata": {
        "id": "-JPB8UjuEvMh",
        "colab": {
          "base_uri": "https://localhost:8080/"
        },
        "outputId": "0793b19e-c2a2-4d62-99ca-de990ffe6477"
      },
      "source": [
        "#Calculando medcouple a partir da distribuição da amostra de incidência de casos a cada mil habitantes de novembro de 2020 a agosta de 2021\n",
        "from statsmodels.stats.stattools import medcouple\n",
        "mc = medcouple(cases_month_dist)"
      ],
      "execution_count": 153,
      "outputs": [
        {
          "output_type": "stream",
          "name": "stderr",
          "text": [
            "/usr/local/lib/python3.7/dist-packages/statsmodels/tools/_testing.py:19: FutureWarning: pandas.util.testing is deprecated. Use the functions in the public API at pandas.testing instead.\n",
            "  import pandas.util.testing as tm\n"
          ]
        }
      ]
    },
    {
      "cell_type": "code",
      "metadata": {
        "colab": {
          "base_uri": "https://localhost:8080/"
        },
        "id": "mvGbqpWfFYnW",
        "outputId": "48a6269d-f5d6-489f-89c2-8bfb069abb15"
      },
      "source": [
        "mc"
      ],
      "execution_count": 154,
      "outputs": [
        {
          "output_type": "execute_result",
          "data": {
            "text/plain": [
              "array(0.22982986)"
            ]
          },
          "metadata": {},
          "execution_count": 154
        }
      ]
    },
    {
      "cell_type": "code",
      "metadata": {
        "id": "r7fG34xahfBu"
      },
      "source": [
        "q1, q3 = np.percentile(cases_month_dist,[25,75]) #Primeiro e terceiro quartil"
      ],
      "execution_count": 155,
      "outputs": []
    },
    {
      "cell_type": "code",
      "metadata": {
        "id": "hBHweN_aht2G"
      },
      "source": [
        "iqr = q3 - q1"
      ],
      "execution_count": 156,
      "outputs": []
    },
    {
      "cell_type": "code",
      "metadata": {
        "id": "1k27eEJWh8vn"
      },
      "source": [
        "from math import exp"
      ],
      "execution_count": 157,
      "outputs": []
    },
    {
      "cell_type": "code",
      "metadata": {
        "id": "fBRwUaYKhxtY"
      },
      "source": [
        "#Limite inferior pela ajuste de medcouple\n",
        "lb = q1 - (1.5 * exp(-4 * mc) * iqr)"
      ],
      "execution_count": 158,
      "outputs": []
    },
    {
      "cell_type": "code",
      "metadata": {
        "colab": {
          "base_uri": "https://localhost:8080/"
        },
        "id": "CoGzIX7BiRuq",
        "outputId": "dcc25ef2-9b9b-42ff-b596-740bb0a62c04"
      },
      "source": [
        "lb"
      ],
      "execution_count": 159,
      "outputs": [
        {
          "output_type": "execute_result",
          "data": {
            "text/plain": [
              "-0.6038826071720154"
            ]
          },
          "metadata": {},
          "execution_count": 159
        }
      ]
    },
    {
      "cell_type": "code",
      "metadata": {
        "id": "uCnnWZ0EiITE"
      },
      "source": [
        "#Limite superior pela ajuste de medcouple\n",
        "ub = q3 + (1.5 * exp(3 * mc) * iqr)"
      ],
      "execution_count": 160,
      "outputs": []
    },
    {
      "cell_type": "code",
      "metadata": {
        "colab": {
          "base_uri": "https://localhost:8080/"
        },
        "id": "Cp8MGzAmiS9F",
        "outputId": "b4105815-46e0-4598-b192-54eb72341a75"
      },
      "source": [
        "ub"
      ],
      "execution_count": 161,
      "outputs": [
        {
          "output_type": "execute_result",
          "data": {
            "text/plain": [
              "26.0028807382324"
            ]
          },
          "metadata": {},
          "execution_count": 161
        }
      ]
    },
    {
      "cell_type": "code",
      "metadata": {
        "colab": {
          "base_uri": "https://localhost:8080/"
        },
        "id": "-jQZ-1c0qxK8",
        "outputId": "85c41ccc-8f39-4bdb-e048-ff598002e0f1"
      },
      "source": [
        "import scipy\n",
        "scipy.stats.percentileofscore(cases_month_dist, 26) #Caclculando o percentil do liimite superior ajustado"
      ],
      "execution_count": 162,
      "outputs": [
        {
          "output_type": "execute_result",
          "data": {
            "text/plain": [
              "97.23404255319149"
            ]
          },
          "metadata": {},
          "execution_count": 162
        }
      ]
    },
    {
      "cell_type": "code",
      "metadata": {
        "colab": {
          "base_uri": "https://localhost:8080/"
        },
        "id": "EmHaE29BrX2X",
        "outputId": "db59048d-cd81-4166-e427-b4b95a21524e"
      },
      "source": [
        "np.percentile(cases_month_dist, 97.23404) #Provando"
      ],
      "execution_count": 163,
      "outputs": [
        {
          "output_type": "execute_result",
          "data": {
            "text/plain": [
              "25.703943740795005"
            ]
          },
          "metadata": {},
          "execution_count": 163
        }
      ]
    },
    {
      "cell_type": "code",
      "metadata": {
        "colab": {
          "base_uri": "https://localhost:8080/",
          "height": 0
        },
        "id": "U3c0mQOdlxl2",
        "outputId": "29c384d9-12bf-427b-da59-7ed38bacd332"
      },
      "source": [
        "#Boxplot ajustado\n",
        "fig4, ax4 = plt.subplots(figsize=(12, 6), ncols=3, nrows=1)\n",
        "plt.rcParams.update({'font.size': 12})\n",
        "\n",
        "ax4[0].boxplot(cases_month_dist)\n",
        "ax4[1].boxplot(cases_month_dist, whis=[0, 97])\n",
        "ax4[2].hist(cases_month_dist, bins=50, orientation='horizontal')\n",
        "\n",
        "ax4[0].set_title('Boxplot tradicional')\n",
        "ax4[1].set_title('Boxplot ajustado')\n",
        "ax4[2].set_title('Distribuição da amostra')\n",
        "\n",
        "fig4.show()\n",
        "fig4.savefig(\"adjusted_boxplot.png\")"
      ],
      "execution_count": 164,
      "outputs": [
        {
          "output_type": "display_data",
          "data": {
            "image/png": "[encoded data removed]",
            "text/plain": [
              "<Figure size 864x432 with 3 Axes>"
            ]
          },
          "metadata": {
            "needs_background": "light"
          }
        }
      ]
    },
    {
      "cell_type": "code",
      "metadata": {
        "colab": {
          "base_uri": "https://localhost:8080/",
          "height": 0
        },
        "id": "vK_KL7eFa5iZ",
        "outputId": "e9e915be-87df-4963-85ec-223a86991415"
      },
      "source": [
        "df_may_21.sort_values(by=['casos/1k'], ascending=False).tail(10)"
      ],
      "execution_count": 165,
      "outputs": [
        {
          "output_type": "execute_result",
          "data": {
            "text/html": [
              "<div>\n",
              "<style scoped>\n",
              "    .dataframe tbody tr th:only-of-type {\n",
              "        vertical-align: middle;\n",
              "    }\n",
              "\n",
              "    .dataframe tbody tr th {\n",
              "        vertical-align: top;\n",
              "    }\n",
              "\n",
              "    .dataframe thead th {\n",
              "        text-align: right;\n",
              "    }\n",
              "</style>\n",
              "<table border=\"1\" class=\"dataframe\">\n",
              "  <thead>\n",
              "    <tr style=\"text-align: right;\">\n",
              "      <th></th>\n",
              "      <th>bairro_codigo</th>\n",
              "      <th>bairro</th>\n",
              "      <th>rpa</th>\n",
              "      <th>microrregiao</th>\n",
              "      <th>bairro_nome</th>\n",
              "      <th>geometry</th>\n",
              "      <th>pop</th>\n",
              "      <th>casos</th>\n",
              "      <th>casos/1k</th>\n",
              "    </tr>\n",
              "  </thead>\n",
              "  <tbody>\n",
              "    <tr>\n",
              "      <th>54</th>\n",
              "      <td>612</td>\n",
              "      <td>BREJO DA GUABIRABA</td>\n",
              "      <td>3</td>\n",
              "      <td>3</td>\n",
              "      <td>Brejo da Guabiraba</td>\n",
              "      <td>POLYGON ((-34.93293 -7.98775, -34.93282 -7.987...</td>\n",
              "      <td>11732</td>\n",
              "      <td>49.0</td>\n",
              "      <td>4.176611</td>\n",
              "    </tr>\n",
              "    <tr>\n",
              "      <th>76</th>\n",
              "      <td>949</td>\n",
              "      <td>ALTO SANTA TEREZINHA</td>\n",
              "      <td>2</td>\n",
              "      <td>2</td>\n",
              "      <td>Alto Santa Terezinha</td>\n",
              "      <td>POLYGON ((-34.90509 -8.01278, -34.90510 -8.012...</td>\n",
              "      <td>7703</td>\n",
              "      <td>32.0</td>\n",
              "      <td>4.154226</td>\n",
              "    </tr>\n",
              "    <tr>\n",
              "      <th>4</th>\n",
              "      <td>884</td>\n",
              "      <td>COHAB</td>\n",
              "      <td>6</td>\n",
              "      <td>3</td>\n",
              "      <td>Cohab</td>\n",
              "      <td>POLYGON ((-34.94679 -8.10944, -34.94651 -8.110...</td>\n",
              "      <td>67283</td>\n",
              "      <td>279.0</td>\n",
              "      <td>4.146664</td>\n",
              "    </tr>\n",
              "    <tr>\n",
              "      <th>8</th>\n",
              "      <td>752</td>\n",
              "      <td>CURADO</td>\n",
              "      <td>5</td>\n",
              "      <td>1</td>\n",
              "      <td>Curado</td>\n",
              "      <td>POLYGON ((-34.94616 -8.05958, -34.94591 -8.059...</td>\n",
              "      <td>16418</td>\n",
              "      <td>67.0</td>\n",
              "      <td>4.080887</td>\n",
              "    </tr>\n",
              "    <tr>\n",
              "      <th>85</th>\n",
              "      <td>60</td>\n",
              "      <td>COELHOS</td>\n",
              "      <td>1</td>\n",
              "      <td>3</td>\n",
              "      <td>Coelhos</td>\n",
              "      <td>POLYGON ((-34.89077 -8.06392, -34.89077 -8.063...</td>\n",
              "      <td>7633</td>\n",
              "      <td>30.0</td>\n",
              "      <td>3.930303</td>\n",
              "    </tr>\n",
              "    <tr>\n",
              "      <th>78</th>\n",
              "      <td>574</td>\n",
              "      <td>BREJO DE BEBERIBE</td>\n",
              "      <td>3</td>\n",
              "      <td>3</td>\n",
              "      <td>Brejo de Beberibe</td>\n",
              "      <td>POLYGON ((-34.92953 -7.98826, -34.92943 -7.988...</td>\n",
              "      <td>8292</td>\n",
              "      <td>29.0</td>\n",
              "      <td>3.497347</td>\n",
              "    </tr>\n",
              "    <tr>\n",
              "      <th>26</th>\n",
              "      <td>604</td>\n",
              "      <td>SITIO DOS PINTOS</td>\n",
              "      <td>3</td>\n",
              "      <td>1</td>\n",
              "      <td>Sítio dos Pintos</td>\n",
              "      <td>POLYGON ((-34.95678 -8.00435, -34.95709 -8.005...</td>\n",
              "      <td>7276</td>\n",
              "      <td>24.0</td>\n",
              "      <td>3.298516</td>\n",
              "    </tr>\n",
              "    <tr>\n",
              "      <th>48</th>\n",
              "      <td>299</td>\n",
              "      <td>PEIXINHOS</td>\n",
              "      <td>2</td>\n",
              "      <td>1</td>\n",
              "      <td>Peixinhos</td>\n",
              "      <td>POLYGON ((-34.87344 -8.02024, -34.87393 -8.020...</td>\n",
              "      <td>4998</td>\n",
              "      <td>16.0</td>\n",
              "      <td>3.201281</td>\n",
              "    </tr>\n",
              "    <tr>\n",
              "      <th>3</th>\n",
              "      <td>841</td>\n",
              "      <td>CACOTE</td>\n",
              "      <td>5</td>\n",
              "      <td>2</td>\n",
              "      <td>Caçote</td>\n",
              "      <td>POLYGON ((-34.92839 -8.09840, -34.92817 -8.099...</td>\n",
              "      <td>10470</td>\n",
              "      <td>21.0</td>\n",
              "      <td>2.005731</td>\n",
              "    </tr>\n",
              "    <tr>\n",
              "      <th>27</th>\n",
              "      <td>639</td>\n",
              "      <td>PAU FERRO</td>\n",
              "      <td>3</td>\n",
              "      <td>3</td>\n",
              "      <td>Pau Ferro</td>\n",
              "      <td>POLYGON ((-34.99012 -7.96201, -34.99012 -7.962...</td>\n",
              "      <td>72</td>\n",
              "      <td>0.0</td>\n",
              "      <td>0.000000</td>\n",
              "    </tr>\n",
              "  </tbody>\n",
              "</table>\n",
              "</div>"
            ],
            "text/plain": [
              "    bairro_codigo                bairro  rpa  ...    pop  casos  casos/1k\n",
              "54            612    BREJO DA GUABIRABA    3  ...  11732   49.0  4.176611\n",
              "76            949  ALTO SANTA TEREZINHA    2  ...   7703   32.0  4.154226\n",
              "4             884                 COHAB    6  ...  67283  279.0  4.146664\n",
              "8             752                CURADO    5  ...  16418   67.0  4.080887\n",
              "85             60               COELHOS    1  ...   7633   30.0  3.930303\n",
              "78            574     BREJO DE BEBERIBE    3  ...   8292   29.0  3.497347\n",
              "26            604      SITIO DOS PINTOS    3  ...   7276   24.0  3.298516\n",
              "48            299             PEIXINHOS    2  ...   4998   16.0  3.201281\n",
              "3             841                CACOTE    5  ...  10470   21.0  2.005731\n",
              "27            639             PAU FERRO    3  ...     72    0.0  0.000000\n",
              "\n",
              "[10 rows x 9 columns]"
            ]
          },
          "metadata": {},
          "execution_count": 165
        }
      ]
    },
    {
      "cell_type": "code",
      "metadata": {
        "colab": {
          "base_uri": "https://localhost:8080/",
          "height": 0
        },
        "id": "52z8rsSV_iMn",
        "outputId": "273dad2a-3c98-43cd-84e0-c97e8fc59a35"
      },
      "source": [
        "fig5, ax5 = plt.subplots(figsize=(20, 10), ncols=10, nrows=1, sharex=True, sharey=True)\n",
        "\n",
        "plt.rcParams.update({'font.size': 14})\n",
        "\n",
        "for i in range(10):\n",
        "  ax5[i].axis('off')\n",
        "#se você normalizar, você corrige algumas coisas, Boa viagem sempre tem muito casos, mas em proporção, é muito ou pouco?\n",
        "\n",
        "df_nov_20.plot(ax=ax5[0], column='casos/1k', cmap='magma', linewidth=0, edgecolor='0.9', vmin=0, vmax=ub)\n",
        "df_dez_20.plot(ax=ax5[1], column='casos/1k', cmap='magma', linewidth=0, edgecolor='0.9', vmin=0, vmax=ub)\n",
        "df_jan_21.plot(ax=ax5[2], column='casos/1k', cmap='magma', linewidth=0, edgecolor='0.9', vmin=0, vmax=ub)\n",
        "df_fev_21.plot(ax=ax5[3], column='casos/1k', cmap='magma', linewidth=0, edgecolor='0.9', vmin=0, vmax=ub)\n",
        "df_mar_21.plot(ax=ax5[4], column='casos/1k', cmap='magma', linewidth=0,edgecolor='0.9', vmin=0, vmax=ub)\n",
        "df_apr_21.plot(ax=ax5[5], column='casos/1k', cmap='magma', linewidth=0,edgecolor='0.9', vmin=0, vmax=ub)\n",
        "df_may_21.plot(ax=ax5[6], column='casos/1k', cmap='magma', linewidth=0, edgecolor='0.9', vmin=0, vmax=ub)\n",
        "df_jun_21.plot(ax=ax5[7], column='casos/1k', cmap='magma', linewidth=0, edgecolor='0.9', vmin=0, vmax=ub)\n",
        "df_jul_21.plot(ax=ax5[8], column='casos/1k', cmap='magma', linewidth=0, edgecolor='0.9', vmin=0, vmax=ub)\n",
        "df_aug_21.plot(ax=ax5[9], column='casos/1k', cmap='magma', linewidth=0, edgecolor='0.9', vmin=0, vmax=ub)\n",
        "months = ['Nov/20', 'Dec/20', 'Jan/21', 'Fev/21', 'Mar/21', 'Abr/21', 'Mai/21', 'Jun/21', 'Jul/21', 'Ago/21']\n",
        "for n, j in enumerate(months):\n",
        "  ax5[n].set_title(j)\n",
        "\n",
        "\n",
        "#patch_col1 = axes1[1].collections[0]\n",
        "norm = Normalize(0, ub)\n",
        "cmap= plt.get_cmap('magma')\n",
        "cb2 = fig5.colorbar(cm.ScalarMappable(norm=norm, cmap=cmap), ax=ax5, shrink=0.5, extend='max')\n",
        "cb2.cmap.set_over('red')\n",
        "cb2.set_label('a cada 1000 habitantes')\n",
        "\n",
        "fig5.savefig(\"leves_geo.jpg\", format='jpg')\n",
        "#Bairro do Recife (erro de anotação)plt.show()"
      ],
      "execution_count": 166,
      "outputs": [
        {
          "output_type": "display_data",
          "data": {
            "image/png": "[encoded data removed]",
            "text/plain": [
              "<Figure size 1440x720 with 11 Axes>"
            ]
          },
          "metadata": {
            "needs_background": "light"
          }
        }
      ]
    },
    {
      "cell_type": "markdown",
      "metadata": {
        "id": "gVCiWIMAPhj3"
      },
      "source": [
        "##DIstribuição de casos graves por idades no decorrer do tempo:"
      ]
    },
    {
      "cell_type": "code",
      "metadata": {
        "colab": {
          "base_uri": "https://localhost:8080/",
          "height": 686
        },
        "id": "J_TmIq5wtRs5",
        "outputId": "5cc4f229-fed1-42a1-d5f8-4afa4e4ac64a"
      },
      "source": [
        "graves"
      ],
      "execution_count": 41,
      "outputs": [
        {
          "output_type": "execute_result",
          "data": {
            "text/html": [
              "<div>\n",
              "<style scoped>\n",
              "    .dataframe tbody tr th:only-of-type {\n",
              "        vertical-align: middle;\n",
              "    }\n",
              "\n",
              "    .dataframe tbody tr th {\n",
              "        vertical-align: top;\n",
              "    }\n",
              "\n",
              "    .dataframe thead th {\n",
              "        text-align: right;\n",
              "    }\n",
              "</style>\n",
              "<table border=\"1\" class=\"dataframe\">\n",
              "  <thead>\n",
              "    <tr style=\"text-align: right;\">\n",
              "      <th></th>\n",
              "      <th>data_notificacao</th>\n",
              "      <th>sexo</th>\n",
              "      <th>idade</th>\n",
              "      <th>data_inicio_sintomas</th>\n",
              "      <th>raca</th>\n",
              "      <th>etnia</th>\n",
              "      <th>sintomas_apresentados</th>\n",
              "      <th>outros_sintomas</th>\n",
              "      <th>doencas_preexistentes</th>\n",
              "      <th>outras_doencas_preexistentes</th>\n",
              "      <th>evolucao</th>\n",
              "      <th>classificacao_final</th>\n",
              "      <th>data_obito</th>\n",
              "      <th>profissional_saude</th>\n",
              "      <th>categoria_profissional</th>\n",
              "      <th>municipio_notificacao</th>\n",
              "      <th>bairro</th>\n",
              "      <th>ds</th>\n",
              "    </tr>\n",
              "  </thead>\n",
              "  <tbody>\n",
              "    <tr>\n",
              "      <th>10987</th>\n",
              "      <td>2020-03-05</td>\n",
              "      <td>Feminino</td>\n",
              "      <td>66</td>\n",
              "      <td>2020-03-01</td>\n",
              "      <td>NaN</td>\n",
              "      <td>NaN</td>\n",
              "      <td>Febre, Tosse, Cefaleia</td>\n",
              "      <td>NaN</td>\n",
              "      <td>NaN</td>\n",
              "      <td>NaN</td>\n",
              "      <td>RECUPERADO</td>\n",
              "      <td>CONFIRMADO</td>\n",
              "      <td>NaN</td>\n",
              "      <td>NaN</td>\n",
              "      <td>NaN</td>\n",
              "      <td>RECIFE</td>\n",
              "      <td>BOA VIAGEM</td>\n",
              "      <td>VI</td>\n",
              "    </tr>\n",
              "    <tr>\n",
              "      <th>6013</th>\n",
              "      <td>2020-03-05</td>\n",
              "      <td>Masculino</td>\n",
              "      <td>71</td>\n",
              "      <td>2020-03-01</td>\n",
              "      <td>NaN</td>\n",
              "      <td>NaN</td>\n",
              "      <td>Febre, Tosse, Cefaleia</td>\n",
              "      <td>NaN</td>\n",
              "      <td>Diabetes</td>\n",
              "      <td>NaN</td>\n",
              "      <td>RECUPERADO</td>\n",
              "      <td>CONFIRMADO</td>\n",
              "      <td>NaN</td>\n",
              "      <td>NaN</td>\n",
              "      <td>NaN</td>\n",
              "      <td>RECIFE</td>\n",
              "      <td>BOA VIAGEM</td>\n",
              "      <td>VI</td>\n",
              "    </tr>\n",
              "    <tr>\n",
              "      <th>7939</th>\n",
              "      <td>2020-03-07</td>\n",
              "      <td>Masculino</td>\n",
              "      <td>39</td>\n",
              "      <td>2020-03-06</td>\n",
              "      <td>NaN</td>\n",
              "      <td>NaN</td>\n",
              "      <td>Febre, Tosse, Dor de Garganta, Coriza / Conges...</td>\n",
              "      <td>NaN</td>\n",
              "      <td>NaN</td>\n",
              "      <td>NaN</td>\n",
              "      <td>RECUPERADO</td>\n",
              "      <td>CONFIRMADO</td>\n",
              "      <td>NaN</td>\n",
              "      <td>SIM</td>\n",
              "      <td>Outro profissional de serviço de saúde</td>\n",
              "      <td>RECIFE</td>\n",
              "      <td>BOA VIAGEM</td>\n",
              "      <td>VI</td>\n",
              "    </tr>\n",
              "    <tr>\n",
              "      <th>353</th>\n",
              "      <td>2020-03-12</td>\n",
              "      <td>Masculino</td>\n",
              "      <td>68</td>\n",
              "      <td>2020-03-08</td>\n",
              "      <td>Branca</td>\n",
              "      <td>NaN</td>\n",
              "      <td>Febre</td>\n",
              "      <td>NaN</td>\n",
              "      <td>Doenças Cardíacas ou Vasculares</td>\n",
              "      <td>NaN</td>\n",
              "      <td>ÓBITO</td>\n",
              "      <td>CONFIRMADO</td>\n",
              "      <td>2020-03-26</td>\n",
              "      <td>NaN</td>\n",
              "      <td>NaN</td>\n",
              "      <td>RECIFE</td>\n",
              "      <td>PINA</td>\n",
              "      <td>VI</td>\n",
              "    </tr>\n",
              "    <tr>\n",
              "      <th>7961</th>\n",
              "      <td>2020-03-12</td>\n",
              "      <td>Feminino</td>\n",
              "      <td>97</td>\n",
              "      <td>2020-03-12</td>\n",
              "      <td>NaN</td>\n",
              "      <td>NaN</td>\n",
              "      <td>Febre</td>\n",
              "      <td>NaN</td>\n",
              "      <td>Doenças Renais Cronicas</td>\n",
              "      <td>DOENCA NEUROLOGICA</td>\n",
              "      <td>RECUPERADO</td>\n",
              "      <td>CONFIRMADO</td>\n",
              "      <td>NaN</td>\n",
              "      <td>NaN</td>\n",
              "      <td>NaN</td>\n",
              "      <td>RECIFE</td>\n",
              "      <td>ILHA DO RETIRO</td>\n",
              "      <td>IV</td>\n",
              "    </tr>\n",
              "    <tr>\n",
              "      <th>...</th>\n",
              "      <td>...</td>\n",
              "      <td>...</td>\n",
              "      <td>...</td>\n",
              "      <td>...</td>\n",
              "      <td>...</td>\n",
              "      <td>...</td>\n",
              "      <td>...</td>\n",
              "      <td>...</td>\n",
              "      <td>...</td>\n",
              "      <td>...</td>\n",
              "      <td>...</td>\n",
              "      <td>...</td>\n",
              "      <td>...</td>\n",
              "      <td>...</td>\n",
              "      <td>...</td>\n",
              "      <td>...</td>\n",
              "      <td>...</td>\n",
              "      <td>...</td>\n",
              "    </tr>\n",
              "    <tr>\n",
              "      <th>20402</th>\n",
              "      <td>2021-09-23</td>\n",
              "      <td>Feminino</td>\n",
              "      <td>65</td>\n",
              "      <td>2021-09-20</td>\n",
              "      <td>Parda</td>\n",
              "      <td>NaN</td>\n",
              "      <td>Dispneia, Desconforto respiratório / aperto to...</td>\n",
              "      <td>NaN</td>\n",
              "      <td>Doenças Cardíacas ou Vasculares</td>\n",
              "      <td>NaN</td>\n",
              "      <td>INTERNADO LEITO DE ISOLAMENTO</td>\n",
              "      <td>CONFIRMADO</td>\n",
              "      <td>NaN</td>\n",
              "      <td>NÃO</td>\n",
              "      <td>NaN</td>\n",
              "      <td>RECIFE</td>\n",
              "      <td>ALTO JOSE BONIFACIO</td>\n",
              "      <td>VII</td>\n",
              "    </tr>\n",
              "    <tr>\n",
              "      <th>27359</th>\n",
              "      <td>2021-09-23</td>\n",
              "      <td>Masculino</td>\n",
              "      <td>38</td>\n",
              "      <td>2021-09-19</td>\n",
              "      <td>Parda</td>\n",
              "      <td>NaN</td>\n",
              "      <td>Febre, Tosse, Dispneia, Dor de Garganta, Coriz...</td>\n",
              "      <td>ODINOFAGIA</td>\n",
              "      <td>NaN</td>\n",
              "      <td>NaN</td>\n",
              "      <td>INTERNADO LEITO DE ISOLAMENTO</td>\n",
              "      <td>CONFIRMADO</td>\n",
              "      <td>NaN</td>\n",
              "      <td>NÃO</td>\n",
              "      <td>NaN</td>\n",
              "      <td>RECIFE</td>\n",
              "      <td>BOA VISTA</td>\n",
              "      <td>I</td>\n",
              "    </tr>\n",
              "    <tr>\n",
              "      <th>3299</th>\n",
              "      <td>2021-09-24</td>\n",
              "      <td>Feminino</td>\n",
              "      <td>54</td>\n",
              "      <td>2021-05-06</td>\n",
              "      <td>Branca</td>\n",
              "      <td>NaN</td>\n",
              "      <td>Febre, Tosse, Dispneia, Saturação O2 &lt; 95</td>\n",
              "      <td>NaN</td>\n",
              "      <td>Doenças Cardíacas ou Vasculares, Diabetes</td>\n",
              "      <td>HAS CARDIOPATIA</td>\n",
              "      <td>ÓBITO</td>\n",
              "      <td>CONFIRMADO</td>\n",
              "      <td>2021-05-10</td>\n",
              "      <td>NÃO</td>\n",
              "      <td>NaN</td>\n",
              "      <td>RECIFE</td>\n",
              "      <td>CORDEIRO</td>\n",
              "      <td>IV</td>\n",
              "    </tr>\n",
              "    <tr>\n",
              "      <th>16947</th>\n",
              "      <td>2021-09-24</td>\n",
              "      <td>Feminino</td>\n",
              "      <td>71</td>\n",
              "      <td>2021-03-22</td>\n",
              "      <td>Branca</td>\n",
              "      <td>NaN</td>\n",
              "      <td>Febre, Dispneia, Desconforto respiratório / ap...</td>\n",
              "      <td>DESORIENTADA</td>\n",
              "      <td>Doenças Cardíacas ou Vasculares</td>\n",
              "      <td>NaN</td>\n",
              "      <td>ÓBITO</td>\n",
              "      <td>CONFIRMADO</td>\n",
              "      <td>2021-03-30</td>\n",
              "      <td>NÃO</td>\n",
              "      <td>NaN</td>\n",
              "      <td>RECIFE</td>\n",
              "      <td>AREIAS</td>\n",
              "      <td>V</td>\n",
              "    </tr>\n",
              "    <tr>\n",
              "      <th>10127</th>\n",
              "      <td>2021-09-24</td>\n",
              "      <td>Masculino</td>\n",
              "      <td>59</td>\n",
              "      <td>2021-05-09</td>\n",
              "      <td>Parda</td>\n",
              "      <td>NaN</td>\n",
              "      <td>Febre, Tosse, Dispneia, Desconforto respiratór...</td>\n",
              "      <td>DOR DE CABEÇA, CEFALEIA</td>\n",
              "      <td>Doenças Cardíacas ou Vasculares</td>\n",
              "      <td>HAS</td>\n",
              "      <td>ÓBITO</td>\n",
              "      <td>CONFIRMADO</td>\n",
              "      <td>2021-05-15</td>\n",
              "      <td>NÃO</td>\n",
              "      <td>NaN</td>\n",
              "      <td>RECIFE</td>\n",
              "      <td>AREIAS</td>\n",
              "      <td>V</td>\n",
              "    </tr>\n",
              "  </tbody>\n",
              "</table>\n",
              "<p>16126 rows × 18 columns</p>\n",
              "</div>"
            ],
            "text/plain": [
              "      data_notificacao       sexo  ...               bairro   ds\n",
              "10987       2020-03-05   Feminino  ...           BOA VIAGEM   VI\n",
              "6013        2020-03-05  Masculino  ...           BOA VIAGEM   VI\n",
              "7939        2020-03-07  Masculino  ...           BOA VIAGEM   VI\n",
              "353         2020-03-12  Masculino  ...                 PINA   VI\n",
              "7961        2020-03-12   Feminino  ...       ILHA DO RETIRO   IV\n",
              "...                ...        ...  ...                  ...  ...\n",
              "20402       2021-09-23   Feminino  ...  ALTO JOSE BONIFACIO  VII\n",
              "27359       2021-09-23  Masculino  ...            BOA VISTA    I\n",
              "3299        2021-09-24   Feminino  ...             CORDEIRO   IV\n",
              "16947       2021-09-24   Feminino  ...               AREIAS    V\n",
              "10127       2021-09-24  Masculino  ...               AREIAS    V\n",
              "\n",
              "[16126 rows x 18 columns]"
            ]
          },
          "metadata": {},
          "execution_count": 41
        }
      ]
    },
    {
      "cell_type": "code",
      "metadata": {
        "colab": {
          "base_uri": "https://localhost:8080/"
        },
        "id": "frBruQMpomwI",
        "outputId": "5218c083-838f-4552-df8c-1069f85fe174"
      },
      "source": [
        "graves.idade.unique() #é um object então você pode tratar como string"
      ],
      "execution_count": 42,
      "outputs": [
        {
          "output_type": "execute_result",
          "data": {
            "text/plain": [
              "array(['66', '71', '39', '68', '97', '58', '60', '28', '40', '54', '63',\n",
              "       '30', '16', '67', '25', '74', '31', '46', '69', '51', '56', '45',\n",
              "       '59', '53', '36', '42', '26', '34', '49', '41', '32', '35', '38',\n",
              "       '23', '37', '33', '27', '85', '65', '5', '70', '75', '52', '82',\n",
              "       '64', '48', '24', '62', '72', '80', '50', '47', '44', '73', '92',\n",
              "       '57', '29', '61', '55', '87', '88', '43', '90', '3 meses', '95',\n",
              "       '78', '83', '18', '77', '15', '86', '22', '93', '84', '21', '81',\n",
              "       '76', '0 meses', '89', '4', '94', '10', '17', '102', '99',\n",
              "       '8 meses', '5 meses', '79', '14', '9', '91', '13', '20', '96',\n",
              "       '19', '98', '6 meses', '11', '8', '1', '2', '1 mês', '10 meses',\n",
              "       '7', '101', '6', '12', '3', '2 meses', '7 meses', '100', '103',\n",
              "       '0', '4 meses', '104', '9 meses', '11 meses', '114', '106', '105'],\n",
              "      dtype=object)"
            ]
          },
          "metadata": {},
          "execution_count": 42
        }
      ]
    },
    {
      "cell_type": "code",
      "metadata": {
        "colab": {
          "base_uri": "https://localhost:8080/"
        },
        "id": "TlzgzDsCsMLj",
        "outputId": "aec2aaff-7e59-4413-e91f-3bbda2ab2e1d"
      },
      "source": [
        "11/12"
      ],
      "execution_count": 43,
      "outputs": [
        {
          "output_type": "execute_result",
          "data": {
            "text/plain": [
              "0.9166666666666666"
            ]
          },
          "metadata": {},
          "execution_count": 43
        }
      ]
    },
    {
      "cell_type": "code",
      "metadata": {
        "colab": {
          "base_uri": "https://localhost:8080/"
        },
        "id": "X6jPyZw3plSH",
        "outputId": "ad255765-30e4-4e13-ae4e-a6697f8d8e22"
      },
      "source": [
        "for age in list(graves.idade.unique()): #Nomalizando os meses em unidade anos, de forma que consiga convertê-los para int depois\n",
        "  if 'meses' in age:\n",
        "    print(round(int(age.strip('meses'))/12, 2))\n",
        "    "
      ],
      "execution_count": 44,
      "outputs": [
        {
          "output_type": "stream",
          "name": "stdout",
          "text": [
            "0.25\n",
            "0.0\n",
            "0.67\n",
            "0.42\n",
            "0.5\n",
            "0.83\n",
            "0.17\n",
            "0.58\n",
            "0.33\n",
            "0.75\n",
            "0.92\n"
          ]
        }
      ]
    },
    {
      "cell_type": "code",
      "metadata": {
        "colab": {
          "base_uri": "https://localhost:8080/"
        },
        "id": "Jh796_h1tK83",
        "outputId": "de24673d-541f-4be6-8d62-8c7f4c0a9ba6"
      },
      "source": [
        "graves.iloc[0]"
      ],
      "execution_count": 45,
      "outputs": [
        {
          "output_type": "execute_result",
          "data": {
            "text/plain": [
              "data_notificacao                   2020-03-05 00:00:00\n",
              "sexo                                          Feminino\n",
              "idade                                               66\n",
              "data_inicio_sintomas                        2020-03-01\n",
              "raca                                               NaN\n",
              "etnia                                              NaN\n",
              "sintomas_apresentados           Febre, Tosse, Cefaleia\n",
              "outros_sintomas                                    NaN\n",
              "doencas_preexistentes                              NaN\n",
              "outras_doencas_preexistentes                       NaN\n",
              "evolucao                                    RECUPERADO\n",
              "classificacao_final                         CONFIRMADO\n",
              "data_obito                                         NaN\n",
              "profissional_saude                                 NaN\n",
              "categoria_profissional                             NaN\n",
              "municipio_notificacao                           RECIFE\n",
              "bairro                                      BOA VIAGEM\n",
              "ds                                                  VI\n",
              "Name: 10987, dtype: object"
            ]
          },
          "metadata": {},
          "execution_count": 45
        }
      ]
    },
    {
      "cell_type": "code",
      "metadata": {
        "colab": {
          "base_uri": "https://localhost:8080/"
        },
        "id": "cc6ludpbmefW",
        "outputId": "55653dea-c8b1-4d79-ecb4-71b4965a2da2"
      },
      "source": [
        "graves.info()"
      ],
      "execution_count": 46,
      "outputs": [
        {
          "output_type": "stream",
          "name": "stdout",
          "text": [
            "<class 'pandas.core.frame.DataFrame'>\n",
            "Int64Index: 16126 entries, 10987 to 10127\n",
            "Data columns (total 18 columns):\n",
            " #   Column                        Non-Null Count  Dtype         \n",
            "---  ------                        --------------  -----         \n",
            " 0   data_notificacao              16126 non-null  datetime64[ns]\n",
            " 1   sexo                          16126 non-null  object        \n",
            " 2   idade                         16126 non-null  object        \n",
            " 3   data_inicio_sintomas          15794 non-null  object        \n",
            " 4   raca                          12633 non-null  object        \n",
            " 5   etnia                         1 non-null      object        \n",
            " 6   sintomas_apresentados         15113 non-null  object        \n",
            " 7   outros_sintomas               2761 non-null   object        \n",
            " 8   doencas_preexistentes         6106 non-null   object        \n",
            " 9   outras_doencas_preexistentes  3391 non-null   object        \n",
            " 10  evolucao                      16126 non-null  object        \n",
            " 11  classificacao_final           16126 non-null  object        \n",
            " 12  data_obito                    5408 non-null   object        \n",
            " 13  profissional_saude            10500 non-null  object        \n",
            " 14  categoria_profissional        1742 non-null   object        \n",
            " 15  municipio_notificacao         16126 non-null  object        \n",
            " 16  bairro                        16126 non-null  object        \n",
            " 17  ds                            16126 non-null  object        \n",
            "dtypes: datetime64[ns](1), object(17)\n",
            "memory usage: 2.3+ MB\n"
          ]
        }
      ]
    },
    {
      "cell_type": "code",
      "source": [
        "graves.index"
      ],
      "metadata": {
        "colab": {
          "base_uri": "https://localhost:8080/"
        },
        "id": "779bLBsWh36E",
        "outputId": "903ace2c-744c-4122-8876-b3b3a8e77680"
      },
      "execution_count": 47,
      "outputs": [
        {
          "output_type": "execute_result",
          "data": {
            "text/plain": [
              "Int64Index([10987,  6013,  7939,   353,  7961,  1482, 24491, 10990, 24463,\n",
              "            21745,\n",
              "            ...\n",
              "            13565, 20343, 20347, 23732, 16891, 20402, 27359,  3299, 16947,\n",
              "            10127],\n",
              "           dtype='int64', length=16126)"
            ]
          },
          "metadata": {},
          "execution_count": 47
        }
      ]
    },
    {
      "cell_type": "code",
      "source": [
        "graves.loc[10987]"
      ],
      "metadata": {
        "colab": {
          "base_uri": "https://localhost:8080/"
        },
        "id": "HjsJnhg8h7iB",
        "outputId": "a36bdbca-e805-4b34-a2ae-bff908a75a79"
      },
      "execution_count": 48,
      "outputs": [
        {
          "output_type": "execute_result",
          "data": {
            "text/plain": [
              "data_notificacao                   2020-03-05 00:00:00\n",
              "sexo                                          Feminino\n",
              "idade                                               66\n",
              "data_inicio_sintomas                        2020-03-01\n",
              "raca                                               NaN\n",
              "etnia                                              NaN\n",
              "sintomas_apresentados           Febre, Tosse, Cefaleia\n",
              "outros_sintomas                                    NaN\n",
              "doencas_preexistentes                              NaN\n",
              "outras_doencas_preexistentes                       NaN\n",
              "evolucao                                    RECUPERADO\n",
              "classificacao_final                         CONFIRMADO\n",
              "data_obito                                         NaN\n",
              "profissional_saude                                 NaN\n",
              "categoria_profissional                             NaN\n",
              "municipio_notificacao                           RECIFE\n",
              "bairro                                      BOA VIAGEM\n",
              "ds                                                  VI\n",
              "Name: 10987, dtype: object"
            ]
          },
          "metadata": {},
          "execution_count": 48
        }
      ]
    },
    {
      "cell_type": "code",
      "source": [
        "graves['idade'].iloc[0]"
      ],
      "metadata": {
        "colab": {
          "base_uri": "https://localhost:8080/",
          "height": 34
        },
        "id": "YZ5ALVjji4yr",
        "outputId": "e1494ac5-4a3b-4bf4-f9a2-e44f1068e6a2"
      },
      "execution_count": 49,
      "outputs": [
        {
          "output_type": "execute_result",
          "data": {
            "application/vnd.google.colaboratory.intrinsic+json": {
              "type": "string"
            },
            "text/plain": [
              "'66'"
            ]
          },
          "metadata": {},
          "execution_count": 49
        }
      ]
    },
    {
      "cell_type": "code",
      "metadata": {
        "id": "4Mexg8vstAjW",
        "colab": {
          "base_uri": "https://localhost:8080/"
        },
        "outputId": "5957af63-ddb1-4e00-d7a2-03729647db58"
      },
      "source": [
        "for i in range(len(graves)):\n",
        "  if 'meses' in graves['idade'].iloc[i]:\n",
        "    graves['idade'].iloc[i] = round(int(graves['idade'].iloc[i].strip('meses')) / 12, 2)"
      ],
      "execution_count": 50,
      "outputs": [
        {
          "output_type": "stream",
          "name": "stderr",
          "text": [
            "/usr/local/lib/python3.7/dist-packages/pandas/core/indexing.py:670: SettingWithCopyWarning: \n",
            "A value is trying to be set on a copy of a slice from a DataFrame\n",
            "\n",
            "See the caveats in the documentation: https://pandas.pydata.org/pandas-docs/stable/user_guide/indexing.html#returning-a-view-versus-a-copy\n",
            "  iloc._setitem_with_indexer(indexer, value)\n"
          ]
        }
      ]
    },
    {
      "cell_type": "code",
      "metadata": {
        "colab": {
          "base_uri": "https://localhost:8080/"
        },
        "id": "EVwJjTTZt_YI",
        "outputId": "8c68b984-3a2d-415d-e27e-44f7c1516ee8"
      },
      "source": [
        "graves.idade.unique()"
      ],
      "execution_count": 51,
      "outputs": [
        {
          "output_type": "execute_result",
          "data": {
            "text/plain": [
              "array(['66', '71', '39', '68', '97', '58', '60', '28', '40', '54', '63',\n",
              "       '30', '16', '67', '25', '74', '31', '46', '69', '51', '56', '45',\n",
              "       '59', '53', '36', '42', '26', '34', '49', '41', '32', '35', '38',\n",
              "       '23', '37', '33', '27', '85', '65', '5', '70', '75', '52', '82',\n",
              "       '64', '48', '24', '62', '72', '80', '50', '47', '44', '73', '92',\n",
              "       '57', '29', '61', '55', '87', '88', '43', '90', 0.25, '95', '78',\n",
              "       '83', '18', '77', '15', '86', '22', '93', '84', '21', '81', '76',\n",
              "       0.0, '89', '4', '94', '10', '17', '102', '99', 0.67, 0.42, '79',\n",
              "       '14', '9', '91', '13', '20', '96', '19', '98', 0.5, '11', '8', '1',\n",
              "       '2', '1 mês', 0.83, '7', '101', '6', '12', '3', 0.17, 0.58, '100',\n",
              "       '103', '0', 0.33, '104', 0.75, 0.92, '114', '106', '105'],\n",
              "      dtype=object)"
            ]
          },
          "metadata": {},
          "execution_count": 51
        }
      ]
    },
    {
      "cell_type": "code",
      "metadata": {
        "id": "5lD6fH0ov1cG",
        "colab": {
          "base_uri": "https://localhost:8080/"
        },
        "outputId": "527273ed-f524-49b3-ff50-db5b82ad0ac7"
      },
      "source": [
        "for i in range(len(graves)):\n",
        "  if graves['idade'].iloc[i] == '1 mês':\n",
        "    graves['idade'].iloc[i]  = '0.08'"
      ],
      "execution_count": 52,
      "outputs": [
        {
          "output_type": "stream",
          "name": "stderr",
          "text": [
            "/usr/local/lib/python3.7/dist-packages/pandas/core/indexing.py:670: SettingWithCopyWarning: \n",
            "A value is trying to be set on a copy of a slice from a DataFrame\n",
            "\n",
            "See the caveats in the documentation: https://pandas.pydata.org/pandas-docs/stable/user_guide/indexing.html#returning-a-view-versus-a-copy\n",
            "  iloc._setitem_with_indexer(indexer, value)\n"
          ]
        }
      ]
    },
    {
      "cell_type": "code",
      "metadata": {
        "colab": {
          "base_uri": "https://localhost:8080/",
          "height": 69
        },
        "id": "wUo1iBwYw6zK",
        "outputId": "eedc622e-01ac-4be5-c068-12e0c97aa6d7"
      },
      "source": [
        "graves[graves['idade'] ==  '1 mês']"
      ],
      "execution_count": 53,
      "outputs": [
        {
          "output_type": "execute_result",
          "data": {
            "text/html": [
              "<div>\n",
              "<style scoped>\n",
              "    .dataframe tbody tr th:only-of-type {\n",
              "        vertical-align: middle;\n",
              "    }\n",
              "\n",
              "    .dataframe tbody tr th {\n",
              "        vertical-align: top;\n",
              "    }\n",
              "\n",
              "    .dataframe thead th {\n",
              "        text-align: right;\n",
              "    }\n",
              "</style>\n",
              "<table border=\"1\" class=\"dataframe\">\n",
              "  <thead>\n",
              "    <tr style=\"text-align: right;\">\n",
              "      <th></th>\n",
              "      <th>data_notificacao</th>\n",
              "      <th>sexo</th>\n",
              "      <th>idade</th>\n",
              "      <th>data_inicio_sintomas</th>\n",
              "      <th>raca</th>\n",
              "      <th>etnia</th>\n",
              "      <th>sintomas_apresentados</th>\n",
              "      <th>outros_sintomas</th>\n",
              "      <th>doencas_preexistentes</th>\n",
              "      <th>outras_doencas_preexistentes</th>\n",
              "      <th>evolucao</th>\n",
              "      <th>classificacao_final</th>\n",
              "      <th>data_obito</th>\n",
              "      <th>profissional_saude</th>\n",
              "      <th>categoria_profissional</th>\n",
              "      <th>municipio_notificacao</th>\n",
              "      <th>bairro</th>\n",
              "      <th>ds</th>\n",
              "    </tr>\n",
              "  </thead>\n",
              "  <tbody>\n",
              "  </tbody>\n",
              "</table>\n",
              "</div>"
            ],
            "text/plain": [
              "Empty DataFrame\n",
              "Columns: [data_notificacao, sexo, idade, data_inicio_sintomas, raca, etnia, sintomas_apresentados, outros_sintomas, doencas_preexistentes, outras_doencas_preexistentes, evolucao, classificacao_final, data_obito, profissional_saude, categoria_profissional, municipio_notificacao, bairro, ds]\n",
              "Index: []"
            ]
          },
          "metadata": {},
          "execution_count": 53
        }
      ]
    },
    {
      "cell_type": "code",
      "metadata": {
        "colab": {
          "base_uri": "https://localhost:8080/"
        },
        "id": "v3qsin4zwmNK",
        "outputId": "18ab1a7d-c67d-4f00-a7e9-4d74c4e15f47"
      },
      "source": [
        "graves.idade.unique()"
      ],
      "execution_count": 54,
      "outputs": [
        {
          "output_type": "execute_result",
          "data": {
            "text/plain": [
              "array(['66', '71', '39', '68', '97', '58', '60', '28', '40', '54', '63',\n",
              "       '30', '16', '67', '25', '74', '31', '46', '69', '51', '56', '45',\n",
              "       '59', '53', '36', '42', '26', '34', '49', '41', '32', '35', '38',\n",
              "       '23', '37', '33', '27', '85', '65', '5', '70', '75', '52', '82',\n",
              "       '64', '48', '24', '62', '72', '80', '50', '47', '44', '73', '92',\n",
              "       '57', '29', '61', '55', '87', '88', '43', '90', 0.25, '95', '78',\n",
              "       '83', '18', '77', '15', '86', '22', '93', '84', '21', '81', '76',\n",
              "       0.0, '89', '4', '94', '10', '17', '102', '99', 0.67, 0.42, '79',\n",
              "       '14', '9', '91', '13', '20', '96', '19', '98', 0.5, '11', '8', '1',\n",
              "       '2', '0.08', 0.83, '7', '101', '6', '12', '3', 0.17, 0.58, '100',\n",
              "       '103', '0', 0.33, '104', 0.75, 0.92, '114', '106', '105'],\n",
              "      dtype=object)"
            ]
          },
          "metadata": {},
          "execution_count": 54
        }
      ]
    },
    {
      "cell_type": "code",
      "metadata": {
        "id": "WjvMrorluIV_"
      },
      "source": [
        "graves['idade'] = pd.to_numeric(graves['idade'])"
      ],
      "execution_count": 55,
      "outputs": []
    },
    {
      "cell_type": "code",
      "metadata": {
        "colab": {
          "base_uri": "https://localhost:8080/"
        },
        "id": "97mEwMSkxPzB",
        "outputId": "a0e1aeb5-7396-409c-ece5-3a58f5052177"
      },
      "source": [
        "max(graves['idade'])"
      ],
      "execution_count": 56,
      "outputs": [
        {
          "output_type": "execute_result",
          "data": {
            "text/plain": [
              "114.0"
            ]
          },
          "metadata": {},
          "execution_count": 56
        }
      ]
    },
    {
      "cell_type": "code",
      "metadata": {
        "id": "0IQitEZMILhf"
      },
      "source": [
        "graves = graves.set_index(['data_notificacao'])"
      ],
      "execution_count": 57,
      "outputs": []
    },
    {
      "cell_type": "code",
      "metadata": {
        "id": "aT7juHWXI5re"
      },
      "source": [
        "graves.sort_values(by=['data_notificacao'], inplace=True)"
      ],
      "execution_count": 58,
      "outputs": []
    },
    {
      "cell_type": "code",
      "metadata": {
        "colab": {
          "base_uri": "https://localhost:8080/",
          "height": 734
        },
        "id": "NOyDJd1IXWdq",
        "outputId": "a32485d5-8d26-47f6-854b-976943c7a805"
      },
      "source": [
        "graves"
      ],
      "execution_count": 59,
      "outputs": [
        {
          "output_type": "execute_result",
          "data": {
            "text/html": [
              "<div>\n",
              "<style scoped>\n",
              "    .dataframe tbody tr th:only-of-type {\n",
              "        vertical-align: middle;\n",
              "    }\n",
              "\n",
              "    .dataframe tbody tr th {\n",
              "        vertical-align: top;\n",
              "    }\n",
              "\n",
              "    .dataframe thead th {\n",
              "        text-align: right;\n",
              "    }\n",
              "</style>\n",
              "<table border=\"1\" class=\"dataframe\">\n",
              "  <thead>\n",
              "    <tr style=\"text-align: right;\">\n",
              "      <th></th>\n",
              "      <th>sexo</th>\n",
              "      <th>idade</th>\n",
              "      <th>data_inicio_sintomas</th>\n",
              "      <th>raca</th>\n",
              "      <th>etnia</th>\n",
              "      <th>sintomas_apresentados</th>\n",
              "      <th>outros_sintomas</th>\n",
              "      <th>doencas_preexistentes</th>\n",
              "      <th>outras_doencas_preexistentes</th>\n",
              "      <th>evolucao</th>\n",
              "      <th>classificacao_final</th>\n",
              "      <th>data_obito</th>\n",
              "      <th>profissional_saude</th>\n",
              "      <th>categoria_profissional</th>\n",
              "      <th>municipio_notificacao</th>\n",
              "      <th>bairro</th>\n",
              "      <th>ds</th>\n",
              "    </tr>\n",
              "    <tr>\n",
              "      <th>data_notificacao</th>\n",
              "      <th></th>\n",
              "      <th></th>\n",
              "      <th></th>\n",
              "      <th></th>\n",
              "      <th></th>\n",
              "      <th></th>\n",
              "      <th></th>\n",
              "      <th></th>\n",
              "      <th></th>\n",
              "      <th></th>\n",
              "      <th></th>\n",
              "      <th></th>\n",
              "      <th></th>\n",
              "      <th></th>\n",
              "      <th></th>\n",
              "      <th></th>\n",
              "      <th></th>\n",
              "    </tr>\n",
              "  </thead>\n",
              "  <tbody>\n",
              "    <tr>\n",
              "      <th>2020-03-05</th>\n",
              "      <td>Feminino</td>\n",
              "      <td>66.0</td>\n",
              "      <td>2020-03-01</td>\n",
              "      <td>NaN</td>\n",
              "      <td>NaN</td>\n",
              "      <td>Febre, Tosse, Cefaleia</td>\n",
              "      <td>NaN</td>\n",
              "      <td>NaN</td>\n",
              "      <td>NaN</td>\n",
              "      <td>RECUPERADO</td>\n",
              "      <td>CONFIRMADO</td>\n",
              "      <td>NaN</td>\n",
              "      <td>NaN</td>\n",
              "      <td>NaN</td>\n",
              "      <td>RECIFE</td>\n",
              "      <td>BOA VIAGEM</td>\n",
              "      <td>VI</td>\n",
              "    </tr>\n",
              "    <tr>\n",
              "      <th>2020-03-05</th>\n",
              "      <td>Masculino</td>\n",
              "      <td>71.0</td>\n",
              "      <td>2020-03-01</td>\n",
              "      <td>NaN</td>\n",
              "      <td>NaN</td>\n",
              "      <td>Febre, Tosse, Cefaleia</td>\n",
              "      <td>NaN</td>\n",
              "      <td>Diabetes</td>\n",
              "      <td>NaN</td>\n",
              "      <td>RECUPERADO</td>\n",
              "      <td>CONFIRMADO</td>\n",
              "      <td>NaN</td>\n",
              "      <td>NaN</td>\n",
              "      <td>NaN</td>\n",
              "      <td>RECIFE</td>\n",
              "      <td>BOA VIAGEM</td>\n",
              "      <td>VI</td>\n",
              "    </tr>\n",
              "    <tr>\n",
              "      <th>2020-03-07</th>\n",
              "      <td>Masculino</td>\n",
              "      <td>39.0</td>\n",
              "      <td>2020-03-06</td>\n",
              "      <td>NaN</td>\n",
              "      <td>NaN</td>\n",
              "      <td>Febre, Tosse, Dor de Garganta, Coriza / Conges...</td>\n",
              "      <td>NaN</td>\n",
              "      <td>NaN</td>\n",
              "      <td>NaN</td>\n",
              "      <td>RECUPERADO</td>\n",
              "      <td>CONFIRMADO</td>\n",
              "      <td>NaN</td>\n",
              "      <td>SIM</td>\n",
              "      <td>Outro profissional de serviço de saúde</td>\n",
              "      <td>RECIFE</td>\n",
              "      <td>BOA VIAGEM</td>\n",
              "      <td>VI</td>\n",
              "    </tr>\n",
              "    <tr>\n",
              "      <th>2020-03-12</th>\n",
              "      <td>Feminino</td>\n",
              "      <td>40.0</td>\n",
              "      <td>2020-03-11</td>\n",
              "      <td>NaN</td>\n",
              "      <td>NaN</td>\n",
              "      <td>Febre, Tosse, Dor de Garganta, Coriza / Conges...</td>\n",
              "      <td>NaN</td>\n",
              "      <td>NaN</td>\n",
              "      <td>NaN</td>\n",
              "      <td>RECUPERADO</td>\n",
              "      <td>CONFIRMADO</td>\n",
              "      <td>NaN</td>\n",
              "      <td>SIM</td>\n",
              "      <td>Outro profissional de serviço de saúde</td>\n",
              "      <td>RECIFE</td>\n",
              "      <td>BOA VIAGEM</td>\n",
              "      <td>VI</td>\n",
              "    </tr>\n",
              "    <tr>\n",
              "      <th>2020-03-12</th>\n",
              "      <td>Feminino</td>\n",
              "      <td>60.0</td>\n",
              "      <td>2020-03-08</td>\n",
              "      <td>NaN</td>\n",
              "      <td>NaN</td>\n",
              "      <td>Febre, Dor de Garganta, Diarreia</td>\n",
              "      <td>NaN</td>\n",
              "      <td>NaN</td>\n",
              "      <td>NaN</td>\n",
              "      <td>RECUPERADO</td>\n",
              "      <td>CONFIRMADO</td>\n",
              "      <td>NaN</td>\n",
              "      <td>NaN</td>\n",
              "      <td>NaN</td>\n",
              "      <td>RECIFE</td>\n",
              "      <td>ROSARINHO</td>\n",
              "      <td>II</td>\n",
              "    </tr>\n",
              "    <tr>\n",
              "      <th>...</th>\n",
              "      <td>...</td>\n",
              "      <td>...</td>\n",
              "      <td>...</td>\n",
              "      <td>...</td>\n",
              "      <td>...</td>\n",
              "      <td>...</td>\n",
              "      <td>...</td>\n",
              "      <td>...</td>\n",
              "      <td>...</td>\n",
              "      <td>...</td>\n",
              "      <td>...</td>\n",
              "      <td>...</td>\n",
              "      <td>...</td>\n",
              "      <td>...</td>\n",
              "      <td>...</td>\n",
              "      <td>...</td>\n",
              "      <td>...</td>\n",
              "    </tr>\n",
              "    <tr>\n",
              "      <th>2021-09-23</th>\n",
              "      <td>Feminino</td>\n",
              "      <td>65.0</td>\n",
              "      <td>2021-09-20</td>\n",
              "      <td>Parda</td>\n",
              "      <td>NaN</td>\n",
              "      <td>Dispneia, Desconforto respiratório / aperto to...</td>\n",
              "      <td>NaN</td>\n",
              "      <td>Doenças Cardíacas ou Vasculares</td>\n",
              "      <td>NaN</td>\n",
              "      <td>INTERNADO LEITO DE ISOLAMENTO</td>\n",
              "      <td>CONFIRMADO</td>\n",
              "      <td>NaN</td>\n",
              "      <td>NÃO</td>\n",
              "      <td>NaN</td>\n",
              "      <td>RECIFE</td>\n",
              "      <td>ALTO JOSE BONIFACIO</td>\n",
              "      <td>VII</td>\n",
              "    </tr>\n",
              "    <tr>\n",
              "      <th>2021-09-23</th>\n",
              "      <td>Masculino</td>\n",
              "      <td>38.0</td>\n",
              "      <td>2021-09-19</td>\n",
              "      <td>Parda</td>\n",
              "      <td>NaN</td>\n",
              "      <td>Febre, Tosse, Dispneia, Dor de Garganta, Coriz...</td>\n",
              "      <td>ODINOFAGIA</td>\n",
              "      <td>NaN</td>\n",
              "      <td>NaN</td>\n",
              "      <td>INTERNADO LEITO DE ISOLAMENTO</td>\n",
              "      <td>CONFIRMADO</td>\n",
              "      <td>NaN</td>\n",
              "      <td>NÃO</td>\n",
              "      <td>NaN</td>\n",
              "      <td>RECIFE</td>\n",
              "      <td>BOA VISTA</td>\n",
              "      <td>I</td>\n",
              "    </tr>\n",
              "    <tr>\n",
              "      <th>2021-09-24</th>\n",
              "      <td>Feminino</td>\n",
              "      <td>71.0</td>\n",
              "      <td>2021-03-22</td>\n",
              "      <td>Branca</td>\n",
              "      <td>NaN</td>\n",
              "      <td>Febre, Dispneia, Desconforto respiratório / ap...</td>\n",
              "      <td>DESORIENTADA</td>\n",
              "      <td>Doenças Cardíacas ou Vasculares</td>\n",
              "      <td>NaN</td>\n",
              "      <td>ÓBITO</td>\n",
              "      <td>CONFIRMADO</td>\n",
              "      <td>2021-03-30</td>\n",
              "      <td>NÃO</td>\n",
              "      <td>NaN</td>\n",
              "      <td>RECIFE</td>\n",
              "      <td>AREIAS</td>\n",
              "      <td>V</td>\n",
              "    </tr>\n",
              "    <tr>\n",
              "      <th>2021-09-24</th>\n",
              "      <td>Feminino</td>\n",
              "      <td>54.0</td>\n",
              "      <td>2021-05-06</td>\n",
              "      <td>Branca</td>\n",
              "      <td>NaN</td>\n",
              "      <td>Febre, Tosse, Dispneia, Saturação O2 &lt; 95</td>\n",
              "      <td>NaN</td>\n",
              "      <td>Doenças Cardíacas ou Vasculares, Diabetes</td>\n",
              "      <td>HAS CARDIOPATIA</td>\n",
              "      <td>ÓBITO</td>\n",
              "      <td>CONFIRMADO</td>\n",
              "      <td>2021-05-10</td>\n",
              "      <td>NÃO</td>\n",
              "      <td>NaN</td>\n",
              "      <td>RECIFE</td>\n",
              "      <td>CORDEIRO</td>\n",
              "      <td>IV</td>\n",
              "    </tr>\n",
              "    <tr>\n",
              "      <th>2021-09-24</th>\n",
              "      <td>Masculino</td>\n",
              "      <td>59.0</td>\n",
              "      <td>2021-05-09</td>\n",
              "      <td>Parda</td>\n",
              "      <td>NaN</td>\n",
              "      <td>Febre, Tosse, Dispneia, Desconforto respiratór...</td>\n",
              "      <td>DOR DE CABEÇA, CEFALEIA</td>\n",
              "      <td>Doenças Cardíacas ou Vasculares</td>\n",
              "      <td>HAS</td>\n",
              "      <td>ÓBITO</td>\n",
              "      <td>CONFIRMADO</td>\n",
              "      <td>2021-05-15</td>\n",
              "      <td>NÃO</td>\n",
              "      <td>NaN</td>\n",
              "      <td>RECIFE</td>\n",
              "      <td>AREIAS</td>\n",
              "      <td>V</td>\n",
              "    </tr>\n",
              "  </tbody>\n",
              "</table>\n",
              "<p>16126 rows × 17 columns</p>\n",
              "</div>"
            ],
            "text/plain": [
              "                       sexo  idade  ...               bairro   ds\n",
              "data_notificacao                    ...                          \n",
              "2020-03-05         Feminino   66.0  ...           BOA VIAGEM   VI\n",
              "2020-03-05        Masculino   71.0  ...           BOA VIAGEM   VI\n",
              "2020-03-07        Masculino   39.0  ...           BOA VIAGEM   VI\n",
              "2020-03-12         Feminino   40.0  ...           BOA VIAGEM   VI\n",
              "2020-03-12         Feminino   60.0  ...            ROSARINHO   II\n",
              "...                     ...    ...  ...                  ...  ...\n",
              "2021-09-23         Feminino   65.0  ...  ALTO JOSE BONIFACIO  VII\n",
              "2021-09-23        Masculino   38.0  ...            BOA VISTA    I\n",
              "2021-09-24         Feminino   71.0  ...               AREIAS    V\n",
              "2021-09-24         Feminino   54.0  ...             CORDEIRO   IV\n",
              "2021-09-24        Masculino   59.0  ...               AREIAS    V\n",
              "\n",
              "[16126 rows x 17 columns]"
            ]
          },
          "metadata": {},
          "execution_count": 59
        }
      ]
    },
    {
      "cell_type": "code",
      "metadata": {
        "colab": {
          "base_uri": "https://localhost:8080/"
        },
        "id": "IggOG3An1Ei-",
        "outputId": "487c6920-dbf2-40a3-e6c0-196b91934543"
      },
      "source": [
        "graves.bairro.value_counts().head(10)"
      ],
      "execution_count": 60,
      "outputs": [
        {
          "output_type": "execute_result",
          "data": {
            "text/plain": [
              "BOA VIAGEM      1530\n",
              "VARZEA           643\n",
              "IBURA            584\n",
              "COHAB            538\n",
              "IPUTINGA         512\n",
              "IMBIRIBEIRA      491\n",
              "CASA AMARELA     441\n",
              "CORDEIRO         426\n",
              "AGUA FRIA        401\n",
              "SANTO AMARO      351\n",
              "Name: bairro, dtype: int64"
            ]
          },
          "metadata": {},
          "execution_count": 60
        }
      ]
    },
    {
      "cell_type": "code",
      "metadata": {
        "colab": {
          "base_uri": "https://localhost:8080/"
        },
        "id": "EakxX-WflQ5n",
        "outputId": "59e32169-94d8-419e-806c-b99a9ab81e02"
      },
      "source": [
        "graves.loc['2020-03']['idade']"
      ],
      "execution_count": 61,
      "outputs": [
        {
          "output_type": "execute_result",
          "data": {
            "text/plain": [
              "data_notificacao\n",
              "2020-03-05    66.0\n",
              "2020-03-05    71.0\n",
              "2020-03-07    39.0\n",
              "2020-03-12    40.0\n",
              "2020-03-12    60.0\n",
              "              ... \n",
              "2020-03-31    44.0\n",
              "2020-03-31    37.0\n",
              "2020-03-31    40.0\n",
              "2020-03-31    78.0\n",
              "2020-03-31    95.0\n",
              "Name: idade, Length: 186, dtype: float64"
            ]
          },
          "metadata": {},
          "execution_count": 61
        }
      ]
    },
    {
      "cell_type": "code",
      "metadata": {
        "colab": {
          "base_uri": "https://localhost:8080/",
          "height": 448
        },
        "id": "jAgXuUtY0KxE",
        "outputId": "85a51233-f741-4461-da3d-1b978160601f"
      },
      "source": [
        "fig6, ax6 = plt.subplots(figsize=(15, 7), nrows=2, ncols=3)\n",
        "plt.rcParams.update({'font.size': 12})\n",
        "\n",
        "\n",
        "months_2 = ['2020-03', '2020-04', '2020-05', '2020-06', '2020-12']\n",
        "sns.histplot(x=list(graves['2020-04']['idade']), ax=ax6[0][0], stat='proportion', binwidth=10)\n",
        "sns.histplot(x=list(graves['2021-04']['idade']), ax=ax6[1][0], stat='proportion', binwidth=10)\n",
        "\n",
        "sns.histplot(x=list(graves['2020-05']['idade']), ax=ax6[0][1], stat='proportion', binwidth=10)\n",
        "sns.histplot(x=list(graves['2021-05']['idade']), ax=ax6[1][1], stat='proportion', binwidth=10)\n",
        "\n",
        "\n",
        "sns.histplot(x=list(graves['2020-09']['idade']),ax=ax6[0][2], binwidth=10, stat='proportion')\n",
        "sns.histplot(x=list(graves['2021-06']['idade']),ax=ax6[1][2], binwidth=10, stat='proportion')\n",
        "\n",
        "\n",
        "ax6[0][0].set_title('Abril/2020')\n",
        "ax6[1][0].set_title('Abril/2021')\n",
        "ax6[0][1].set_title('Maio/2020')\n",
        "ax6[1][1].set_title('Maio/2021')\n",
        "ax6[0][2].set_title('Junho/2020')\n",
        "ax6[1][2].set_title('Junho/2021')\n",
        "\n",
        "\n",
        "for i in [0,1]:\n",
        "  for j in [1,2]:\n",
        "    ax6[i][j].yaxis.label.set_visible(False)\n",
        "\n",
        "ax6[0][0].set(ylabel='Proporção')\n",
        "ax6[1][0].set(ylabel='Proporção')\n",
        "plt.show()\n",
        "fig6.savefig('idade_distribuicao.jpg')"
      ],
      "execution_count": 76,
      "outputs": [
        {
          "output_type": "display_data",
          "data": {
            "image/png": "[encoded data removed]",
            "text/plain": [
              "<Figure size 1080x504 with 6 Axes>"
            ]
          },
          "metadata": {
            "needs_background": "light"
          }
        }
      ]
    },
    {
      "cell_type": "markdown",
      "source": [
        "Proporção de profissionais da saúde nos meses inicias da pandemia"
      ],
      "metadata": {
        "id": "7FbtN4WBEL19"
      }
    },
    {
      "cell_type": "code",
      "metadata": {
        "id": "2iPCBg6mpFoW",
        "colab": {
          "base_uri": "https://localhost:8080/"
        },
        "outputId": "50403225-f26c-4b05-f303-95bb7f7a7eac"
      },
      "source": [
        "graves.loc['2020-04']['profissional_saude'].value_counts()"
      ],
      "execution_count": 63,
      "outputs": [
        {
          "output_type": "execute_result",
          "data": {
            "text/plain": [
              "SIM    1398\n",
              "NÃO      20\n",
              "Name: profissional_saude, dtype: int64"
            ]
          },
          "metadata": {},
          "execution_count": 63
        }
      ]
    },
    {
      "cell_type": "code",
      "source": [
        "len(graves.loc['2020-04']['profissional_saude']) #Existem casos onde não há essa identificação"
      ],
      "metadata": {
        "colab": {
          "base_uri": "https://localhost:8080/"
        },
        "id": "A8CpH4rDFsvF",
        "outputId": "7df482df-a208-414a-93d4-aa6e48093161"
      },
      "execution_count": 64,
      "outputs": [
        {
          "output_type": "execute_result",
          "data": {
            "text/plain": [
              "3739"
            ]
          },
          "metadata": {},
          "execution_count": 64
        }
      ]
    },
    {
      "cell_type": "code",
      "source": [
        "graves.loc['2020-05']['profissional_saude'].value_counts()"
      ],
      "metadata": {
        "colab": {
          "base_uri": "https://localhost:8080/"
        },
        "id": "MzBbGXH-E8sN",
        "outputId": "5c275cc3-0533-4e22-d323-8cd1fb799c87"
      },
      "execution_count": 65,
      "outputs": [
        {
          "output_type": "execute_result",
          "data": {
            "text/plain": [
              "SIM    173\n",
              "NÃO     50\n",
              "Name: profissional_saude, dtype: int64"
            ]
          },
          "metadata": {},
          "execution_count": 65
        }
      ]
    },
    {
      "cell_type": "code",
      "source": [
        "graves.loc['2020-06']['profissional_saude'].value_counts()"
      ],
      "metadata": {
        "colab": {
          "base_uri": "https://localhost:8080/"
        },
        "id": "_norC6PVE_NJ",
        "outputId": "348b0893-65ab-4305-d8ac-3bdd46c9529d"
      },
      "execution_count": 66,
      "outputs": [
        {
          "output_type": "execute_result",
          "data": {
            "text/plain": [
              "NÃO    683\n",
              "SIM     32\n",
              "Name: profissional_saude, dtype: int64"
            ]
          },
          "metadata": {},
          "execution_count": 66
        }
      ]
    },
    {
      "cell_type": "code",
      "source": [
        "graves.loc['2020-07']['profissional_saude'].value_counts()"
      ],
      "metadata": {
        "colab": {
          "base_uri": "https://localhost:8080/"
        },
        "id": "NkhGRIYcE_oG",
        "outputId": "fc9e80b4-6ad3-431d-a9c1-427a13c4129f"
      },
      "execution_count": 67,
      "outputs": [
        {
          "output_type": "execute_result",
          "data": {
            "text/plain": [
              "NÃO    644\n",
              "SIM     27\n",
              "Name: profissional_saude, dtype: int64"
            ]
          },
          "metadata": {},
          "execution_count": 67
        }
      ]
    },
    {
      "cell_type": "code",
      "source": [
        "graves.loc['2021-03']['profissional_saude'].value_counts()"
      ],
      "metadata": {
        "colab": {
          "base_uri": "https://localhost:8080/"
        },
        "id": "CMUltO37GDhR",
        "outputId": "a354bac9-f362-4db4-82ed-49003bc8f3a9"
      },
      "execution_count": 68,
      "outputs": [
        {
          "output_type": "execute_result",
          "data": {
            "text/plain": [
              "NÃO    1221\n",
              "SIM       7\n",
              "Name: profissional_saude, dtype: int64"
            ]
          },
          "metadata": {},
          "execution_count": 68
        }
      ]
    },
    {
      "cell_type": "markdown",
      "metadata": {
        "id": "_d_Ml_Ig-VEs"
      },
      "source": [
        "##Genomic data"
      ]
    },
    {
      "cell_type": "code",
      "metadata": {
        "id": "m3hGgbSR-UtT"
      },
      "source": [
        "genomes = pd.read_csv(\"/content/gisaid_hcov-19_2021_11_23_02.tsv\", sep='\\t')"
      ],
      "execution_count": 81,
      "outputs": []
    },
    {
      "cell_type": "code",
      "metadata": {
        "id": "DxT86UoQ-itX",
        "colab": {
          "base_uri": "https://localhost:8080/",
          "height": 0
        },
        "outputId": "afbfe6dc-0520-4d19-c076-2c07d6076427"
      },
      "source": [
        "genomes"
      ],
      "execution_count": 82,
      "outputs": [
        {
          "output_type": "execute_result",
          "data": {
            "text/html": [
              "<div>\n",
              "<style scoped>\n",
              "    .dataframe tbody tr th:only-of-type {\n",
              "        vertical-align: middle;\n",
              "    }\n",
              "\n",
              "    .dataframe tbody tr th {\n",
              "        vertical-align: top;\n",
              "    }\n",
              "\n",
              "    .dataframe thead th {\n",
              "        text-align: right;\n",
              "    }\n",
              "</style>\n",
              "<table border=\"1\" class=\"dataframe\">\n",
              "  <thead>\n",
              "    <tr style=\"text-align: right;\">\n",
              "      <th></th>\n",
              "      <th>Virus name</th>\n",
              "      <th>Accession ID</th>\n",
              "      <th>Collection date</th>\n",
              "      <th>Location</th>\n",
              "      <th>Host</th>\n",
              "      <th>Additional location information</th>\n",
              "      <th>Sampling strategy</th>\n",
              "      <th>Gender</th>\n",
              "      <th>Patient age</th>\n",
              "      <th>Patient status</th>\n",
              "      <th>Last vaccinated</th>\n",
              "      <th>Passage</th>\n",
              "      <th>Specimen</th>\n",
              "      <th>Additional host information</th>\n",
              "      <th>Lineage</th>\n",
              "      <th>Clade</th>\n",
              "      <th>AA Substitutions</th>\n",
              "    </tr>\n",
              "  </thead>\n",
              "  <tbody>\n",
              "    <tr>\n",
              "      <th>0</th>\n",
              "      <td>hCoV-19/Brazil/PE-UFPE053/2020</td>\n",
              "      <td>EPI_ISL_1117383</td>\n",
              "      <td>2020-06-02</td>\n",
              "      <td>South America / Brazil / Pernambuco / Recife</td>\n",
              "      <td>Human</td>\n",
              "      <td>NaN</td>\n",
              "      <td>NaN</td>\n",
              "      <td>Male</td>\n",
              "      <td>28</td>\n",
              "      <td>unknown</td>\n",
              "      <td>NaN</td>\n",
              "      <td>Original</td>\n",
              "      <td>Nasopharyngeal swab</td>\n",
              "      <td>NaN</td>\n",
              "      <td>B.1.1</td>\n",
              "      <td>GR</td>\n",
              "      <td>(N_R203K,M_E167Q,N_G204R,NSP12_A379S,NSP12_P32...</td>\n",
              "    </tr>\n",
              "    <tr>\n",
              "      <th>1</th>\n",
              "      <td>hCoV-19/Brazil/PE-UFPE051/2020</td>\n",
              "      <td>EPI_ISL_1117407</td>\n",
              "      <td>2020-06-02</td>\n",
              "      <td>South America / Brazil / Pernambuco / Recife</td>\n",
              "      <td>Human</td>\n",
              "      <td>NaN</td>\n",
              "      <td>NaN</td>\n",
              "      <td>Male</td>\n",
              "      <td>43</td>\n",
              "      <td>unknown</td>\n",
              "      <td>NaN</td>\n",
              "      <td>Original</td>\n",
              "      <td>Nasopharyngeal swab</td>\n",
              "      <td>NaN</td>\n",
              "      <td>B.1.1</td>\n",
              "      <td>GR</td>\n",
              "      <td>(NSP15_A92V,N_R203K,N_G204R,NSP12_P323L,Spike_...</td>\n",
              "    </tr>\n",
              "    <tr>\n",
              "      <th>2</th>\n",
              "      <td>hCoV-19/Brazil/PE-UFPE052/2020</td>\n",
              "      <td>EPI_ISL_1117408</td>\n",
              "      <td>2020-06-02</td>\n",
              "      <td>South America / Brazil / Pernambuco / Recife</td>\n",
              "      <td>Human</td>\n",
              "      <td>NaN</td>\n",
              "      <td>NaN</td>\n",
              "      <td>Male</td>\n",
              "      <td>50</td>\n",
              "      <td>unknown</td>\n",
              "      <td>NaN</td>\n",
              "      <td>Original</td>\n",
              "      <td>Nasopharyngeal swab</td>\n",
              "      <td>NaN</td>\n",
              "      <td>B.1.1.28</td>\n",
              "      <td>GR</td>\n",
              "      <td>(NSP1_R24C,N_R203K,N_G204R,NSP12_P323L,Spike_D...</td>\n",
              "    </tr>\n",
              "    <tr>\n",
              "      <th>3</th>\n",
              "      <td>hCoV-19/Brazil/PE-UFPE054/2020</td>\n",
              "      <td>EPI_ISL_1117409</td>\n",
              "      <td>2020-06-02</td>\n",
              "      <td>South America / Brazil / Pernambuco / Recife</td>\n",
              "      <td>Human</td>\n",
              "      <td>NaN</td>\n",
              "      <td>NaN</td>\n",
              "      <td>Female</td>\n",
              "      <td>71</td>\n",
              "      <td>unknown</td>\n",
              "      <td>NaN</td>\n",
              "      <td>Original</td>\n",
              "      <td>Nasopharyngeal swab</td>\n",
              "      <td>NaN</td>\n",
              "      <td>B.1.1</td>\n",
              "      <td>GR</td>\n",
              "      <td>(N_R203K,N_G204R,NSP12_P323L,Spike_D614G)</td>\n",
              "    </tr>\n",
              "    <tr>\n",
              "      <th>4</th>\n",
              "      <td>hCoV-19/Brazil/PE-UFPE055/2020</td>\n",
              "      <td>EPI_ISL_1117410</td>\n",
              "      <td>2020-06-02</td>\n",
              "      <td>South America / Brazil / Pernambuco / Recife</td>\n",
              "      <td>Human</td>\n",
              "      <td>NaN</td>\n",
              "      <td>NaN</td>\n",
              "      <td>Female</td>\n",
              "      <td>71</td>\n",
              "      <td>unknown</td>\n",
              "      <td>NaN</td>\n",
              "      <td>Original</td>\n",
              "      <td>Nasopharyngeal swab</td>\n",
              "      <td>NaN</td>\n",
              "      <td>B.1.1.277</td>\n",
              "      <td>GR</td>\n",
              "      <td>(N_R203K,N_G204R,NS8_V62M,NSP12_P323L,Spike_D6...</td>\n",
              "    </tr>\n",
              "    <tr>\n",
              "      <th>...</th>\n",
              "      <td>...</td>\n",
              "      <td>...</td>\n",
              "      <td>...</td>\n",
              "      <td>...</td>\n",
              "      <td>...</td>\n",
              "      <td>...</td>\n",
              "      <td>...</td>\n",
              "      <td>...</td>\n",
              "      <td>...</td>\n",
              "      <td>...</td>\n",
              "      <td>...</td>\n",
              "      <td>...</td>\n",
              "      <td>...</td>\n",
              "      <td>...</td>\n",
              "      <td>...</td>\n",
              "      <td>...</td>\n",
              "      <td>...</td>\n",
              "    </tr>\n",
              "    <tr>\n",
              "      <th>304</th>\n",
              "      <td>hCoV-19/Brazil/PE-FIOCRUZ-IAM5173/2021</td>\n",
              "      <td>EPI_ISL_6573886</td>\n",
              "      <td>2021-10-11</td>\n",
              "      <td>South America / Brazil / Pernambuco / Recife</td>\n",
              "      <td>Human</td>\n",
              "      <td>NaN</td>\n",
              "      <td>NaN</td>\n",
              "      <td>Female</td>\n",
              "      <td>38</td>\n",
              "      <td>unknown</td>\n",
              "      <td>NaN</td>\n",
              "      <td>Original</td>\n",
              "      <td>NaN</td>\n",
              "      <td>NaN</td>\n",
              "      <td>AY.99.2</td>\n",
              "      <td>GK</td>\n",
              "      <td>(N_G215C,N_D63G,N_R203M,NSP8_T145I,NSP12_G671S...</td>\n",
              "    </tr>\n",
              "    <tr>\n",
              "      <th>305</th>\n",
              "      <td>hCoV-19/Brazil/PE-FIOCRUZ-IAM4976/2021</td>\n",
              "      <td>EPI_ISL_6573889</td>\n",
              "      <td>2021-10-08</td>\n",
              "      <td>South America / Brazil / Pernambuco / Recife</td>\n",
              "      <td>Human</td>\n",
              "      <td>NaN</td>\n",
              "      <td>NaN</td>\n",
              "      <td>Male</td>\n",
              "      <td>48</td>\n",
              "      <td>unknown</td>\n",
              "      <td>NaN</td>\n",
              "      <td>Original</td>\n",
              "      <td>NaN</td>\n",
              "      <td>NaN</td>\n",
              "      <td>AY.99.2</td>\n",
              "      <td>GK</td>\n",
              "      <td>(N_G215C,N_D63G,N_R203M,NSP8_T145I,NSP12_G671S...</td>\n",
              "    </tr>\n",
              "    <tr>\n",
              "      <th>306</th>\n",
              "      <td>hCoV-19/Brazil/PE-FIOCRUZ-IAM4981/2021</td>\n",
              "      <td>EPI_ISL_6573912</td>\n",
              "      <td>2021-10-04</td>\n",
              "      <td>South America / Brazil / Pernambuco / Recife</td>\n",
              "      <td>Human</td>\n",
              "      <td>NaN</td>\n",
              "      <td>NaN</td>\n",
              "      <td>Female</td>\n",
              "      <td>48</td>\n",
              "      <td>unknown</td>\n",
              "      <td>NaN</td>\n",
              "      <td>Original</td>\n",
              "      <td>NaN</td>\n",
              "      <td>NaN</td>\n",
              "      <td>AY.99.2</td>\n",
              "      <td>GK</td>\n",
              "      <td>(N_G215C,N_D63G,N_R203M,NSP8_T145I,NSP12_G671S...</td>\n",
              "    </tr>\n",
              "    <tr>\n",
              "      <th>307</th>\n",
              "      <td>hCoV-19/Brazil/PE-FIOCRUZ-IAM4978/2021</td>\n",
              "      <td>EPI_ISL_6573958</td>\n",
              "      <td>2021-10-07</td>\n",
              "      <td>South America / Brazil / Pernambuco / Recife</td>\n",
              "      <td>Human</td>\n",
              "      <td>NaN</td>\n",
              "      <td>NaN</td>\n",
              "      <td>Female</td>\n",
              "      <td>41</td>\n",
              "      <td>unknown</td>\n",
              "      <td>NaN</td>\n",
              "      <td>Original</td>\n",
              "      <td>NaN</td>\n",
              "      <td>NaN</td>\n",
              "      <td>AY.99.2</td>\n",
              "      <td>GK</td>\n",
              "      <td>(N_G215C,N_D63G,N_R203M,NSP8_T145I,NSP12_G671S...</td>\n",
              "    </tr>\n",
              "    <tr>\n",
              "      <th>308</th>\n",
              "      <td>hCoV-19/Brazil/PE-FIOCRUZ-IAM5369/2021</td>\n",
              "      <td>EPI_ISL_6573959</td>\n",
              "      <td>2021-03-16</td>\n",
              "      <td>South America / Brazil / Pernambuco / Recife</td>\n",
              "      <td>Human</td>\n",
              "      <td>NaN</td>\n",
              "      <td>NaN</td>\n",
              "      <td>Female</td>\n",
              "      <td>54</td>\n",
              "      <td>unknown</td>\n",
              "      <td>NaN</td>\n",
              "      <td>Original</td>\n",
              "      <td>NaN</td>\n",
              "      <td>NaN</td>\n",
              "      <td>P.1</td>\n",
              "      <td>GR</td>\n",
              "      <td>(NSP6_S106del,Spike_H655Y,Spike_E484K,N_R203K,...</td>\n",
              "    </tr>\n",
              "  </tbody>\n",
              "</table>\n",
              "<p>309 rows × 17 columns</p>\n",
              "</div>"
            ],
            "text/plain": [
              "                                 Virus name  ...                                   AA Substitutions\n",
              "0            hCoV-19/Brazil/PE-UFPE053/2020  ...  (N_R203K,M_E167Q,N_G204R,NSP12_A379S,NSP12_P32...\n",
              "1            hCoV-19/Brazil/PE-UFPE051/2020  ...  (NSP15_A92V,N_R203K,N_G204R,NSP12_P323L,Spike_...\n",
              "2            hCoV-19/Brazil/PE-UFPE052/2020  ...  (NSP1_R24C,N_R203K,N_G204R,NSP12_P323L,Spike_D...\n",
              "3            hCoV-19/Brazil/PE-UFPE054/2020  ...          (N_R203K,N_G204R,NSP12_P323L,Spike_D614G)\n",
              "4            hCoV-19/Brazil/PE-UFPE055/2020  ...  (N_R203K,N_G204R,NS8_V62M,NSP12_P323L,Spike_D6...\n",
              "..                                      ...  ...                                                ...\n",
              "304  hCoV-19/Brazil/PE-FIOCRUZ-IAM5173/2021  ...  (N_G215C,N_D63G,N_R203M,NSP8_T145I,NSP12_G671S...\n",
              "305  hCoV-19/Brazil/PE-FIOCRUZ-IAM4976/2021  ...  (N_G215C,N_D63G,N_R203M,NSP8_T145I,NSP12_G671S...\n",
              "306  hCoV-19/Brazil/PE-FIOCRUZ-IAM4981/2021  ...  (N_G215C,N_D63G,N_R203M,NSP8_T145I,NSP12_G671S...\n",
              "307  hCoV-19/Brazil/PE-FIOCRUZ-IAM4978/2021  ...  (N_G215C,N_D63G,N_R203M,NSP8_T145I,NSP12_G671S...\n",
              "308  hCoV-19/Brazil/PE-FIOCRUZ-IAM5369/2021  ...  (NSP6_S106del,Spike_H655Y,Spike_E484K,N_R203K,...\n",
              "\n",
              "[309 rows x 17 columns]"
            ]
          },
          "metadata": {},
          "execution_count": 82
        }
      ]
    },
    {
      "cell_type": "code",
      "metadata": {
        "id": "8E1zOm8--pcv",
        "colab": {
          "base_uri": "https://localhost:8080/"
        },
        "outputId": "22d7d00b-6aec-4d3f-cece-0cc703ebd485"
      },
      "source": [
        "genomes.Lineage.value_counts()"
      ],
      "execution_count": 83,
      "outputs": [
        {
          "output_type": "execute_result",
          "data": {
            "text/plain": [
              "P.1          121\n",
              "AY.99.2       76\n",
              "B.1.1         56\n",
              "P.1.7         11\n",
              "P.2            8\n",
              "B.1.1.28       5\n",
              "P.1.12         4\n",
              "B.1.1.33       4\n",
              "B.1.617.2      4\n",
              "P.1.4          3\n",
              "B.1.212        2\n",
              "P.1.14         2\n",
              "AY.101         2\n",
              "P.1.15         2\n",
              "None           1\n",
              "B              1\n",
              "AY.100         1\n",
              "B.1.1.277      1\n",
              "AY.117         1\n",
              "AY.102         1\n",
              "B.1.1.16       1\n",
              "B.1.1.117      1\n",
              "N.9            1\n",
              "Name: Lineage, dtype: int64"
            ]
          },
          "metadata": {},
          "execution_count": 83
        }
      ]
    },
    {
      "cell_type": "code",
      "metadata": {
        "id": "UAPpiRy2OhEn"
      },
      "source": [
        "genomes['Collection date'] = pd.DatetimeIndex(genomes['Collection date'])\n",
        "genomes = genomes.set_index(['Collection date'])\n",
        "genomes.sort_values(by=['Collection date'], inplace=True)"
      ],
      "execution_count": 84,
      "outputs": []
    },
    {
      "cell_type": "code",
      "metadata": {
        "id": "NVCQg0GnQqiH",
        "colab": {
          "base_uri": "https://localhost:8080/",
          "height": 0
        },
        "outputId": "19dc2dd3-e31f-4bf0-aba1-020948fc8fa9"
      },
      "source": [
        "genomes"
      ],
      "execution_count": 85,
      "outputs": [
        {
          "output_type": "execute_result",
          "data": {
            "text/html": [
              "<div>\n",
              "<style scoped>\n",
              "    .dataframe tbody tr th:only-of-type {\n",
              "        vertical-align: middle;\n",
              "    }\n",
              "\n",
              "    .dataframe tbody tr th {\n",
              "        vertical-align: top;\n",
              "    }\n",
              "\n",
              "    .dataframe thead th {\n",
              "        text-align: right;\n",
              "    }\n",
              "</style>\n",
              "<table border=\"1\" class=\"dataframe\">\n",
              "  <thead>\n",
              "    <tr style=\"text-align: right;\">\n",
              "      <th></th>\n",
              "      <th>Virus name</th>\n",
              "      <th>Accession ID</th>\n",
              "      <th>Location</th>\n",
              "      <th>Host</th>\n",
              "      <th>Additional location information</th>\n",
              "      <th>Sampling strategy</th>\n",
              "      <th>Gender</th>\n",
              "      <th>Patient age</th>\n",
              "      <th>Patient status</th>\n",
              "      <th>Last vaccinated</th>\n",
              "      <th>Passage</th>\n",
              "      <th>Specimen</th>\n",
              "      <th>Additional host information</th>\n",
              "      <th>Lineage</th>\n",
              "      <th>Clade</th>\n",
              "      <th>AA Substitutions</th>\n",
              "    </tr>\n",
              "    <tr>\n",
              "      <th>Collection date</th>\n",
              "      <th></th>\n",
              "      <th></th>\n",
              "      <th></th>\n",
              "      <th></th>\n",
              "      <th></th>\n",
              "      <th></th>\n",
              "      <th></th>\n",
              "      <th></th>\n",
              "      <th></th>\n",
              "      <th></th>\n",
              "      <th></th>\n",
              "      <th></th>\n",
              "      <th></th>\n",
              "      <th></th>\n",
              "      <th></th>\n",
              "      <th></th>\n",
              "    </tr>\n",
              "  </thead>\n",
              "  <tbody>\n",
              "    <tr>\n",
              "      <th>2020-04-07</th>\n",
              "      <td>hCoV-19/Brazil/PE-FIOCRUZ-IAM08/2020</td>\n",
              "      <td>EPI_ISL_500460</td>\n",
              "      <td>South America / Brazil / Pernambuco / Recife</td>\n",
              "      <td>Human</td>\n",
              "      <td>NaN</td>\n",
              "      <td>NaN</td>\n",
              "      <td>Female</td>\n",
              "      <td>unknown</td>\n",
              "      <td>unknown</td>\n",
              "      <td>NaN</td>\n",
              "      <td>Original</td>\n",
              "      <td>NaN</td>\n",
              "      <td>NaN</td>\n",
              "      <td>B.1.1.117</td>\n",
              "      <td>GR</td>\n",
              "      <td>(N_R203K,N_G204R,NSP12_P323L,Spike_D614G,Spike...</td>\n",
              "    </tr>\n",
              "    <tr>\n",
              "      <th>2020-04-07</th>\n",
              "      <td>hCoV-19/Brazil/PE-FIOCRUZ-IAM10/2020</td>\n",
              "      <td>EPI_ISL_500461</td>\n",
              "      <td>South America / Brazil / Pernambuco / Recife</td>\n",
              "      <td>Human</td>\n",
              "      <td>NaN</td>\n",
              "      <td>NaN</td>\n",
              "      <td>Female</td>\n",
              "      <td>unknown</td>\n",
              "      <td>unknown</td>\n",
              "      <td>NaN</td>\n",
              "      <td>Original</td>\n",
              "      <td>NaN</td>\n",
              "      <td>NaN</td>\n",
              "      <td>B.1.1</td>\n",
              "      <td>GR</td>\n",
              "      <td>(N_R203K,N_G204R,NSP12_P323L,Spike_D614G,NSP12...</td>\n",
              "    </tr>\n",
              "    <tr>\n",
              "      <th>2020-04-07</th>\n",
              "      <td>hCoV-19/Brazil/PE-FIOCRUZ-IAM16/2020</td>\n",
              "      <td>EPI_ISL_500865</td>\n",
              "      <td>South America / Brazil / Pernambuco / Recife</td>\n",
              "      <td>Human</td>\n",
              "      <td>NaN</td>\n",
              "      <td>NaN</td>\n",
              "      <td>Male</td>\n",
              "      <td>80</td>\n",
              "      <td>unknown</td>\n",
              "      <td>NaN</td>\n",
              "      <td>Original</td>\n",
              "      <td>NaN</td>\n",
              "      <td>NaN</td>\n",
              "      <td>B.1.1</td>\n",
              "      <td>GR</td>\n",
              "      <td>(NSP12_T394M,N_R203K,N_G204R,NSP12_P323L,Spike...</td>\n",
              "    </tr>\n",
              "    <tr>\n",
              "      <th>2020-04-07</th>\n",
              "      <td>hCoV-19/Brazil/PE-FIOCRUZ-IAM17/2020</td>\n",
              "      <td>EPI_ISL_500866</td>\n",
              "      <td>South America / Brazil / Pernambuco / Recife</td>\n",
              "      <td>Human</td>\n",
              "      <td>NaN</td>\n",
              "      <td>NaN</td>\n",
              "      <td>Female</td>\n",
              "      <td>31</td>\n",
              "      <td>unknown</td>\n",
              "      <td>NaN</td>\n",
              "      <td>Original</td>\n",
              "      <td>NaN</td>\n",
              "      <td>NaN</td>\n",
              "      <td>B.1.1</td>\n",
              "      <td>GR</td>\n",
              "      <td>(N_R203K,NSP12_A382V,N_G204R,Spike_H207Q,NSP12...</td>\n",
              "    </tr>\n",
              "    <tr>\n",
              "      <th>2020-04-07</th>\n",
              "      <td>hCoV-19/Brazil/PE-FIOCRUZ-IAM19/2020</td>\n",
              "      <td>EPI_ISL_500467</td>\n",
              "      <td>South America / Brazil / Pernambuco / Recife</td>\n",
              "      <td>Human</td>\n",
              "      <td>NaN</td>\n",
              "      <td>NaN</td>\n",
              "      <td>Female</td>\n",
              "      <td>unknown</td>\n",
              "      <td>unknown</td>\n",
              "      <td>NaN</td>\n",
              "      <td>Original</td>\n",
              "      <td>NaN</td>\n",
              "      <td>NaN</td>\n",
              "      <td>B.1.212</td>\n",
              "      <td>G</td>\n",
              "      <td>(NSP3_G908S,NSP3_M1436I,NSP13_E261D,Spike_N501...</td>\n",
              "    </tr>\n",
              "    <tr>\n",
              "      <th>...</th>\n",
              "      <td>...</td>\n",
              "      <td>...</td>\n",
              "      <td>...</td>\n",
              "      <td>...</td>\n",
              "      <td>...</td>\n",
              "      <td>...</td>\n",
              "      <td>...</td>\n",
              "      <td>...</td>\n",
              "      <td>...</td>\n",
              "      <td>...</td>\n",
              "      <td>...</td>\n",
              "      <td>...</td>\n",
              "      <td>...</td>\n",
              "      <td>...</td>\n",
              "      <td>...</td>\n",
              "      <td>...</td>\n",
              "    </tr>\n",
              "    <tr>\n",
              "      <th>2021-10-11</th>\n",
              "      <td>hCoV-19/Brazil/PE-FIOCRUZ-IAM5173/2021</td>\n",
              "      <td>EPI_ISL_6573886</td>\n",
              "      <td>South America / Brazil / Pernambuco / Recife</td>\n",
              "      <td>Human</td>\n",
              "      <td>NaN</td>\n",
              "      <td>NaN</td>\n",
              "      <td>Female</td>\n",
              "      <td>38</td>\n",
              "      <td>unknown</td>\n",
              "      <td>NaN</td>\n",
              "      <td>Original</td>\n",
              "      <td>NaN</td>\n",
              "      <td>NaN</td>\n",
              "      <td>AY.99.2</td>\n",
              "      <td>GK</td>\n",
              "      <td>(N_G215C,N_D63G,N_R203M,NSP8_T145I,NSP12_G671S...</td>\n",
              "    </tr>\n",
              "    <tr>\n",
              "      <th>2021-10-14</th>\n",
              "      <td>hCoV-19/Brazil/PE-FIOCRUZ-IAM5184/2021</td>\n",
              "      <td>EPI_ISL_6573652</td>\n",
              "      <td>South America / Brazil / Pernambuco / Recife</td>\n",
              "      <td>Human</td>\n",
              "      <td>NaN</td>\n",
              "      <td>NaN</td>\n",
              "      <td>Female</td>\n",
              "      <td>53</td>\n",
              "      <td>unknown</td>\n",
              "      <td>NaN</td>\n",
              "      <td>Original</td>\n",
              "      <td>NaN</td>\n",
              "      <td>NaN</td>\n",
              "      <td>AY.99.2</td>\n",
              "      <td>GK</td>\n",
              "      <td>(N_G215C,N_D63G,N_R203M,NSP8_T145I,NSP12_G671S...</td>\n",
              "    </tr>\n",
              "    <tr>\n",
              "      <th>2021-10-14</th>\n",
              "      <td>hCoV-19/Brazil/PE-FIOCRUZ-IAM5178/2021</td>\n",
              "      <td>EPI_ISL_6573651</td>\n",
              "      <td>South America / Brazil / Pernambuco / Recife</td>\n",
              "      <td>Human</td>\n",
              "      <td>NaN</td>\n",
              "      <td>NaN</td>\n",
              "      <td>Female</td>\n",
              "      <td>47</td>\n",
              "      <td>unknown</td>\n",
              "      <td>NaN</td>\n",
              "      <td>Original</td>\n",
              "      <td>NaN</td>\n",
              "      <td>NaN</td>\n",
              "      <td>AY.99.2</td>\n",
              "      <td>GK</td>\n",
              "      <td>(N_G215C,N_D63G,N_R203M,NSP8_T145I,NSP12_G671S...</td>\n",
              "    </tr>\n",
              "    <tr>\n",
              "      <th>2021-10-14</th>\n",
              "      <td>hCoV-19/Brazil/PE-FIOCRUZ-IAM5185/2021</td>\n",
              "      <td>EPI_ISL_6573885</td>\n",
              "      <td>South America / Brazil / Pernambuco / Recife</td>\n",
              "      <td>Human</td>\n",
              "      <td>NaN</td>\n",
              "      <td>NaN</td>\n",
              "      <td>Female</td>\n",
              "      <td>49</td>\n",
              "      <td>unknown</td>\n",
              "      <td>NaN</td>\n",
              "      <td>Original</td>\n",
              "      <td>NaN</td>\n",
              "      <td>NaN</td>\n",
              "      <td>AY.99.2</td>\n",
              "      <td>GK</td>\n",
              "      <td>(N_G215C,N_D63G,N_R203M,NSP8_T145I,NSP12_G671S...</td>\n",
              "    </tr>\n",
              "    <tr>\n",
              "      <th>2021-10-21</th>\n",
              "      <td>hCoV-19/Brazil/PE-FIOCRUZ-IAM5189/2021</td>\n",
              "      <td>EPI_ISL_6573881</td>\n",
              "      <td>South America / Brazil / Pernambuco / Recife</td>\n",
              "      <td>Human</td>\n",
              "      <td>NaN</td>\n",
              "      <td>NaN</td>\n",
              "      <td>Male</td>\n",
              "      <td>73</td>\n",
              "      <td>unknown</td>\n",
              "      <td>NaN</td>\n",
              "      <td>Original</td>\n",
              "      <td>NaN</td>\n",
              "      <td>NaN</td>\n",
              "      <td>AY.117</td>\n",
              "      <td>G</td>\n",
              "      <td>(N_G215C,N_D377Y,M_I82T,N_D63G,N_R203M,NS7b_T4...</td>\n",
              "    </tr>\n",
              "  </tbody>\n",
              "</table>\n",
              "<p>309 rows × 16 columns</p>\n",
              "</div>"
            ],
            "text/plain": [
              "                                             Virus name  ...                                   AA Substitutions\n",
              "Collection date                                          ...                                                   \n",
              "2020-04-07         hCoV-19/Brazil/PE-FIOCRUZ-IAM08/2020  ...  (N_R203K,N_G204R,NSP12_P323L,Spike_D614G,Spike...\n",
              "2020-04-07         hCoV-19/Brazil/PE-FIOCRUZ-IAM10/2020  ...  (N_R203K,N_G204R,NSP12_P323L,Spike_D614G,NSP12...\n",
              "2020-04-07         hCoV-19/Brazil/PE-FIOCRUZ-IAM16/2020  ...  (NSP12_T394M,N_R203K,N_G204R,NSP12_P323L,Spike...\n",
              "2020-04-07         hCoV-19/Brazil/PE-FIOCRUZ-IAM17/2020  ...  (N_R203K,NSP12_A382V,N_G204R,Spike_H207Q,NSP12...\n",
              "2020-04-07         hCoV-19/Brazil/PE-FIOCRUZ-IAM19/2020  ...  (NSP3_G908S,NSP3_M1436I,NSP13_E261D,Spike_N501...\n",
              "...                                                 ...  ...                                                ...\n",
              "2021-10-11       hCoV-19/Brazil/PE-FIOCRUZ-IAM5173/2021  ...  (N_G215C,N_D63G,N_R203M,NSP8_T145I,NSP12_G671S...\n",
              "2021-10-14       hCoV-19/Brazil/PE-FIOCRUZ-IAM5184/2021  ...  (N_G215C,N_D63G,N_R203M,NSP8_T145I,NSP12_G671S...\n",
              "2021-10-14       hCoV-19/Brazil/PE-FIOCRUZ-IAM5178/2021  ...  (N_G215C,N_D63G,N_R203M,NSP8_T145I,NSP12_G671S...\n",
              "2021-10-14       hCoV-19/Brazil/PE-FIOCRUZ-IAM5185/2021  ...  (N_G215C,N_D63G,N_R203M,NSP8_T145I,NSP12_G671S...\n",
              "2021-10-21       hCoV-19/Brazil/PE-FIOCRUZ-IAM5189/2021  ...  (N_G215C,N_D377Y,M_I82T,N_D63G,N_R203M,NS7b_T4...\n",
              "\n",
              "[309 rows x 16 columns]"
            ]
          },
          "metadata": {},
          "execution_count": 85
        }
      ]
    },
    {
      "cell_type": "code",
      "metadata": {
        "id": "83WqsclQQ1ph",
        "colab": {
          "base_uri": "https://localhost:8080/"
        },
        "outputId": "83b9cf81-4b4f-49ea-82de-f78bb9242970"
      },
      "source": [
        "  genomes.loc['2021-07']['Lineage'].value_counts()"
      ],
      "execution_count": 86,
      "outputs": [
        {
          "output_type": "execute_result",
          "data": {
            "text/plain": [
              "P.1          58\n",
              "P.1.7         6\n",
              "B.1.617.2     4\n",
              "P.1.4         3\n",
              "P.1.15        2\n",
              "P.1.12        2\n",
              "AY.99.2       1\n",
              "AY.102        1\n",
              "Name: Lineage, dtype: int64"
            ]
          },
          "metadata": {},
          "execution_count": 86
        }
      ]
    }
  ]
}