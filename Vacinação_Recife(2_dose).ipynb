{
  "nbformat": 4,
  "nbformat_minor": 0,
  "metadata": {
    "colab": {
      "name": "Vacinação Recife(2 dose).ipynb",
      "provenance": [],
      "authorship_tag": "ABX9TyNig9a+eu5gZ2BIcBqqV+ok",
      "include_colab_link": true
    },
    "kernelspec": {
      "name": "python3",
      "display_name": "Python 3"
    },
    "language_info": {
      "name": "python"
    }
  },
  "cells": [
    {
      "cell_type": "markdown",
      "metadata": {
        "id": "view-in-github",
        "colab_type": "text"
      },
      "source": [
        "<a href=\"https://colab.research.google.com/github/agenorrneto/pandemia_recife/blob/main/Vacina%C3%A7%C3%A3o_Recife(2_dose).ipynb\" target=\"_parent\"><img src=\"https://colab.research.google.com/assets/colab-badge.svg\" alt=\"Open In Colab\"/></a>"
      ]
    },
    {
      "cell_type": "code",
      "metadata": {
        "id": "Og1521feGjsg"
      },
      "source": [
        "import pandas as pd\n",
        "import matplotlib.pyplot as plt\n",
        "import numpy as np\n",
        "import seaborn as sns\n",
        "import matplotlib\n",
        "import matplotlib.ticker as ticker\n",
        "from matplotlib.ticker import FuncFormatter"
      ],
      "execution_count": null,
      "outputs": []
    },
    {
      "cell_type": "code",
      "metadata": {
        "colab": {
          "base_uri": "https://localhost:8080/"
        },
        "id": "oNVA2fGvGpgd",
        "outputId": "cdb258b0-3b12-423c-95ec-e7c91022656c"
      },
      "source": [
        "df = pd.read_csv('http://dados.recife.pe.gov.br/dataset/7ccb3816-0d62-49e1-b39a-3159870883b0/resource/bceb5759-5500-49db-bc86-b038892acc06/download/vacinados.csv', delimiter=';')"
      ],
      "execution_count": null,
      "outputs": [
        {
          "output_type": "stream",
          "name": "stderr",
          "text": [
            "/usr/local/lib/python3.7/dist-packages/IPython/core/interactiveshell.py:2718: DtypeWarning: Columns (1) have mixed types.Specify dtype option on import or set low_memory=False.\n",
            "  interactivity=interactivity, compiler=compiler, result=result)\n"
          ]
        }
      ]
    },
    {
      "cell_type": "code",
      "metadata": {
        "colab": {
          "base_uri": "https://localhost:8080/",
          "height": 683
        },
        "id": "iMxpLF1-Gps_",
        "outputId": "bbf74b39-f972-4644-d1a9-220767914f12"
      },
      "source": [
        "df"
      ],
      "execution_count": null,
      "outputs": [
        {
          "output_type": "execute_result",
          "data": {
            "text/html": [
              "<div>\n",
              "<style scoped>\n",
              "    .dataframe tbody tr th:only-of-type {\n",
              "        vertical-align: middle;\n",
              "    }\n",
              "\n",
              "    .dataframe tbody tr th {\n",
              "        vertical-align: top;\n",
              "    }\n",
              "\n",
              "    .dataframe thead th {\n",
              "        text-align: right;\n",
              "    }\n",
              "</style>\n",
              "<table border=\"1\" class=\"dataframe\">\n",
              "  <thead>\n",
              "    <tr style=\"text-align: right;\">\n",
              "      <th></th>\n",
              "      <th>faixa_etaria</th>\n",
              "      <th>idade</th>\n",
              "      <th>sexo</th>\n",
              "      <th>raca_cor</th>\n",
              "      <th>municipio</th>\n",
              "      <th>grupo</th>\n",
              "      <th>categoria</th>\n",
              "      <th>lote</th>\n",
              "      <th>vacina_fabricante</th>\n",
              "      <th>descricao_dose</th>\n",
              "      <th>cnes</th>\n",
              "      <th>sistema_origem</th>\n",
              "      <th>data_vacinacao</th>\n",
              "    </tr>\n",
              "  </thead>\n",
              "  <tbody>\n",
              "    <tr>\n",
              "      <th>0</th>\n",
              "      <td>75 a 79 anos</td>\n",
              "      <td>77</td>\n",
              "      <td>MASCULINO</td>\n",
              "      <td>PARDA</td>\n",
              "      <td>RECIFE</td>\n",
              "      <td>IDOSOS</td>\n",
              "      <td>OUTROS</td>\n",
              "      <td>202009014</td>\n",
              "      <td>1 - CORONAVAC - SINOVAC (BUTANTAN)</td>\n",
              "      <td>1.0</td>\n",
              "      <td>DS 4: CNES: 0000639 - UBS JOAQUIM CAVALCANTE</td>\n",
              "      <td>Conecta Recife</td>\n",
              "      <td>2021-01-19 00:00:00.0</td>\n",
              "    </tr>\n",
              "    <tr>\n",
              "      <th>1</th>\n",
              "      <td>70 a 74 anos</td>\n",
              "      <td>72</td>\n",
              "      <td>MASCULINO</td>\n",
              "      <td>PARDA</td>\n",
              "      <td>RECIFE</td>\n",
              "      <td>IDOSOS</td>\n",
              "      <td>OUTROS</td>\n",
              "      <td>202009014</td>\n",
              "      <td>1 - CORONAVAC - SINOVAC (BUTANTAN)</td>\n",
              "      <td>1.0</td>\n",
              "      <td>DS 4: CNES: 0000639 - UBS JOAQUIM CAVALCANTE</td>\n",
              "      <td>Conecta Recife</td>\n",
              "      <td>2021-01-19 00:00:00.0</td>\n",
              "    </tr>\n",
              "    <tr>\n",
              "      <th>2</th>\n",
              "      <td>80 a 84 anos</td>\n",
              "      <td>81</td>\n",
              "      <td>MASCULINO</td>\n",
              "      <td>PARDA</td>\n",
              "      <td>RECIFE</td>\n",
              "      <td>IDOSOS</td>\n",
              "      <td>OUTROS</td>\n",
              "      <td>202009014</td>\n",
              "      <td>1 - CORONAVAC - SINOVAC (BUTANTAN)</td>\n",
              "      <td>1.0</td>\n",
              "      <td>DS 4: CNES: 0000639 - UBS JOAQUIM CAVALCANTE</td>\n",
              "      <td>Conecta Recife</td>\n",
              "      <td>2021-01-19 00:00:00.0</td>\n",
              "    </tr>\n",
              "    <tr>\n",
              "      <th>3</th>\n",
              "      <td>80 a 84 anos</td>\n",
              "      <td>80</td>\n",
              "      <td>MASCULINO</td>\n",
              "      <td>PARDA</td>\n",
              "      <td>RECIFE</td>\n",
              "      <td>IDOSOS</td>\n",
              "      <td>OUTROS</td>\n",
              "      <td>202009014</td>\n",
              "      <td>1 - CORONAVAC - SINOVAC (BUTANTAN)</td>\n",
              "      <td>1.0</td>\n",
              "      <td>DS 4: CNES: 0000639 - UBS JOAQUIM CAVALCANTE</td>\n",
              "      <td>Conecta Recife</td>\n",
              "      <td>2021-01-19 00:00:00.0</td>\n",
              "    </tr>\n",
              "    <tr>\n",
              "      <th>4</th>\n",
              "      <td>80 a 84 anos</td>\n",
              "      <td>84</td>\n",
              "      <td>FEMININO</td>\n",
              "      <td>PARDA</td>\n",
              "      <td>RECIFE</td>\n",
              "      <td>IDOSOS</td>\n",
              "      <td>OUTROS</td>\n",
              "      <td>202009014</td>\n",
              "      <td>1 - CORONAVAC - SINOVAC (BUTANTAN)</td>\n",
              "      <td>1.0</td>\n",
              "      <td>DS 4: CNES: 0000639 - UBS JOAQUIM CAVALCANTE</td>\n",
              "      <td>Conecta Recife</td>\n",
              "      <td>2021-01-19 00:00:00.0</td>\n",
              "    </tr>\n",
              "    <tr>\n",
              "      <th>...</th>\n",
              "      <td>...</td>\n",
              "      <td>...</td>\n",
              "      <td>...</td>\n",
              "      <td>...</td>\n",
              "      <td>...</td>\n",
              "      <td>...</td>\n",
              "      <td>...</td>\n",
              "      <td>...</td>\n",
              "      <td>...</td>\n",
              "      <td>...</td>\n",
              "      <td>...</td>\n",
              "      <td>...</td>\n",
              "      <td>...</td>\n",
              "    </tr>\n",
              "    <tr>\n",
              "      <th>2779161</th>\n",
              "      <td>10 a 14 anos</td>\n",
              "      <td>11</td>\n",
              "      <td>MASCULINO</td>\n",
              "      <td>AMARELA</td>\n",
              "      <td>RECIFE</td>\n",
              "      <td>PÚBLICO EM GERAL - MENOR DE 18 ANOS</td>\n",
              "      <td>OUTROS</td>\n",
              "      <td>FH4751</td>\n",
              "      <td>3 - COMIRNATY (PFIZER)</td>\n",
              "      <td>1.0</td>\n",
              "      <td>DS 2: CNES: 6897029 - POLICLÍNICA SALOMÃO KELNER</td>\n",
              "      <td>Conecta Recife</td>\n",
              "      <td>2021-12-01 00:00:00.0</td>\n",
              "    </tr>\n",
              "    <tr>\n",
              "      <th>2779162</th>\n",
              "      <td>10 a 14 anos</td>\n",
              "      <td>13</td>\n",
              "      <td>MASCULINO</td>\n",
              "      <td>PARDA</td>\n",
              "      <td>RECIFE</td>\n",
              "      <td>PÚBLICO EM GERAL - MENOR DE 18 ANOS</td>\n",
              "      <td>NaN</td>\n",
              "      <td>FH4751</td>\n",
              "      <td>3 - COMIRNATY (PFIZER)</td>\n",
              "      <td>1.0</td>\n",
              "      <td>DS 2: CNES: 6897029 - POLICLÍNICA SALOMÃO KELNER</td>\n",
              "      <td>Conecta Recife</td>\n",
              "      <td>2021-11-30 00:00:00.0</td>\n",
              "    </tr>\n",
              "    <tr>\n",
              "      <th>2779163</th>\n",
              "      <td>10 a 14 anos</td>\n",
              "      <td>13</td>\n",
              "      <td>MASCULINO</td>\n",
              "      <td>PARDA</td>\n",
              "      <td>RECIFE</td>\n",
              "      <td>PÚBLICO EM GERAL - MENOR DE 18 ANOS</td>\n",
              "      <td>OUTROS</td>\n",
              "      <td>FH4751</td>\n",
              "      <td>3 - COMIRNATY (PFIZER)</td>\n",
              "      <td>1.0</td>\n",
              "      <td>DS 5: CNES: 000701 - MATERNIDADE BANDEIRA FILHO</td>\n",
              "      <td>Conecta Recife</td>\n",
              "      <td>2021-12-01 00:00:00.0</td>\n",
              "    </tr>\n",
              "    <tr>\n",
              "      <th>2779164</th>\n",
              "      <td>15 a 19 anos</td>\n",
              "      <td>17</td>\n",
              "      <td>FEMININO</td>\n",
              "      <td>PARDA</td>\n",
              "      <td>RECIFE</td>\n",
              "      <td>PÚBLICO EM GERAL - MENOR DE 18 ANOS</td>\n",
              "      <td>NaN</td>\n",
              "      <td>FH4751</td>\n",
              "      <td>3 - COMIRNATY (PFIZER)</td>\n",
              "      <td>2.0</td>\n",
              "      <td>DS 8: CNES: 0001198 - UBT ARISTARCHO DE AZEVEDO</td>\n",
              "      <td>Conecta Recife</td>\n",
              "      <td>2021-12-01 00:00:00.0</td>\n",
              "    </tr>\n",
              "    <tr>\n",
              "      <th>2779165</th>\n",
              "      <td>10 a 14 anos</td>\n",
              "      <td>13</td>\n",
              "      <td>FEMININO</td>\n",
              "      <td>PARDA</td>\n",
              "      <td>RECIFE</td>\n",
              "      <td>PÚBLICO EM GERAL - MENOR DE 18 ANOS</td>\n",
              "      <td>OUTROS</td>\n",
              "      <td>FH4751</td>\n",
              "      <td>3 - COMIRNATY (PFIZER)</td>\n",
              "      <td>1.0</td>\n",
              "      <td>DS 7: CNES: 0000647 - POLICLINICA CLEMENTINO F...</td>\n",
              "      <td>Conecta Recife</td>\n",
              "      <td>2021-12-01 00:00:00.0</td>\n",
              "    </tr>\n",
              "  </tbody>\n",
              "</table>\n",
              "<p>2779166 rows × 13 columns</p>\n",
              "</div>"
            ],
            "text/plain": [
              "         faixa_etaria idade  ...  sistema_origem         data_vacinacao\n",
              "0        75 a 79 anos    77  ...  Conecta Recife  2021-01-19 00:00:00.0\n",
              "1        70 a 74 anos    72  ...  Conecta Recife  2021-01-19 00:00:00.0\n",
              "2        80 a 84 anos    81  ...  Conecta Recife  2021-01-19 00:00:00.0\n",
              "3        80 a 84 anos    80  ...  Conecta Recife  2021-01-19 00:00:00.0\n",
              "4        80 a 84 anos    84  ...  Conecta Recife  2021-01-19 00:00:00.0\n",
              "...               ...   ...  ...             ...                    ...\n",
              "2779161  10 a 14 anos    11  ...  Conecta Recife  2021-12-01 00:00:00.0\n",
              "2779162  10 a 14 anos    13  ...  Conecta Recife  2021-11-30 00:00:00.0\n",
              "2779163  10 a 14 anos    13  ...  Conecta Recife  2021-12-01 00:00:00.0\n",
              "2779164  15 a 19 anos    17  ...  Conecta Recife  2021-12-01 00:00:00.0\n",
              "2779165  10 a 14 anos    13  ...  Conecta Recife  2021-12-01 00:00:00.0\n",
              "\n",
              "[2779166 rows x 13 columns]"
            ]
          },
          "metadata": {},
          "execution_count": 3
        }
      ]
    },
    {
      "cell_type": "code",
      "metadata": {
        "id": "0abl8ThDGpz8"
      },
      "source": [
        "df = df.loc[df['descricao_dose']==2]"
      ],
      "execution_count": null,
      "outputs": []
    },
    {
      "cell_type": "code",
      "metadata": {
        "colab": {
          "base_uri": "https://localhost:8080/",
          "height": 666
        },
        "id": "jswETr-JGp2I",
        "outputId": "0007617a-e899-41ef-a4bf-7315fc250a05"
      },
      "source": [
        "df"
      ],
      "execution_count": null,
      "outputs": [
        {
          "output_type": "execute_result",
          "data": {
            "text/html": [
              "<div>\n",
              "<style scoped>\n",
              "    .dataframe tbody tr th:only-of-type {\n",
              "        vertical-align: middle;\n",
              "    }\n",
              "\n",
              "    .dataframe tbody tr th {\n",
              "        vertical-align: top;\n",
              "    }\n",
              "\n",
              "    .dataframe thead th {\n",
              "        text-align: right;\n",
              "    }\n",
              "</style>\n",
              "<table border=\"1\" class=\"dataframe\">\n",
              "  <thead>\n",
              "    <tr style=\"text-align: right;\">\n",
              "      <th></th>\n",
              "      <th>faixa_etaria</th>\n",
              "      <th>idade</th>\n",
              "      <th>sexo</th>\n",
              "      <th>raca_cor</th>\n",
              "      <th>municipio</th>\n",
              "      <th>grupo</th>\n",
              "      <th>categoria</th>\n",
              "      <th>lote</th>\n",
              "      <th>vacina_fabricante</th>\n",
              "      <th>descricao_dose</th>\n",
              "      <th>cnes</th>\n",
              "      <th>sistema_origem</th>\n",
              "      <th>data_vacinacao</th>\n",
              "    </tr>\n",
              "  </thead>\n",
              "  <tbody>\n",
              "    <tr>\n",
              "      <th>352</th>\n",
              "      <td>75 a 79 anos</td>\n",
              "      <td>76</td>\n",
              "      <td>FEMININO</td>\n",
              "      <td>PARDA</td>\n",
              "      <td>RECIFE</td>\n",
              "      <td>IDOSOS</td>\n",
              "      <td>OUTROS</td>\n",
              "      <td>210016</td>\n",
              "      <td>1 - CORONAVAC - SINOVAC (BUTANTAN)</td>\n",
              "      <td>2.0</td>\n",
              "      <td>DS 4: CNES: 0000639 - UBS JOAQUIM CAVALCANTE</td>\n",
              "      <td>Conecta Recife</td>\n",
              "      <td>2021-02-09 00:00:00.0</td>\n",
              "    </tr>\n",
              "    <tr>\n",
              "      <th>1088</th>\n",
              "      <td>90 a 94 anos</td>\n",
              "      <td>92</td>\n",
              "      <td>FEMININO</td>\n",
              "      <td>PARDA</td>\n",
              "      <td>RECIFE</td>\n",
              "      <td>IDOSOS</td>\n",
              "      <td>OUTROS</td>\n",
              "      <td>210016</td>\n",
              "      <td>1 - CORONAVAC - SINOVAC (BUTANTAN)</td>\n",
              "      <td>2.0</td>\n",
              "      <td>DS 4: CNES: 0000639 - UBS JOAQUIM CAVALCANTE</td>\n",
              "      <td>Conecta Recife</td>\n",
              "      <td>2021-02-10 00:00:00.0</td>\n",
              "    </tr>\n",
              "    <tr>\n",
              "      <th>1904</th>\n",
              "      <td>80 a 84 anos</td>\n",
              "      <td>82</td>\n",
              "      <td>MASCULINO</td>\n",
              "      <td>PARDA</td>\n",
              "      <td>RECIFE</td>\n",
              "      <td>IDOSOS</td>\n",
              "      <td>OUTROS</td>\n",
              "      <td>200280</td>\n",
              "      <td>1 - CORONAVAC - SINOVAC (BUTANTAN)</td>\n",
              "      <td>2.0</td>\n",
              "      <td>DS 7: CNES: 0000647 - POLICLINICA CLEMENTINO F...</td>\n",
              "      <td>Conecta Recife</td>\n",
              "      <td>2021-02-12 00:00:00.0</td>\n",
              "    </tr>\n",
              "    <tr>\n",
              "      <th>3314</th>\n",
              "      <td>85 a 89 anos</td>\n",
              "      <td>88</td>\n",
              "      <td>FEMININO</td>\n",
              "      <td>PARDA</td>\n",
              "      <td>RECIFE</td>\n",
              "      <td>IDOSOS</td>\n",
              "      <td>OUTROS</td>\n",
              "      <td>200280</td>\n",
              "      <td>1 - CORONAVAC - SINOVAC (BUTANTAN)</td>\n",
              "      <td>2.0</td>\n",
              "      <td>DS 7: CNES: 0000647 - POLICLINICA CLEMENTINO F...</td>\n",
              "      <td>Conecta Recife</td>\n",
              "      <td>2021-02-12 00:00:00.0</td>\n",
              "    </tr>\n",
              "    <tr>\n",
              "      <th>15076</th>\n",
              "      <td>60 a 64 anos</td>\n",
              "      <td>61</td>\n",
              "      <td>MASCULINO</td>\n",
              "      <td>PARDA</td>\n",
              "      <td>RECIFE</td>\n",
              "      <td>IDOSOS</td>\n",
              "      <td>OUTROS</td>\n",
              "      <td>FJ2594</td>\n",
              "      <td>3 - COMIRNATY (PFIZER)</td>\n",
              "      <td>2.0</td>\n",
              "      <td>DS 4: CNES: 0000639 - UBS JOAQUIM CAVALCANTE</td>\n",
              "      <td>NÃO</td>\n",
              "      <td>2021-11-22 00:00:00.0</td>\n",
              "    </tr>\n",
              "    <tr>\n",
              "      <th>...</th>\n",
              "      <td>...</td>\n",
              "      <td>...</td>\n",
              "      <td>...</td>\n",
              "      <td>...</td>\n",
              "      <td>...</td>\n",
              "      <td>...</td>\n",
              "      <td>...</td>\n",
              "      <td>...</td>\n",
              "      <td>...</td>\n",
              "      <td>...</td>\n",
              "      <td>...</td>\n",
              "      <td>...</td>\n",
              "      <td>...</td>\n",
              "    </tr>\n",
              "    <tr>\n",
              "      <th>2779138</th>\n",
              "      <td>20 a 24 anos</td>\n",
              "      <td>21</td>\n",
              "      <td>FEMININO</td>\n",
              "      <td>PARDA</td>\n",
              "      <td>RECIFE</td>\n",
              "      <td>PÚBLICO EM GERAL (18 a 59 anos)</td>\n",
              "      <td>OUTROS</td>\n",
              "      <td>FH4751</td>\n",
              "      <td>3 - COMIRNATY (PFIZER)</td>\n",
              "      <td>2.0</td>\n",
              "      <td>DS 2: CNES: 6897029 - POLICLÍNICA SALOMÃO KELNER</td>\n",
              "      <td>Conecta Recife</td>\n",
              "      <td>2021-11-30 00:00:00.0</td>\n",
              "    </tr>\n",
              "    <tr>\n",
              "      <th>2779145</th>\n",
              "      <td>60 a 64 anos</td>\n",
              "      <td>63</td>\n",
              "      <td>FEMININO</td>\n",
              "      <td>PARDA</td>\n",
              "      <td>RECIFE</td>\n",
              "      <td>IDOSOS</td>\n",
              "      <td>OUTROS</td>\n",
              "      <td>FH4751</td>\n",
              "      <td>3 - COMIRNATY (PFIZER)</td>\n",
              "      <td>2.0</td>\n",
              "      <td>DS 8: CNES: 0001198 - UBT ARISTARCHO DE AZEVEDO</td>\n",
              "      <td>Conecta Recife</td>\n",
              "      <td>2021-12-01 00:00:00.0</td>\n",
              "    </tr>\n",
              "    <tr>\n",
              "      <th>2779146</th>\n",
              "      <td>15 a 19 anos</td>\n",
              "      <td>18</td>\n",
              "      <td>FEMININO</td>\n",
              "      <td>PARDA</td>\n",
              "      <td>RECIFE</td>\n",
              "      <td>PÚBLICO EM GERAL (18 a 59 anos)</td>\n",
              "      <td>NaN</td>\n",
              "      <td>FH4751</td>\n",
              "      <td>3 - COMIRNATY (PFIZER)</td>\n",
              "      <td>2.0</td>\n",
              "      <td>DS 2: CNES: 6897029 - POLICLÍNICA SALOMÃO KELNER</td>\n",
              "      <td>Conecta Recife</td>\n",
              "      <td>2021-11-30 00:00:00.0</td>\n",
              "    </tr>\n",
              "    <tr>\n",
              "      <th>2779148</th>\n",
              "      <td>15 a 19 anos</td>\n",
              "      <td>17</td>\n",
              "      <td>MASCULINO</td>\n",
              "      <td>PARDA</td>\n",
              "      <td>RECIFE</td>\n",
              "      <td>PÚBLICO EM GERAL - MENOR DE 18 ANOS</td>\n",
              "      <td>NaN</td>\n",
              "      <td>FH4751</td>\n",
              "      <td>3 - COMIRNATY (PFIZER)</td>\n",
              "      <td>2.0</td>\n",
              "      <td>DS 8: CNES: 0001198 - UBT ARISTARCHO DE AZEVEDO</td>\n",
              "      <td>Conecta Recife</td>\n",
              "      <td>2021-12-01 00:00:00.0</td>\n",
              "    </tr>\n",
              "    <tr>\n",
              "      <th>2779164</th>\n",
              "      <td>15 a 19 anos</td>\n",
              "      <td>17</td>\n",
              "      <td>FEMININO</td>\n",
              "      <td>PARDA</td>\n",
              "      <td>RECIFE</td>\n",
              "      <td>PÚBLICO EM GERAL - MENOR DE 18 ANOS</td>\n",
              "      <td>NaN</td>\n",
              "      <td>FH4751</td>\n",
              "      <td>3 - COMIRNATY (PFIZER)</td>\n",
              "      <td>2.0</td>\n",
              "      <td>DS 8: CNES: 0001198 - UBT ARISTARCHO DE AZEVEDO</td>\n",
              "      <td>Conecta Recife</td>\n",
              "      <td>2021-12-01 00:00:00.0</td>\n",
              "    </tr>\n",
              "  </tbody>\n",
              "</table>\n",
              "<p>1155848 rows × 13 columns</p>\n",
              "</div>"
            ],
            "text/plain": [
              "         faixa_etaria idade  ...  sistema_origem         data_vacinacao\n",
              "352      75 a 79 anos    76  ...  Conecta Recife  2021-02-09 00:00:00.0\n",
              "1088     90 a 94 anos    92  ...  Conecta Recife  2021-02-10 00:00:00.0\n",
              "1904     80 a 84 anos    82  ...  Conecta Recife  2021-02-12 00:00:00.0\n",
              "3314     85 a 89 anos    88  ...  Conecta Recife  2021-02-12 00:00:00.0\n",
              "15076    60 a 64 anos    61  ...             NÃO  2021-11-22 00:00:00.0\n",
              "...               ...   ...  ...             ...                    ...\n",
              "2779138  20 a 24 anos    21  ...  Conecta Recife  2021-11-30 00:00:00.0\n",
              "2779145  60 a 64 anos    63  ...  Conecta Recife  2021-12-01 00:00:00.0\n",
              "2779146  15 a 19 anos    18  ...  Conecta Recife  2021-11-30 00:00:00.0\n",
              "2779148  15 a 19 anos    17  ...  Conecta Recife  2021-12-01 00:00:00.0\n",
              "2779164  15 a 19 anos    17  ...  Conecta Recife  2021-12-01 00:00:00.0\n",
              "\n",
              "[1155848 rows x 13 columns]"
            ]
          },
          "metadata": {},
          "execution_count": 5
        }
      ]
    },
    {
      "cell_type": "code",
      "metadata": {
        "id": "-EkiOlS5Gp4w"
      },
      "source": [
        "df = df.dropna(axis=1, how='any')"
      ],
      "execution_count": null,
      "outputs": []
    },
    {
      "cell_type": "code",
      "metadata": {
        "colab": {
          "base_uri": "https://localhost:8080/",
          "height": 423
        },
        "id": "WTU9c5RPQ4rs",
        "outputId": "45e84e4d-e042-464b-8363-a464404d6d51"
      },
      "source": [
        "df"
      ],
      "execution_count": null,
      "outputs": [
        {
          "output_type": "execute_result",
          "data": {
            "text/html": [
              "<div>\n",
              "<style scoped>\n",
              "    .dataframe tbody tr th:only-of-type {\n",
              "        vertical-align: middle;\n",
              "    }\n",
              "\n",
              "    .dataframe tbody tr th {\n",
              "        vertical-align: top;\n",
              "    }\n",
              "\n",
              "    .dataframe thead th {\n",
              "        text-align: right;\n",
              "    }\n",
              "</style>\n",
              "<table border=\"1\" class=\"dataframe\">\n",
              "  <thead>\n",
              "    <tr style=\"text-align: right;\">\n",
              "      <th></th>\n",
              "      <th>grupo</th>\n",
              "      <th>vacina_fabricante</th>\n",
              "      <th>descricao_dose</th>\n",
              "      <th>cnes</th>\n",
              "      <th>sistema_origem</th>\n",
              "      <th>data_vacinacao</th>\n",
              "    </tr>\n",
              "  </thead>\n",
              "  <tbody>\n",
              "    <tr>\n",
              "      <th>352</th>\n",
              "      <td>IDOSOS</td>\n",
              "      <td>1 - CORONAVAC - SINOVAC (BUTANTAN)</td>\n",
              "      <td>2.0</td>\n",
              "      <td>DS 4: CNES: 0000639 - UBS JOAQUIM CAVALCANTE</td>\n",
              "      <td>Conecta Recife</td>\n",
              "      <td>2021-02-09 00:00:00.0</td>\n",
              "    </tr>\n",
              "    <tr>\n",
              "      <th>1088</th>\n",
              "      <td>IDOSOS</td>\n",
              "      <td>1 - CORONAVAC - SINOVAC (BUTANTAN)</td>\n",
              "      <td>2.0</td>\n",
              "      <td>DS 4: CNES: 0000639 - UBS JOAQUIM CAVALCANTE</td>\n",
              "      <td>Conecta Recife</td>\n",
              "      <td>2021-02-10 00:00:00.0</td>\n",
              "    </tr>\n",
              "    <tr>\n",
              "      <th>1904</th>\n",
              "      <td>IDOSOS</td>\n",
              "      <td>1 - CORONAVAC - SINOVAC (BUTANTAN)</td>\n",
              "      <td>2.0</td>\n",
              "      <td>DS 7: CNES: 0000647 - POLICLINICA CLEMENTINO F...</td>\n",
              "      <td>Conecta Recife</td>\n",
              "      <td>2021-02-12 00:00:00.0</td>\n",
              "    </tr>\n",
              "    <tr>\n",
              "      <th>3314</th>\n",
              "      <td>IDOSOS</td>\n",
              "      <td>1 - CORONAVAC - SINOVAC (BUTANTAN)</td>\n",
              "      <td>2.0</td>\n",
              "      <td>DS 7: CNES: 0000647 - POLICLINICA CLEMENTINO F...</td>\n",
              "      <td>Conecta Recife</td>\n",
              "      <td>2021-02-12 00:00:00.0</td>\n",
              "    </tr>\n",
              "    <tr>\n",
              "      <th>15076</th>\n",
              "      <td>IDOSOS</td>\n",
              "      <td>3 - COMIRNATY (PFIZER)</td>\n",
              "      <td>2.0</td>\n",
              "      <td>DS 4: CNES: 0000639 - UBS JOAQUIM CAVALCANTE</td>\n",
              "      <td>NÃO</td>\n",
              "      <td>2021-11-22 00:00:00.0</td>\n",
              "    </tr>\n",
              "    <tr>\n",
              "      <th>...</th>\n",
              "      <td>...</td>\n",
              "      <td>...</td>\n",
              "      <td>...</td>\n",
              "      <td>...</td>\n",
              "      <td>...</td>\n",
              "      <td>...</td>\n",
              "    </tr>\n",
              "    <tr>\n",
              "      <th>2779138</th>\n",
              "      <td>PÚBLICO EM GERAL (18 a 59 anos)</td>\n",
              "      <td>3 - COMIRNATY (PFIZER)</td>\n",
              "      <td>2.0</td>\n",
              "      <td>DS 2: CNES: 6897029 - POLICLÍNICA SALOMÃO KELNER</td>\n",
              "      <td>Conecta Recife</td>\n",
              "      <td>2021-11-30 00:00:00.0</td>\n",
              "    </tr>\n",
              "    <tr>\n",
              "      <th>2779145</th>\n",
              "      <td>IDOSOS</td>\n",
              "      <td>3 - COMIRNATY (PFIZER)</td>\n",
              "      <td>2.0</td>\n",
              "      <td>DS 8: CNES: 0001198 - UBT ARISTARCHO DE AZEVEDO</td>\n",
              "      <td>Conecta Recife</td>\n",
              "      <td>2021-12-01 00:00:00.0</td>\n",
              "    </tr>\n",
              "    <tr>\n",
              "      <th>2779146</th>\n",
              "      <td>PÚBLICO EM GERAL (18 a 59 anos)</td>\n",
              "      <td>3 - COMIRNATY (PFIZER)</td>\n",
              "      <td>2.0</td>\n",
              "      <td>DS 2: CNES: 6897029 - POLICLÍNICA SALOMÃO KELNER</td>\n",
              "      <td>Conecta Recife</td>\n",
              "      <td>2021-11-30 00:00:00.0</td>\n",
              "    </tr>\n",
              "    <tr>\n",
              "      <th>2779148</th>\n",
              "      <td>PÚBLICO EM GERAL - MENOR DE 18 ANOS</td>\n",
              "      <td>3 - COMIRNATY (PFIZER)</td>\n",
              "      <td>2.0</td>\n",
              "      <td>DS 8: CNES: 0001198 - UBT ARISTARCHO DE AZEVEDO</td>\n",
              "      <td>Conecta Recife</td>\n",
              "      <td>2021-12-01 00:00:00.0</td>\n",
              "    </tr>\n",
              "    <tr>\n",
              "      <th>2779164</th>\n",
              "      <td>PÚBLICO EM GERAL - MENOR DE 18 ANOS</td>\n",
              "      <td>3 - COMIRNATY (PFIZER)</td>\n",
              "      <td>2.0</td>\n",
              "      <td>DS 8: CNES: 0001198 - UBT ARISTARCHO DE AZEVEDO</td>\n",
              "      <td>Conecta Recife</td>\n",
              "      <td>2021-12-01 00:00:00.0</td>\n",
              "    </tr>\n",
              "  </tbody>\n",
              "</table>\n",
              "<p>1155848 rows × 6 columns</p>\n",
              "</div>"
            ],
            "text/plain": [
              "                                        grupo  ...         data_vacinacao\n",
              "352                                    IDOSOS  ...  2021-02-09 00:00:00.0\n",
              "1088                                   IDOSOS  ...  2021-02-10 00:00:00.0\n",
              "1904                                   IDOSOS  ...  2021-02-12 00:00:00.0\n",
              "3314                                   IDOSOS  ...  2021-02-12 00:00:00.0\n",
              "15076                                  IDOSOS  ...  2021-11-22 00:00:00.0\n",
              "...                                       ...  ...                    ...\n",
              "2779138       PÚBLICO EM GERAL (18 a 59 anos)  ...  2021-11-30 00:00:00.0\n",
              "2779145                                IDOSOS  ...  2021-12-01 00:00:00.0\n",
              "2779146       PÚBLICO EM GERAL (18 a 59 anos)  ...  2021-11-30 00:00:00.0\n",
              "2779148   PÚBLICO EM GERAL - MENOR DE 18 ANOS  ...  2021-12-01 00:00:00.0\n",
              "2779164   PÚBLICO EM GERAL - MENOR DE 18 ANOS  ...  2021-12-01 00:00:00.0\n",
              "\n",
              "[1155848 rows x 6 columns]"
            ]
          },
          "metadata": {},
          "execution_count": 7
        }
      ]
    },
    {
      "cell_type": "code",
      "metadata": {
        "id": "3sRTAKK_Gp7Y"
      },
      "source": [
        "df = df.drop(['grupo','vacina_fabricante','descricao_dose','cnes','sistema_origem'], axis = 1)"
      ],
      "execution_count": null,
      "outputs": []
    },
    {
      "cell_type": "code",
      "metadata": {
        "id": "3iVki8UyGp_D"
      },
      "source": [
        "df['col']=1"
      ],
      "execution_count": null,
      "outputs": []
    },
    {
      "cell_type": "code",
      "metadata": {
        "id": "b4OnHOR3GqEw"
      },
      "source": [
        "df.data_vacinacao = pd.to_datetime(df.data_vacinacao)"
      ],
      "execution_count": null,
      "outputs": []
    },
    {
      "cell_type": "code",
      "metadata": {
        "id": "OiwvGkHQHFH6"
      },
      "source": [
        "df = df.sort_values('data_vacinacao')"
      ],
      "execution_count": null,
      "outputs": []
    },
    {
      "cell_type": "code",
      "metadata": {
        "id": "zLc2W5I2HFdh"
      },
      "source": [
        "df = df.groupby('data_vacinacao')"
      ],
      "execution_count": null,
      "outputs": []
    },
    {
      "cell_type": "code",
      "metadata": {
        "colab": {
          "base_uri": "https://localhost:8080/"
        },
        "id": "XH13e_c2HXAW",
        "outputId": "93f174fa-5f84-4a20-90fd-8231cbdd4097"
      },
      "source": [
        "df['col'].sum()"
      ],
      "execution_count": null,
      "outputs": [
        {
          "output_type": "execute_result",
          "data": {
            "text/plain": [
              "data_vacinacao\n",
              "2021-02-02       2\n",
              "2021-02-03       2\n",
              "2021-02-04       1\n",
              "2021-02-08       1\n",
              "2021-02-09     437\n",
              "              ... \n",
              "2021-11-27    5671\n",
              "2021-11-28    4780\n",
              "2021-11-29    4784\n",
              "2021-11-30    5570\n",
              "2021-12-01    5031\n",
              "Name: col, Length: 300, dtype: int64"
            ]
          },
          "metadata": {},
          "execution_count": 13
        }
      ]
    },
    {
      "cell_type": "code",
      "metadata": {
        "id": "74VKSRqeHXCn"
      },
      "source": [
        "newdf = pd.DataFrame(df['col'].sum())"
      ],
      "execution_count": null,
      "outputs": []
    },
    {
      "cell_type": "code",
      "metadata": {
        "colab": {
          "base_uri": "https://localhost:8080/",
          "height": 297
        },
        "id": "S8LBF_ENHXEk",
        "outputId": "8c37a261-7559-4a47-b086-2d41b5024dfb"
      },
      "source": [
        "newdf.plot()"
      ],
      "execution_count": null,
      "outputs": [
        {
          "output_type": "execute_result",
          "data": {
            "text/plain": [
              "<matplotlib.axes._subplots.AxesSubplot at 0x7f39de0519d0>"
            ]
          },
          "metadata": {},
          "execution_count": 15
        },
        {
          "output_type": "display_data",
          "data": {
            "image/png": "[encoded data removed]",
            "text/plain": [
              "<Figure size 432x288 with 1 Axes>"
            ]
          },
          "metadata": {
            "needs_background": "light"
          }
        }
      ]
    },
    {
      "cell_type": "code",
      "metadata": {
        "id": "KoHrxRXdHXHW"
      },
      "source": [
        "newdf['Frequência acumulativa absoluta'] = newdf['col'].cumsum()"
      ],
      "execution_count": null,
      "outputs": []
    },
    {
      "cell_type": "code",
      "metadata": {
        "id": "yfWVwkn7HXKq"
      },
      "source": [
        "newdf.drop('col', axis = 1, inplace=True)"
      ],
      "execution_count": null,
      "outputs": []
    },
    {
      "cell_type": "code",
      "metadata": {
        "colab": {
          "base_uri": "https://localhost:8080/",
          "height": 455
        },
        "id": "DhYcir7yHXMr",
        "outputId": "b0fd4071-b0f7-41d6-b007-6294588002f0"
      },
      "source": [
        "newdf"
      ],
      "execution_count": null,
      "outputs": [
        {
          "output_type": "execute_result",
          "data": {
            "text/html": [
              "<div>\n",
              "<style scoped>\n",
              "    .dataframe tbody tr th:only-of-type {\n",
              "        vertical-align: middle;\n",
              "    }\n",
              "\n",
              "    .dataframe tbody tr th {\n",
              "        vertical-align: top;\n",
              "    }\n",
              "\n",
              "    .dataframe thead th {\n",
              "        text-align: right;\n",
              "    }\n",
              "</style>\n",
              "<table border=\"1\" class=\"dataframe\">\n",
              "  <thead>\n",
              "    <tr style=\"text-align: right;\">\n",
              "      <th></th>\n",
              "      <th>Frequência acumulativa absoluta</th>\n",
              "    </tr>\n",
              "    <tr>\n",
              "      <th>data_vacinacao</th>\n",
              "      <th></th>\n",
              "    </tr>\n",
              "  </thead>\n",
              "  <tbody>\n",
              "    <tr>\n",
              "      <th>2021-02-02</th>\n",
              "      <td>2</td>\n",
              "    </tr>\n",
              "    <tr>\n",
              "      <th>2021-02-03</th>\n",
              "      <td>4</td>\n",
              "    </tr>\n",
              "    <tr>\n",
              "      <th>2021-02-04</th>\n",
              "      <td>5</td>\n",
              "    </tr>\n",
              "    <tr>\n",
              "      <th>2021-02-08</th>\n",
              "      <td>6</td>\n",
              "    </tr>\n",
              "    <tr>\n",
              "      <th>2021-02-09</th>\n",
              "      <td>443</td>\n",
              "    </tr>\n",
              "    <tr>\n",
              "      <th>...</th>\n",
              "      <td>...</td>\n",
              "    </tr>\n",
              "    <tr>\n",
              "      <th>2021-11-27</th>\n",
              "      <td>1135683</td>\n",
              "    </tr>\n",
              "    <tr>\n",
              "      <th>2021-11-28</th>\n",
              "      <td>1140463</td>\n",
              "    </tr>\n",
              "    <tr>\n",
              "      <th>2021-11-29</th>\n",
              "      <td>1145247</td>\n",
              "    </tr>\n",
              "    <tr>\n",
              "      <th>2021-11-30</th>\n",
              "      <td>1150817</td>\n",
              "    </tr>\n",
              "    <tr>\n",
              "      <th>2021-12-01</th>\n",
              "      <td>1155848</td>\n",
              "    </tr>\n",
              "  </tbody>\n",
              "</table>\n",
              "<p>300 rows × 1 columns</p>\n",
              "</div>"
            ],
            "text/plain": [
              "                Frequência acumulativa absoluta\n",
              "data_vacinacao                                 \n",
              "2021-02-02                                    2\n",
              "2021-02-03                                    4\n",
              "2021-02-04                                    5\n",
              "2021-02-08                                    6\n",
              "2021-02-09                                  443\n",
              "...                                         ...\n",
              "2021-11-27                              1135683\n",
              "2021-11-28                              1140463\n",
              "2021-11-29                              1145247\n",
              "2021-11-30                              1150817\n",
              "2021-12-01                              1155848\n",
              "\n",
              "[300 rows x 1 columns]"
            ]
          },
          "metadata": {},
          "execution_count": 18
        }
      ]
    },
    {
      "cell_type": "code",
      "metadata": {
        "colab": {
          "base_uri": "https://localhost:8080/",
          "height": 595
        },
        "id": "nI_xe_ikHnYf",
        "outputId": "6f3efe41-9049-4a28-b56a-919846814c31"
      },
      "source": [
        "\n",
        "plt.style.use('default')\n",
        "        \n",
        "fig1, ax1 = plt.subplots(figsize=(25,8))\n",
        "\n",
        "ax1.stackplot(newdf.index, newdf[\"Frequência acumulativa absoluta\"], color=\"C9\", alpha=0.5)\n",
        "ax1.set_ylabel(\"População\", color=\"black\", size=(30), fontfamily='default', labelpad=20)\n",
        "ax1.tick_params(axis=\"y\", colors=\"black\")\n",
        "ax1.set_xlabel(\"\", size=(30), fontfamily='default', labelpad=20)\n",
        "ax1.set_xticklabels(newdf[\"Frequência acumulativa absoluta\"], rotation=45, size=20)\n",
        "ax1.set_yticklabels(newdf[\"Frequência acumulativa absoluta\"], size=20)\n",
        "ax2 = ax1.twinx()\n",
        "\n",
        "ax2.set_xlabel('', size=(30), fontfamily='default', labelpad=20)\n",
        "ax2.set_ylabel('', size=(30), fontfamily='default', labelpad=20)\n",
        "ax2.set_title('(B)', size=(30), fontfamily='default')\n",
        "ax2.set_yticklabels(newdf[\"Frequência acumulativa absoluta\"], size=20)\n",
        "right_side = ax2.spines[\"right\"]\n",
        "right_side.set_visible(False)\n",
        "right_side = ax2.spines[\"top\"]\n",
        "right_side.set_visible(False)\n",
        "\n",
        "ax2.plot(newdf, color = 'red',linewidth=2.5,linestyle='solid', marker='_')\n",
        "ax2.yaxis.set_major_formatter(ticker.PercentFormatter(xmax=1661017))\n",
        "ax2.set_ylim(ymin=0)\n",
        "ax1.get_yaxis().set_major_formatter(\n",
        "    matplotlib.ticker.FuncFormatter(lambda x, p: format(int(x), '')))\n",
        "\n",
        "plt.show()\n",
        "plt.savefig('cumsumabsolutaMIC.png')\n"
      ],
      "execution_count": null,
      "outputs": [
        {
          "output_type": "display_data",
          "data": {
            "image/png": "[encoded data removed]",
            "text/plain": [
              "<Figure size 2500x800 with 2 Axes>"
            ]
          },
          "metadata": {}
        },
        {
          "output_type": "display_data",
          "data": {
            "text/plain": [
              "<Figure size 640x480 with 0 Axes>"
            ]
          },
          "metadata": {}
        }
      ]
    }
  ]
}